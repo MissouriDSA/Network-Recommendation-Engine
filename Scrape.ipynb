{
 "cells": [
  {
   "cell_type": "code",
   "execution_count": 129,
   "metadata": {
    "collapsed": true
   },
   "outputs": [],
   "source": [
    "import pandas as pd\n",
    "import numpy as np\n",
    "import pprint as pp\n",
    "import re, string\n",
    "from sklearn.feature_extraction.text import TfidfVectorizer\n",
    "from sklearn.metrics.pairwise import linear_kernel\n",
    "import praw"
   ]
  },
  {
   "cell_type": "code",
   "execution_count": 104,
   "metadata": {
    "collapsed": true
   },
   "outputs": [],
   "source": [
    "# https://praw.readthedocs.io/en/latest/getting_started/\n",
    "# https://www.reddit.com/dev/api/"
   ]
  },
  {
   "cell_type": "code",
   "execution_count": 105,
   "metadata": {},
   "outputs": [
    {
     "name": "stdout",
     "output_type": "stream",
     "text": [
      "True\n"
     ]
    }
   ],
   "source": [
    "r = praw.Reddit(client_id='',\n",
    "                     client_secret='',\n",
    "                     user_agent='reddit_matchmaker')\n",
    "\n",
    "print(r.read_only)"
   ]
  },
  {
   "cell_type": "code",
   "execution_count": 106,
   "metadata": {
    "scrolled": false
   },
   "outputs": [],
   "source": [
    "def getThreads(subreddit, limit = 3):\n",
    "    thread_ids = []\n",
    "    \n",
    "    for t in subreddit.hot(limit = limit):\n",
    "        thread_ids.append(t.id)\n",
    "    \n",
    "    return(thread_ids)"
   ]
  },
  {
   "cell_type": "code",
   "execution_count": 117,
   "metadata": {},
   "outputs": [],
   "source": [
    "def getUsersFromSubreddit(subredditIds):\n",
    "    if(len(subredditIds) < 1):\n",
    "        return()\n",
    "\n",
    "    usernames = []\n",
    "\n",
    "    for thread_id in subredditIds:\n",
    "        thread = r.submission(id = thread_id)\n",
    "        username = thread.author.name\n",
    "        if (username not in usernames):\n",
    "            usernames.append(username)\n",
    "    return(usernames)      "
   ]
  },
  {
   "cell_type": "code",
   "execution_count": 108,
   "metadata": {
    "collapsed": true
   },
   "outputs": [],
   "source": [
    "def cleanText(text):\n",
    "    text = text.replace(',', ' ').replace(':', ' ')\\\n",
    "                .replace('...', ' ')\\\n",
    "                .replace('?', ' ')\\\n",
    "                .replace('!', ' ')\\\n",
    "                .replace(';', ' ')\\\n",
    "                .replace('\\n', ' ').replace('\\r', '') # replace newlines and page breaks     \n",
    "                \n",
    "    text = re.sub(r'([^\\s\\w]|_)+', '', text) # remove non-alphanumeric characters but leave the spaces\n",
    "    text = re.sub(' +',' ', text) # remove double spaces        \n",
    "    return(text)"
   ]
  },
  {
   "cell_type": "code",
   "execution_count": 109,
   "metadata": {},
   "outputs": [],
   "source": [
    "def getUserComments(username):\n",
    "    userComments = []\n",
    "    user = r.redditor(username)\n",
    "\n",
    "    # new comments\n",
    "    for c in user.comments.new(limit = 3):        \n",
    "        comment = cleanText(c.body)        \n",
    "        if (comment not in userComments):\n",
    "            userComments.append(comment)\n",
    "    \n",
    "    # hot comments\n",
    "    for c in user.comments.hot(limit = 3):        \n",
    "        comment = cleanText(c.body)        \n",
    "        if (comment not in userComments):\n",
    "            userComments.append(comment)\n",
    "\n",
    "    # hot comments\n",
    "    for c in user.comments.controversial(limit = 3):        \n",
    "        comment = cleanText(c.body)     \n",
    "        if (comment not in userComments):\n",
    "            userComments.append(comment)\n",
    "        \n",
    "    return(userComments)"
   ]
  },
  {
   "cell_type": "code",
   "execution_count": 140,
   "metadata": {},
   "outputs": [],
   "source": [
    "def scrapeCommentsFromSubreddit(subreddit):\n",
    "    \n",
    "    UserArray = []\n",
    "    CommentArray = []\n",
    "        \n",
    "    sub = r.subreddit(subreddit)\n",
    "    threads = getThreads(sub)\n",
    "    users = getUsersFromSubreddit(threads)\n",
    "    for user in users:        \n",
    "        userComments = getUserComments(user)\n",
    "        userComments = \".\".join(userComments)\n",
    "        UserArray.append(user)\n",
    "        CommentArray.append(userComments)      \n",
    "        \n",
    "    df = pd.DataFrame(UserArray, columns = [\"Username\"])\n",
    "    df[\"Comments\"] = CommentArray\n",
    "    \n",
    "    print(len(df))    \n",
    "    return(df)"
   ]
  },
  {
   "cell_type": "code",
   "execution_count": 141,
   "metadata": {},
   "outputs": [
    {
     "name": "stdout",
     "output_type": "stream",
     "text": [
      "2\n"
     ]
    }
   ],
   "source": [
    "consulting = scrapeCommentsFromSubreddit(\"consulting\")"
   ]
  },
  {
   "cell_type": "code",
   "execution_count": 142,
   "metadata": {},
   "outputs": [
    {
     "data": {
      "text/html": [
       "<div>\n",
       "<style>\n",
       "    .dataframe thead tr:only-child th {\n",
       "        text-align: right;\n",
       "    }\n",
       "\n",
       "    .dataframe thead th {\n",
       "        text-align: left;\n",
       "    }\n",
       "\n",
       "    .dataframe tbody tr th {\n",
       "        vertical-align: top;\n",
       "    }\n",
       "</style>\n",
       "<table border=\"1\" class=\"dataframe\">\n",
       "  <thead>\n",
       "    <tr style=\"text-align: right;\">\n",
       "      <th></th>\n",
       "      <th>Username</th>\n",
       "      <th>Comments</th>\n",
       "    </tr>\n",
       "  </thead>\n",
       "  <tbody>\n",
       "    <tr>\n",
       "      <th>0</th>\n",
       "      <td>QiuYiDio</td>\n",
       "      <td>Dark well fitting suit Doesnt need to be espec...</td>\n",
       "    </tr>\n",
       "    <tr>\n",
       "      <th>1</th>\n",
       "      <td>totezenguy</td>\n",
       "      <td>Yeah man Im 6 months in already and have a yea...</td>\n",
       "    </tr>\n",
       "  </tbody>\n",
       "</table>\n",
       "</div>"
      ],
      "text/plain": [
       "     Username                                           Comments\n",
       "0    QiuYiDio  Dark well fitting suit Doesnt need to be espec...\n",
       "1  totezenguy  Yeah man Im 6 months in already and have a yea..."
      ]
     },
     "execution_count": 142,
     "metadata": {},
     "output_type": "execute_result"
    }
   ],
   "source": [
    "consulting.head()"
   ]
  },
  {
   "cell_type": "code",
   "execution_count": 143,
   "metadata": {},
   "outputs": [
    {
     "data": {
      "text/plain": [
       "2"
      ]
     },
     "execution_count": 143,
     "metadata": {},
     "output_type": "execute_result"
    }
   ],
   "source": [
    "corpus = []\n",
    "consulting[\"Comments\"].apply(lambda row: corpus.append(str(row)))\n",
    "len(corpus)"
   ]
  },
  {
   "cell_type": "code",
   "execution_count": 145,
   "metadata": {
    "collapsed": true
   },
   "outputs": [],
   "source": [
    "def find_similar(matrix, index, top_n = 10):\n",
    "    cosine_similarities = linear_kernel(matrix[index: index + 1], matrix).flatten()\n",
    "    related_docs_indices = [i for i in cosine_similarities.argsort()[::-1] if i != index]\n",
    "    return [(index, cosine_similarities[index]) for index in related_docs_indices][0:top_n]"
   ]
  },
  {
   "cell_type": "code",
   "execution_count": 152,
   "metadata": {
    "collapsed": true
   },
   "outputs": [],
   "source": [
    "def findMatches(your_username, subreddit):\n",
    "    corpus = []\n",
    "    corpusDf = scrapeCommentsFromSubreddit(subreddit)\n",
    "    corpusDf[\"Comments\"].apply(lambda row: corpus.append(str(row)))\n",
    "    \n",
    "    your_comments = getUserComments(your_username)\n",
    "    your_comments = \".\".join(your_comments)\n",
    "    \n",
    "    corpus.insert(0, your_comments)\n",
    "    print(corpus[0][:500])\n",
    "    \n",
    "    print(\"=====\")\n",
    "    \n",
    "    tf = TfidfVectorizer(analyzer = \"word\", \n",
    "                            ngram_range = (1, 3),\n",
    "                            min_df = 0, \n",
    "                            stop_words = \"english\")\n",
    "    \n",
    "    matrix = tf.fit_transform(corpus)\n",
    "    for index, score in find_similar(matrix, 0):\n",
    "        print(index, score, corpus[index][:2000])\n",
    "        print(\"===================\")"
   ]
  },
  {
   "cell_type": "code",
   "execution_count": 153,
   "metadata": {},
   "outputs": [
    {
     "name": "stdout",
     "output_type": "stream",
     "text": [
      "2\n",
      "So basicallyadd value to the companys bottom line see the bigger picture and go beyond your job description Did that understand that correctly .Would you say the MBA accelerated your path or would you have gone into a leadership role anyway .Sounds like a constraint optimization problem Look up Operations Research on nursing capacity.RIGHT I thought I was the only one I kept telling myself that itll get better and then I realized were only 1 ep from season finale Im like uh that was it .This que\n",
      "=====\n",
      "2 0.0325739025266 Yeah man Im 6 months in already and have a year to go I got my PMP took a course on BI and liberally use my jet pack to drive around and maintain VPN Im focused on health and mindfulness but Im on diminishing marginal returns Ive hit some epic audiobooks while driving studied systems science beefed up accounting knowledge read a bunch of strategy books became a charity board member started a PMO mentorship programmer non profits Still fucking bored.I am a consultant I do have a personal development plan with 12510 goals strategy and rough plan Im really seeing if there was anything out there I may be missing or should be considering.Awesome thanks.I get it This job has made me lose faith in American Industry Id rather be more busy TBH but trying to make the most out of a boring but amazing situation.Generally its a sign of despair In feeling powerless they hold a tool meant really only for killing Its their way of feeling Ike they wield power I lived in the worst rural area in the country for a few years and these dudes would have little toy dogs in their laps driving gigantic trucks with gun racks and NRA stickers The want to have the smallest subject that theyre taking care of Another view Ive heard is people who lack meaning in their lives are waiting for their hero moment Basically when the time comes they want to be ready because their life is unrewarding As a consequence of this they become more isolated as people who regularly carry guns generally have a much more negative outlook on the world and view themselves as some messianic hero meant to slay the people he doesnt like This turns into a reinforcing system to where they withdraw and become less and less involved in society and prone to conspiracy theories as gun obsession is generally a Negative Thing in life I have 2 guns A shotgun for sporting clays and a 22 from the 70s from a ducks unlimited raffle I can use my shotgun for self defense if I ever needed to I wont but this type of hoarding is most like\n",
      "===================\n",
      "1 0.0133700548369 Dark well fitting suit Doesnt need to be especially fashionable and runway slim is not the way to go.Unless you work in an industry where that is commonly acknowledged then no Even that would just be a nicer kicker as opposed to being specifically useful .Dont forget the third option which often works for many companies lease .Or it could just be like a regular people happy hour p.You have your experiences and I have mine I havent been in consulting quite as long but close enough So well have to agree to disagree If anything it shows consulting firms are large places where such people as you and I may never cross paths.If you have the capacity to do this financially especially then why not You have a guaranteed path forward and one year isnt going to make a huge difference in the big picture And worst case you dont have to take a full year \n",
      "===================\n"
     ]
    }
   ],
   "source": [
    "findMatches(\"ohai123456789\", \"consulting\")"
   ]
  },
  {
   "cell_type": "code",
   "execution_count": null,
   "metadata": {
    "collapsed": true
   },
   "outputs": [],
   "source": []
  }
 ],
 "metadata": {
  "kernelspec": {
   "display_name": "Python 3",
   "language": "python",
   "name": "python3"
  },
  "language_info": {
   "codemirror_mode": {
    "name": "ipython",
    "version": 3
   },
   "file_extension": ".py",
   "mimetype": "text/x-python",
   "name": "python",
   "nbconvert_exporter": "python",
   "pygments_lexer": "ipython3",
   "version": "3.6.1"
  }
 },
 "nbformat": 4,
 "nbformat_minor": 2
}
