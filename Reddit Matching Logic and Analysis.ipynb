{
 "cells": [
  {
   "cell_type": "code",
   "execution_count": 1,
   "metadata": {},
   "outputs": [
    {
     "name": "stderr",
     "output_type": "stream",
     "text": [
      "C:\\Users\\Jacky Zhao\\Anaconda3\\lib\\site-packages\\nltk\\twitter\\__init__.py:20: UserWarning: The twython library has not been installed. Some functionality from the twitter package will not be available.\n",
      "  warnings.warn(\"The twython library has not been installed. \"\n"
     ]
    }
   ],
   "source": [
    "import pandas as pd\n",
    "import numpy as np\n",
    "import pprint as pp\n",
    "import re, string\n",
    "import time\n",
    "import seaborn as sns\n",
    "from sklearn.feature_extraction.text import TfidfVectorizer\n",
    "from sklearn.metrics.pairwise import linear_kernel\n",
    "import praw\n",
    "from datetime import datetime\n",
    "import nltk\n",
    "from nltk.corpus import stopwords\n",
    "from sklearn.feature_extraction import text \n",
    "from nltk.classify import NaiveBayesClassifier\n",
    "from nltk.corpus import subjectivity\n",
    "from nltk.sentiment.vader import SentimentIntensityAnalyzer\n",
    "import matplotlib.pyplot as plt\n",
    "from nltk.stem import PorterStemmer\n",
    "import json \n",
    "import math\n",
    "from scipy.cluster.hierarchy import ward, dendrogram\n",
    "from sklearn.metrics.pairwise import cosine_similarity\n",
    "import matplotlib.dates as mdates\n",
    "\n",
    "#some ipython magic to show the matplotlib plots inline\n",
    "%matplotlib inline \n",
    "\n",
    "# set seaborn settings\n",
    "sns.set()\n",
    "plt.rcParams[\"patch.force_edgecolor\"] = True # set lines\n",
    "plt.style.use('seaborn-darkgrid')\n",
    "\n",
    "\n",
    "import warnings\n",
    "warnings.filterwarnings('ignore')\n",
    "\n",
    "# import credentials and helper functions\n",
    "import credentials as creds\n",
    "import helpers as h"
   ]
  },
  {
   "cell_type": "markdown",
   "metadata": {
    "collapsed": true
   },
   "source": [
    "#### API AND LIBRARY DOCUMENTATIONS:\n",
    "* https://praw.readthedocs.io/en/latest/\n",
    "* https://www.reddit.com/wiki/api"
   ]
  },
  {
   "cell_type": "markdown",
   "metadata": {},
   "source": [
    "## Instantiate Reddit"
   ]
  },
  {
   "cell_type": "code",
   "execution_count": 2,
   "metadata": {
    "collapsed": true
   },
   "outputs": [],
   "source": [
    "# pulling my client id and api secret key from my credentials file (not in repository)\n",
    "# feel free to use your own client id and client secret key\n",
    "CLIENT_ID = creds.client_id() \n",
    "CLIENT_SECRET_KEY = creds.client_secret_key()\n",
    "\n",
    "\n",
    "r = praw.Reddit(client_id = CLIENT_ID,\n",
    "                client_secret = CLIENT_SECRET_KEY,\n",
    "                user_agent = 'RedditorMatch')"
   ]
  },
  {
   "cell_type": "markdown",
   "metadata": {},
   "source": [
    "Unfortunately, it takes quite some time to retrieve user comments from a particular subreddit. Remember, we're going into a specified subreddit, finding a list of users who posted, and then scraping out every single comment that those users made in the past. In order to remove this bottleneck from my demonstration, I have scraped the comments from users who have posted on r/mizzou. \n",
    "\n",
    "If you want to try out other subreddits, I have also scraped r/columbia, r/uofm, and r/chicago. Just replace \"mizzou\" with any of those subreddits. "
   ]
  },
  {
   "cell_type": "markdown",
   "metadata": {},
   "source": [
    "## Recommendation engine logic"
   ]
  },
  {
   "cell_type": "code",
   "execution_count": 3,
   "metadata": {
    "collapsed": true
   },
   "outputs": [],
   "source": [
    "def find_similar(matrix, index, top_n = 6):\n",
    "    cosine_similarities = linear_kernel(matrix[index: index + 1], matrix).flatten()\n",
    "    related_docs_indices = [i for i in cosine_similarities.argsort()[::-1] if i != index]\n",
    "    return [(index, cosine_similarities[index]) for index in related_docs_indices][0:top_n]"
   ]
  },
  {
   "cell_type": "code",
   "execution_count": 4,
   "metadata": {
    "collapsed": true
   },
   "outputs": [],
   "source": [
    "def getDf(subreddit_name):\n",
    "    # the following scraped files are available for now: mizzou.csv, columbia.csv, umich.csv, and chicago.csv\n",
    "    filePath = \"data/\" + subreddit_name + \".csv\"\n",
    "    df = pd.read_csv(filePath, encoding = \"ISO-8859-1\")\n",
    "    print(\"--- Retrieved\", len(df), \"corpuses for r/\", subreddit_name)\n",
    "    return(df)"
   ]
  },
  {
   "cell_type": "code",
   "execution_count": 5,
   "metadata": {
    "collapsed": true
   },
   "outputs": [],
   "source": [
    "def stem(corpus):\n",
    "    newCorpus = []\n",
    "    print(\"------ Stemming the words\")\n",
    "    \n",
    "    stemmer = PorterStemmer()\n",
    "    \n",
    "    for c in corpus:\n",
    "        try:\n",
    "            tokens = nltk.word_tokenize(c)\n",
    "            \n",
    "            new_tokens = []\n",
    "            \n",
    "            for t in tokens:\n",
    "                try:\n",
    "                    new_t = stemmer.stem(t)\n",
    "                    new_tokens.append(new_t)          \n",
    "                except:\n",
    "                    print(\"can't stem the word. moving on...\")\n",
    "\n",
    "            new_c = ' '.join(new_tokens)\n",
    "            newCorpus.append(new_c)\n",
    "                \n",
    "        except:\n",
    "            print(\"skipping the comment. something went wrong...\")\n",
    "        \n",
    "    return(newCorpus)"
   ]
  },
  {
   "cell_type": "code",
   "execution_count": 6,
   "metadata": {
    "collapsed": true
   },
   "outputs": [],
   "source": [
    "def createCorpus(your_username, subreddit_name, redditInstance):\n",
    "    corpus = []    \n",
    "    corpusDf = getDf(subreddit_name)\n",
    "    corpusDf[\"Comments\"].apply(lambda row: corpus.append(str(row)))\n",
    "    \n",
    "    corpus = stem(corpus)\n",
    "    \n",
    "    your_comments = h.getUserComments(your_username, redditInstance)\n",
    "    your_comments = stem(your_comments)    \n",
    "    your_comments = \" \".join(your_comments)\n",
    "    \n",
    "    corpus.insert(0, your_comments)\n",
    "    return(corpus)"
   ]
  },
  {
   "cell_type": "code",
   "execution_count": 7,
   "metadata": {
    "collapsed": true
   },
   "outputs": [],
   "source": [
    "def createTfidfMatrix(corpus):\n",
    "    myStopWords = stopwords.words('english')\n",
    "    myStopWords = text.ENGLISH_STOP_WORDS.union(myStopWords)\n",
    "    \n",
    "    print(\"--- Creating Tfidf vectorizor...\")\n",
    "    tf = TfidfVectorizer(analyzer = \"word\", max_df = 0.8, min_df = 0.2, \n",
    "                            ngram_range = (1, 3),\n",
    "                            stop_words = myStopWords)\n",
    "    \n",
    "    print(\"--- Fitting the matrix...\")\n",
    "    matrix = tf.fit_transform(corpus)\n",
    "    return(matrix)"
   ]
  },
  {
   "cell_type": "code",
   "execution_count": 8,
   "metadata": {
    "collapsed": true
   },
   "outputs": [],
   "source": [
    "def findMatches(your_username, subreddit_name, redditInstance):    \n",
    "    corpus = createCorpus(your_username, subreddit_name, redditInstance)\n",
    "    matrix = createTfidfMatrix(corpus)\n",
    "    corpusDf = getDf(subreddit_name)\n",
    "    \n",
    "    results = []\n",
    "    \n",
    "    for index, score in find_similar(matrix, 0):        \n",
    "        index = index - 1 # because we prepended our comments onto the corpus, the index number was shifted by 1.\n",
    "        user = corpusDf.iloc[index, 0]\n",
    "        results.append(user)\n",
    "        print(\"...\")\n",
    "        print(\"...\")\n",
    "        print(\"Username:\", user, \"| Score:\", score)\n",
    "        print(\"=========================================================\")\n",
    "        \n",
    "    return(results)"
   ]
  },
  {
   "cell_type": "markdown",
   "metadata": {},
   "source": [
    "### Example:"
   ]
  },
  {
   "cell_type": "code",
   "execution_count": 9,
   "metadata": {},
   "outputs": [
    {
     "name": "stdout",
     "output_type": "stream",
     "text": [
      "--- Retrieved 288 corpuses for r/ mizzou\n",
      "------ Stemming the words\n",
      "------ Retrieved 1872 comments for: Max_W_\n",
      "------ Stemming the words\n",
      "--- Creating Tfidf vectorizor...\n",
      "--- Fitting the matrix...\n",
      "--- Retrieved 288 corpuses for r/ mizzou\n",
      "...\n",
      "...\n",
      "Username: Max_W_ | Score: 0.988665357434\n",
      "=========================================================\n",
      "...\n",
      "...\n",
      "Username: BrettGilpin | Score: 0.566912555722\n",
      "=========================================================\n",
      "...\n",
      "...\n",
      "Username: EveryTrueSon | Score: 0.555348348625\n",
      "=========================================================\n",
      "...\n",
      "...\n",
      "Username: Apatches | Score: 0.550362479451\n",
      "=========================================================\n",
      "...\n",
      "...\n",
      "Username: BransonBombshell | Score: 0.55017484834\n",
      "=========================================================\n",
      "...\n",
      "...\n",
      "Username: SovreignTripod | Score: 0.545611026436\n",
      "=========================================================\n"
     ]
    }
   ],
   "source": [
    "# NOTE: I'm displaying the top 6 usernames who are similar. \n",
    "# I chose 6 because if the username is contained in my scraped dataset, \n",
    "# then that username will always show up as most similar. \n",
    "# But we really only care about the top 5 usernames. \n",
    "\n",
    "matches = findMatches(\"Max_W_\", \"mizzou\", r)"
   ]
  },
  {
   "cell_type": "markdown",
   "metadata": {},
   "source": [
    "## Gather user information"
   ]
  },
  {
   "cell_type": "code",
   "execution_count": 10,
   "metadata": {
    "collapsed": true
   },
   "outputs": [],
   "source": [
    "def getRedditorInfo(redditor_name, r):\n",
    "    user = r.redditor(redditor_name)\n",
    "    top = user.comments.top(limit = 1000)\n",
    "    hot = user.comments.hot(limit = 1000)\n",
    "    contro = user.comments.controversial(limit = 1000)\n",
    "    \n",
    "    subreddit = []\n",
    "    comment = []\n",
    "    created_utc = []\n",
    "    score = []\n",
    "    ups = []\n",
    "    downs = []\n",
    "    controversiality = []\n",
    "    flair = []\n",
    "    gilded = []\n",
    "    over_18 = []\n",
    "    link = []\n",
    "    \n",
    "    for c in top:\n",
    "        subreddit.append(c.subreddit_name_prefixed)\n",
    "        comment.append(h.cleanText(c.body))\n",
    "        \n",
    "        parsed_date = datetime.utcfromtimestamp(c.created_utc)\n",
    "        year = parsed_date.year\n",
    "        month = parsed_date.month\n",
    "        day = parsed_date.day\n",
    "        \n",
    "        created_utc.append(parsed_date)\n",
    "        score.append(c.score)\n",
    "        ups.append(c.ups)\n",
    "        downs.append(c.downs)\n",
    "        controversiality.append(c.controversiality)\n",
    "        flair.append(c.author_flair_text)\n",
    "        gilded.append(c.gilded)\n",
    "        over_18.append(c.over_18)\n",
    "        link.append(c.link_permalink)\n",
    "        \n",
    "    for c in hot:\n",
    "        subreddit.append(c.subreddit_name_prefixed)\n",
    "        comment.append(h.cleanText(c.body))\n",
    "        \n",
    "        parsed_date = datetime.utcfromtimestamp(c.created_utc)\n",
    "        year = parsed_date.year\n",
    "        month = parsed_date.month\n",
    "        day = parsed_date.day\n",
    "        \n",
    "        created_utc.append(parsed_date)\n",
    "        score.append(c.score)\n",
    "        ups.append(c.ups)\n",
    "        downs.append(c.downs)\n",
    "        controversiality.append(c.controversiality)\n",
    "        flair.append(c.author_flair_text)\n",
    "        gilded.append(c.gilded)\n",
    "        over_18.append(c.over_18)\n",
    "        link.append(c.link_permalink)\n",
    "        \n",
    "    for c in contro:\n",
    "        subreddit.append(c.subreddit_name_prefixed)\n",
    "        comment.append(h.cleanText(c.body))\n",
    "        \n",
    "        parsed_date = datetime.utcfromtimestamp(c.created_utc)\n",
    "        year = parsed_date.year\n",
    "        month = parsed_date.month\n",
    "        day = parsed_date.day\n",
    "        \n",
    "        created_utc.append(parsed_date)\n",
    "        score.append(c.score)\n",
    "        ups.append(c.ups)\n",
    "        downs.append(c.downs)\n",
    "        controversiality.append(c.controversiality)\n",
    "        flair.append(c.author_flair_text)\n",
    "        gilded.append(c.gilded)\n",
    "        over_18.append(c.over_18)\n",
    "        link.append(c.link_permalink)\n",
    "        \n",
    "    df = pd.DataFrame(subreddit, columns = [\"subreddit\"])\n",
    "    df[\"comment\"] = comment\n",
    "    df[\"created_utc\"] = created_utc\n",
    "    df[\"score\"] = score\n",
    "    df[\"ups\"] = ups\n",
    "    df[\"downs\"] = downs\n",
    "    df[\"controversiality\"] = controversiality\n",
    "    df[\"flair\"] = flair\n",
    "    df[\"gilded\"] = gilded\n",
    "    df[\"over_18\"] = over_18\n",
    "    df[\"link\"] = link\n",
    "    \n",
    "    df = df.drop_duplicates(subset = [\"comment\"], keep = \"first\")    \n",
    "    print(\"Retrieved\", len(df), \"comments for user:\", redditor_name)\n",
    "    return(df)"
   ]
  },
  {
   "cell_type": "markdown",
   "metadata": {},
   "source": [
    "### Examples"
   ]
  },
  {
   "cell_type": "code",
   "execution_count": 11,
   "metadata": {},
   "outputs": [
    {
     "name": "stdout",
     "output_type": "stream",
     "text": [
      "Retrieved 2413 comments for user: Max_W_\n",
      "Retrieved 2838 comments for user: BrettGilpin\n"
     ]
    }
   ],
   "source": [
    "comments1 = getRedditorInfo(\"Max_W_\", r)\n",
    "comments2 = getRedditorInfo(\"BrettGilpin\", r)"
   ]
  },
  {
   "cell_type": "code",
   "execution_count": 12,
   "metadata": {},
   "outputs": [
    {
     "data": {
      "text/html": [
       "<div>\n",
       "<style>\n",
       "    .dataframe thead tr:only-child th {\n",
       "        text-align: right;\n",
       "    }\n",
       "\n",
       "    .dataframe thead th {\n",
       "        text-align: left;\n",
       "    }\n",
       "\n",
       "    .dataframe tbody tr th {\n",
       "        vertical-align: top;\n",
       "    }\n",
       "</style>\n",
       "<table border=\"1\" class=\"dataframe\">\n",
       "  <thead>\n",
       "    <tr style=\"text-align: right;\">\n",
       "      <th></th>\n",
       "      <th>subreddit</th>\n",
       "      <th>comment</th>\n",
       "      <th>created_utc</th>\n",
       "      <th>score</th>\n",
       "      <th>ups</th>\n",
       "      <th>downs</th>\n",
       "      <th>controversiality</th>\n",
       "      <th>flair</th>\n",
       "      <th>gilded</th>\n",
       "      <th>over_18</th>\n",
       "      <th>link</th>\n",
       "    </tr>\n",
       "  </thead>\n",
       "  <tbody>\n",
       "    <tr>\n",
       "      <th>0</th>\n",
       "      <td>r/EnoughTrumpSpam</td>\n",
       "      <td>Can we start a petition to keep them private</td>\n",
       "      <td>2017-05-20 02:22:38</td>\n",
       "      <td>8561</td>\n",
       "      <td>8561</td>\n",
       "      <td>0</td>\n",
       "      <td>0</td>\n",
       "      <td>None</td>\n",
       "      <td>1</td>\n",
       "      <td>False</td>\n",
       "      <td>https://www.reddit.com/r/EnoughTrumpSpam/comme...</td>\n",
       "    </tr>\n",
       "    <tr>\n",
       "      <th>1</th>\n",
       "      <td>r/AskReddit</td>\n",
       "      <td>Two down one to go</td>\n",
       "      <td>2018-03-09 05:00:25</td>\n",
       "      <td>5552</td>\n",
       "      <td>5552</td>\n",
       "      <td>0</td>\n",
       "      <td>0</td>\n",
       "      <td>None</td>\n",
       "      <td>0</td>\n",
       "      <td>False</td>\n",
       "      <td>https://www.reddit.com/r/AskReddit/comments/83...</td>\n",
       "    </tr>\n",
       "    <tr>\n",
       "      <th>2</th>\n",
       "      <td>r/cringe</td>\n",
       "      <td>Lets applaud her dancers They continued on lik...</td>\n",
       "      <td>2017-01-01 05:24:43</td>\n",
       "      <td>3838</td>\n",
       "      <td>3838</td>\n",
       "      <td>0</td>\n",
       "      <td>0</td>\n",
       "      <td>None</td>\n",
       "      <td>0</td>\n",
       "      <td>False</td>\n",
       "      <td>https://www.reddit.com/r/cringe/comments/5ldm3...</td>\n",
       "    </tr>\n",
       "    <tr>\n",
       "      <th>3</th>\n",
       "      <td>r/AskReddit</td>\n",
       "      <td>What do you do when you come across an elephan...</td>\n",
       "      <td>2018-03-09 02:49:12</td>\n",
       "      <td>1969</td>\n",
       "      <td>1969</td>\n",
       "      <td>0</td>\n",
       "      <td>0</td>\n",
       "      <td>None</td>\n",
       "      <td>0</td>\n",
       "      <td>True</td>\n",
       "      <td>https://www.reddit.com/r/AskReddit/comments/83...</td>\n",
       "    </tr>\n",
       "    <tr>\n",
       "      <th>4</th>\n",
       "      <td>r/LivestreamFail</td>\n",
       "      <td>She threatened nuclear war with North Korea</td>\n",
       "      <td>2017-11-03 03:50:02</td>\n",
       "      <td>1777</td>\n",
       "      <td>1777</td>\n",
       "      <td>0</td>\n",
       "      <td>0</td>\n",
       "      <td>None</td>\n",
       "      <td>0</td>\n",
       "      <td>False</td>\n",
       "      <td>https://www.reddit.com/r/LivestreamFail/commen...</td>\n",
       "    </tr>\n",
       "  </tbody>\n",
       "</table>\n",
       "</div>"
      ],
      "text/plain": [
       "           subreddit                                            comment  \\\n",
       "0  r/EnoughTrumpSpam      Can we start a petition to keep them private    \n",
       "1        r/AskReddit                                 Two down one to go   \n",
       "2           r/cringe  Lets applaud her dancers They continued on lik...   \n",
       "3        r/AskReddit  What do you do when you come across an elephan...   \n",
       "4   r/LivestreamFail        She threatened nuclear war with North Korea   \n",
       "\n",
       "          created_utc  score   ups  downs  controversiality flair  gilded  \\\n",
       "0 2017-05-20 02:22:38   8561  8561      0                 0  None       1   \n",
       "1 2018-03-09 05:00:25   5552  5552      0                 0  None       0   \n",
       "2 2017-01-01 05:24:43   3838  3838      0                 0  None       0   \n",
       "3 2018-03-09 02:49:12   1969  1969      0                 0  None       0   \n",
       "4 2017-11-03 03:50:02   1777  1777      0                 0  None       0   \n",
       "\n",
       "   over_18                                               link  \n",
       "0    False  https://www.reddit.com/r/EnoughTrumpSpam/comme...  \n",
       "1    False  https://www.reddit.com/r/AskReddit/comments/83...  \n",
       "2    False  https://www.reddit.com/r/cringe/comments/5ldm3...  \n",
       "3     True  https://www.reddit.com/r/AskReddit/comments/83...  \n",
       "4    False  https://www.reddit.com/r/LivestreamFail/commen...  "
      ]
     },
     "execution_count": 12,
     "metadata": {},
     "output_type": "execute_result"
    }
   ],
   "source": [
    "comments1.head()"
   ]
  },
  {
   "cell_type": "markdown",
   "metadata": {},
   "source": [
    "## Find common subreddits between 2 users"
   ]
  },
  {
   "cell_type": "code",
   "execution_count": 13,
   "metadata": {
    "collapsed": true
   },
   "outputs": [],
   "source": [
    "def commonSubreddits(user1, user2, redditInstance):\n",
    "    \n",
    "    df1 = getRedditorInfo(user1, redditInstance)\n",
    "    df2 = getRedditorInfo(user2, redditInstance)\n",
    "    \n",
    "    df1 = df1.groupby([\"subreddit\"])[['comment']]\\\n",
    "                .count().reset_index()\\\n",
    "                .sort_values([\"comment\"], ascending = False)\n",
    "            \n",
    "    df2 = df2.groupby([\"subreddit\"])[['comment']]\\\n",
    "            .count().reset_index()\\\n",
    "            .sort_values([\"comment\"], ascending = False)\n",
    "            \n",
    "    df1 = df1.merge(df2, on = \"subreddit\", how = \"inner\")[\"subreddit\"]\n",
    "    result = np.array(df1)\n",
    "    \n",
    "    return(result)"
   ]
  },
  {
   "cell_type": "code",
   "execution_count": 14,
   "metadata": {
    "collapsed": true
   },
   "outputs": [],
   "source": [
    "def commonSubredditCounts(user1, user2, redditInstance):\n",
    "    \n",
    "    common = commonSubreddits(user1, user2, redditInstance)  \n",
    "    print(len(common), \"common subreddits found...\")\n",
    "    \n",
    "    df1 = getRedditorInfo(user1, redditInstance)\n",
    "    df2 = getRedditorInfo(user2, redditInstance)\n",
    "    \n",
    "    df1 = df1[df1[\"subreddit\"].isin(common)]\n",
    "    df2 = df2[df2[\"subreddit\"].isin(common)]\n",
    "        \n",
    "    df1Counts = df1.groupby([\"subreddit\"])[['comment']]\\\n",
    "                .count().reset_index()\\\n",
    "                .sort_values([\"comment\"], ascending = False)\\\n",
    "                .reset_index(drop = True)\n",
    "                \n",
    "    df2Counts = df2.groupby([\"subreddit\"])[['comment']]\\\n",
    "            .count().reset_index()\\\n",
    "            .sort_values([\"comment\"], ascending = False)\\\n",
    "            .reset_index(drop = True)      \n",
    "            \n",
    "    renameCols = [\"id\", \"value\"]\n",
    "            \n",
    "    df1Counts.columns = renameCols\n",
    "    df2Counts.columns = renameCols\n",
    "    \n",
    "    df1Counts[\"id\"] = df1Counts[\"id\"].str.lower()\n",
    "    df2Counts[\"id\"] = df2Counts[\"id\"].str.lower()\n",
    "    \n",
    "    df1Counts[\"id\"] = df1Counts[\"id\"].str.replace(\"r/\", \"\")\n",
    "    df2Counts[\"id\"] = df2Counts[\"id\"].str.replace(\"r/\", \"\")\n",
    "    \n",
    "    df1Counts = df1Counts.sort_values(by = [\"id\"], ascending = True).reset_index()\n",
    "    df2Counts = df2Counts.sort_values(by = [\"id\"], ascending = True).reset_index()    \n",
    "    \n",
    "                \n",
    "    return(df1Counts, df2Counts)"
   ]
  },
  {
   "cell_type": "code",
   "execution_count": 15,
   "metadata": {
    "collapsed": true
   },
   "outputs": [],
   "source": [
    "def subredditCounts(user, redditInstance):\n",
    "    df1 = getRedditorInfo(user, redditInstance)\n",
    "    \n",
    "    df1Counts = df1.groupby([\"subreddit\"])[['comment']]\\\n",
    "                .count().reset_index()\\\n",
    "                .sort_values([\"comment\"], ascending = False)\\\n",
    "                .reset_index(drop = True)\n",
    "                \n",
    "    renameCols = [\"id\", \"value\"]\n",
    "    df1Counts.columns = renameCols\n",
    "    df1Counts[\"id\"] = df1Counts[\"id\"].str.lower()\n",
    "    df1Counts[\"id\"] = df1Counts[\"id\"].str.replace(\"r/\", \"\")\n",
    "    df1Counts = df1Counts.sort_values(by = [\"id\"], ascending = True)   \n",
    "    \n",
    "    return(df1Counts)  "
   ]
  },
  {
   "cell_type": "code",
   "execution_count": 16,
   "metadata": {},
   "outputs": [
    {
     "name": "stdout",
     "output_type": "stream",
     "text": [
      "Retrieved 2413 comments for user: Max_W_\n",
      "Retrieved 2735 comments for user: PrancingPeach\n"
     ]
    }
   ],
   "source": [
    "allSubreddits1 = subredditCounts(\"Max_W_\", r)\n",
    "allSubreddits2 = subredditCounts(\"PrancingPeach\", r)\n",
    "\n",
    "# Output to CSV files for visualization. \n",
    "allSubreddits1.to_csv(\"frontend/all_sub1.csv\", index = False)\n",
    "allSubreddits2.to_csv(\"frontend/all_sub2.csv\", index = False)"
   ]
  },
  {
   "cell_type": "markdown",
   "metadata": {},
   "source": [
    "### Examples"
   ]
  },
  {
   "cell_type": "code",
   "execution_count": 17,
   "metadata": {},
   "outputs": [
    {
     "name": "stdout",
     "output_type": "stream",
     "text": [
      "Retrieved 2413 comments for user: Max_W_\n",
      "Retrieved 2838 comments for user: BrettGilpin\n",
      "31 common subreddits found...\n",
      "Retrieved 2413 comments for user: Max_W_\n",
      "Retrieved 2838 comments for user: BrettGilpin\n"
     ]
    }
   ],
   "source": [
    "one, two = commonSubredditCounts(\"Max_W_\", \"BrettGilpin\", r)\n",
    "\n",
    "# Output to CSV files for visualization. \n",
    "one.to_csv(\"frontend/common_sub1.csv\", index = False)\n",
    "two.to_csv(\"frontend/common_sub2.csv\", index = False)"
   ]
  },
  {
   "cell_type": "code",
   "execution_count": 18,
   "metadata": {},
   "outputs": [
    {
     "data": {
      "text/html": [
       "<div>\n",
       "<style>\n",
       "    .dataframe thead tr:only-child th {\n",
       "        text-align: right;\n",
       "    }\n",
       "\n",
       "    .dataframe thead th {\n",
       "        text-align: left;\n",
       "    }\n",
       "\n",
       "    .dataframe tbody tr th {\n",
       "        vertical-align: top;\n",
       "    }\n",
       "</style>\n",
       "<table border=\"1\" class=\"dataframe\">\n",
       "  <thead>\n",
       "    <tr style=\"text-align: right;\">\n",
       "      <th></th>\n",
       "      <th>index</th>\n",
       "      <th>id</th>\n",
       "      <th>value</th>\n",
       "    </tr>\n",
       "  </thead>\n",
       "  <tbody>\n",
       "    <tr>\n",
       "      <th>0</th>\n",
       "      <td>7</td>\n",
       "      <td>adviceanimals</td>\n",
       "      <td>30</td>\n",
       "    </tr>\n",
       "    <tr>\n",
       "      <th>1</th>\n",
       "      <td>2</td>\n",
       "      <td>android</td>\n",
       "      <td>64</td>\n",
       "    </tr>\n",
       "    <tr>\n",
       "      <th>2</th>\n",
       "      <td>30</td>\n",
       "      <td>askmen</td>\n",
       "      <td>1</td>\n",
       "    </tr>\n",
       "    <tr>\n",
       "      <th>3</th>\n",
       "      <td>0</td>\n",
       "      <td>askreddit</td>\n",
       "      <td>371</td>\n",
       "    </tr>\n",
       "    <tr>\n",
       "      <th>4</th>\n",
       "      <td>21</td>\n",
       "      <td>atheism</td>\n",
       "      <td>2</td>\n",
       "    </tr>\n",
       "    <tr>\n",
       "      <th>5</th>\n",
       "      <td>17</td>\n",
       "      <td>aww</td>\n",
       "      <td>5</td>\n",
       "    </tr>\n",
       "    <tr>\n",
       "      <th>6</th>\n",
       "      <td>20</td>\n",
       "      <td>baseball</td>\n",
       "      <td>2</td>\n",
       "    </tr>\n",
       "    <tr>\n",
       "      <th>7</th>\n",
       "      <td>29</td>\n",
       "      <td>cfb</td>\n",
       "      <td>1</td>\n",
       "    </tr>\n",
       "    <tr>\n",
       "      <th>8</th>\n",
       "      <td>4</td>\n",
       "      <td>funny</td>\n",
       "      <td>43</td>\n",
       "    </tr>\n",
       "    <tr>\n",
       "      <th>9</th>\n",
       "      <td>9</td>\n",
       "      <td>gifs</td>\n",
       "      <td>22</td>\n",
       "    </tr>\n",
       "    <tr>\n",
       "      <th>10</th>\n",
       "      <td>18</td>\n",
       "      <td>iama</td>\n",
       "      <td>5</td>\n",
       "    </tr>\n",
       "    <tr>\n",
       "      <th>11</th>\n",
       "      <td>23</td>\n",
       "      <td>imgoingtohellforthis</td>\n",
       "      <td>2</td>\n",
       "    </tr>\n",
       "    <tr>\n",
       "      <th>12</th>\n",
       "      <td>26</td>\n",
       "      <td>justiceporn</td>\n",
       "      <td>1</td>\n",
       "    </tr>\n",
       "    <tr>\n",
       "      <th>13</th>\n",
       "      <td>11</td>\n",
       "      <td>mapporn</td>\n",
       "      <td>18</td>\n",
       "    </tr>\n",
       "    <tr>\n",
       "      <th>14</th>\n",
       "      <td>6</td>\n",
       "      <td>mizzou</td>\n",
       "      <td>34</td>\n",
       "    </tr>\n",
       "    <tr>\n",
       "      <th>15</th>\n",
       "      <td>16</td>\n",
       "      <td>morbidreality</td>\n",
       "      <td>6</td>\n",
       "    </tr>\n",
       "    <tr>\n",
       "      <th>16</th>\n",
       "      <td>8</td>\n",
       "      <td>movies</td>\n",
       "      <td>28</td>\n",
       "    </tr>\n",
       "    <tr>\n",
       "      <th>17</th>\n",
       "      <td>12</td>\n",
       "      <td>news</td>\n",
       "      <td>16</td>\n",
       "    </tr>\n",
       "    <tr>\n",
       "      <th>18</th>\n",
       "      <td>10</td>\n",
       "      <td>nfl</td>\n",
       "      <td>21</td>\n",
       "    </tr>\n",
       "    <tr>\n",
       "      <th>19</th>\n",
       "      <td>27</td>\n",
       "      <td>nottheonion</td>\n",
       "      <td>1</td>\n",
       "    </tr>\n",
       "  </tbody>\n",
       "</table>\n",
       "</div>"
      ],
      "text/plain": [
       "    index                    id  value\n",
       "0       7         adviceanimals     30\n",
       "1       2               android     64\n",
       "2      30                askmen      1\n",
       "3       0             askreddit    371\n",
       "4      21               atheism      2\n",
       "5      17                   aww      5\n",
       "6      20              baseball      2\n",
       "7      29                   cfb      1\n",
       "8       4                 funny     43\n",
       "9       9                  gifs     22\n",
       "10     18                  iama      5\n",
       "11     23  imgoingtohellforthis      2\n",
       "12     26           justiceporn      1\n",
       "13     11               mapporn     18\n",
       "14      6                mizzou     34\n",
       "15     16         morbidreality      6\n",
       "16      8                movies     28\n",
       "17     12                  news     16\n",
       "18     10                   nfl     21\n",
       "19     27           nottheonion      1"
      ]
     },
     "execution_count": 18,
     "metadata": {},
     "output_type": "execute_result"
    }
   ],
   "source": [
    "one.head(20)"
   ]
  },
  {
   "cell_type": "code",
   "execution_count": 19,
   "metadata": {},
   "outputs": [
    {
     "data": {
      "text/html": [
       "<div>\n",
       "<style>\n",
       "    .dataframe thead tr:only-child th {\n",
       "        text-align: right;\n",
       "    }\n",
       "\n",
       "    .dataframe thead th {\n",
       "        text-align: left;\n",
       "    }\n",
       "\n",
       "    .dataframe tbody tr th {\n",
       "        vertical-align: top;\n",
       "    }\n",
       "</style>\n",
       "<table border=\"1\" class=\"dataframe\">\n",
       "  <thead>\n",
       "    <tr style=\"text-align: right;\">\n",
       "      <th></th>\n",
       "      <th>index</th>\n",
       "      <th>id</th>\n",
       "      <th>value</th>\n",
       "    </tr>\n",
       "  </thead>\n",
       "  <tbody>\n",
       "    <tr>\n",
       "      <th>0</th>\n",
       "      <td>19</td>\n",
       "      <td>adviceanimals</td>\n",
       "      <td>8</td>\n",
       "    </tr>\n",
       "    <tr>\n",
       "      <th>1</th>\n",
       "      <td>7</td>\n",
       "      <td>android</td>\n",
       "      <td>73</td>\n",
       "    </tr>\n",
       "    <tr>\n",
       "      <th>2</th>\n",
       "      <td>1</td>\n",
       "      <td>askmen</td>\n",
       "      <td>151</td>\n",
       "    </tr>\n",
       "    <tr>\n",
       "      <th>3</th>\n",
       "      <td>5</td>\n",
       "      <td>askreddit</td>\n",
       "      <td>82</td>\n",
       "    </tr>\n",
       "    <tr>\n",
       "      <th>4</th>\n",
       "      <td>29</td>\n",
       "      <td>atheism</td>\n",
       "      <td>1</td>\n",
       "    </tr>\n",
       "    <tr>\n",
       "      <th>5</th>\n",
       "      <td>11</td>\n",
       "      <td>aww</td>\n",
       "      <td>39</td>\n",
       "    </tr>\n",
       "    <tr>\n",
       "      <th>6</th>\n",
       "      <td>15</td>\n",
       "      <td>baseball</td>\n",
       "      <td>17</td>\n",
       "    </tr>\n",
       "    <tr>\n",
       "      <th>7</th>\n",
       "      <td>0</td>\n",
       "      <td>cfb</td>\n",
       "      <td>560</td>\n",
       "    </tr>\n",
       "    <tr>\n",
       "      <th>8</th>\n",
       "      <td>27</td>\n",
       "      <td>funny</td>\n",
       "      <td>1</td>\n",
       "    </tr>\n",
       "    <tr>\n",
       "      <th>9</th>\n",
       "      <td>26</td>\n",
       "      <td>gifs</td>\n",
       "      <td>1</td>\n",
       "    </tr>\n",
       "    <tr>\n",
       "      <th>10</th>\n",
       "      <td>16</td>\n",
       "      <td>iama</td>\n",
       "      <td>16</td>\n",
       "    </tr>\n",
       "    <tr>\n",
       "      <th>11</th>\n",
       "      <td>20</td>\n",
       "      <td>imgoingtohellforthis</td>\n",
       "      <td>5</td>\n",
       "    </tr>\n",
       "    <tr>\n",
       "      <th>12</th>\n",
       "      <td>23</td>\n",
       "      <td>justiceporn</td>\n",
       "      <td>2</td>\n",
       "    </tr>\n",
       "    <tr>\n",
       "      <th>13</th>\n",
       "      <td>28</td>\n",
       "      <td>mapporn</td>\n",
       "      <td>1</td>\n",
       "    </tr>\n",
       "    <tr>\n",
       "      <th>14</th>\n",
       "      <td>6</td>\n",
       "      <td>mizzou</td>\n",
       "      <td>74</td>\n",
       "    </tr>\n",
       "    <tr>\n",
       "      <th>15</th>\n",
       "      <td>25</td>\n",
       "      <td>morbidreality</td>\n",
       "      <td>1</td>\n",
       "    </tr>\n",
       "    <tr>\n",
       "      <th>16</th>\n",
       "      <td>24</td>\n",
       "      <td>movies</td>\n",
       "      <td>1</td>\n",
       "    </tr>\n",
       "    <tr>\n",
       "      <th>17</th>\n",
       "      <td>13</td>\n",
       "      <td>news</td>\n",
       "      <td>22</td>\n",
       "    </tr>\n",
       "    <tr>\n",
       "      <th>18</th>\n",
       "      <td>21</td>\n",
       "      <td>nfl</td>\n",
       "      <td>4</td>\n",
       "    </tr>\n",
       "    <tr>\n",
       "      <th>19</th>\n",
       "      <td>14</td>\n",
       "      <td>nottheonion</td>\n",
       "      <td>18</td>\n",
       "    </tr>\n",
       "  </tbody>\n",
       "</table>\n",
       "</div>"
      ],
      "text/plain": [
       "    index                    id  value\n",
       "0      19         adviceanimals      8\n",
       "1       7               android     73\n",
       "2       1                askmen    151\n",
       "3       5             askreddit     82\n",
       "4      29               atheism      1\n",
       "5      11                   aww     39\n",
       "6      15              baseball     17\n",
       "7       0                   cfb    560\n",
       "8      27                 funny      1\n",
       "9      26                  gifs      1\n",
       "10     16                  iama     16\n",
       "11     20  imgoingtohellforthis      5\n",
       "12     23           justiceporn      2\n",
       "13     28               mapporn      1\n",
       "14      6                mizzou     74\n",
       "15     25         morbidreality      1\n",
       "16     24                movies      1\n",
       "17     13                  news     22\n",
       "18     21                   nfl      4\n",
       "19     14           nottheonion     18"
      ]
     },
     "execution_count": 19,
     "metadata": {},
     "output_type": "execute_result"
    }
   ],
   "source": [
    "two.head(20)"
   ]
  },
  {
   "cell_type": "markdown",
   "metadata": {},
   "source": [
    "## Get user flairs"
   ]
  },
  {
   "cell_type": "code",
   "execution_count": 20,
   "metadata": {
    "collapsed": true
   },
   "outputs": [],
   "source": [
    "def getFlairs(username, redditInstance):\n",
    "    df = getRedditorInfo(username, redditInstance)\n",
    "    flairs = set(np.unique(np.array((df[(df[\"flair\"].isnull() == False) & (df[\"flair\"] != \"\")][\"flair\"]))))\n",
    "    if (len(flairs) < 1):\n",
    "        print(\"No flairs for this user\")\n",
    "        return None\n",
    "    else:\n",
    "        return(flairs)"
   ]
  },
  {
   "cell_type": "code",
   "execution_count": 21,
   "metadata": {
    "scrolled": true
   },
   "outputs": [
    {
     "name": "stdout",
     "output_type": "stream",
     "text": [
      "Retrieved 2413 comments for user: Max_W_\n"
     ]
    },
    {
     "data": {
      "text/plain": [
       "{'Chiefs',\n",
       " 'Honor 7X / Asus Nexus 7 / Moto e4+ ',\n",
       " 'Honor 7X, Blue',\n",
       " 'Kansas City Royals',\n",
       " 'MaxW // Force Sensitive',\n",
       " 'Missouri',\n",
       " 'Nexus7 FHD',\n",
       " 'Royals are clutch!'}"
      ]
     },
     "execution_count": 21,
     "metadata": {},
     "output_type": "execute_result"
    }
   ],
   "source": [
    "getFlairs(\"Max_W_\", r)"
   ]
  },
  {
   "cell_type": "code",
   "execution_count": 22,
   "metadata": {},
   "outputs": [
    {
     "name": "stdout",
     "output_type": "stream",
     "text": [
      "Retrieved 2838 comments for user: BrettGilpin\n"
     ]
    },
    {
     "data": {
      "text/plain": [
       "{'\"The Struggle\"',\n",
       " '59s',\n",
       " 'Awesome Sauce',\n",
       " 'Chiefs',\n",
       " 'Computer Eng Alumni',\n",
       " 'FC Kansas City',\n",
       " 'HTC One M8 - AT&T',\n",
       " 'Kansas City Royals',\n",
       " 'Male',\n",
       " 'Missouri',\n",
       " 'Missouri Tigers',\n",
       " 'Missouri Tigers / Dartmouth Big Green',\n",
       " 'Sporting KC',\n",
       " 'Sporting Kansas City',\n",
       " '♂'}"
      ]
     },
     "execution_count": 22,
     "metadata": {},
     "output_type": "execute_result"
    }
   ],
   "source": [
    "getFlairs(\"BrettGilpin\", r)"
   ]
  },
  {
   "cell_type": "code",
   "execution_count": 23,
   "metadata": {
    "collapsed": true
   },
   "outputs": [],
   "source": [
    "def getFeatures(your_username, redditInstance):\n",
    "    \n",
    "    myStopWords = stopwords.words('english')\n",
    "    myStopWords = text.ENGLISH_STOP_WORDS.union(myStopWords)\n",
    "    \n",
    "    stemmer = PorterStemmer()\n",
    "    allCorpuses = []\n",
    "    \n",
    "    your_comments = h.getUserComments(your_username, redditInstance)\n",
    "    your_corpus = []\n",
    "    for yc in your_comments:\n",
    "        tokens = nltk.word_tokenize(yc)\n",
    "        new_yc = ' '.join(stemmer.stem(t) for t in tokens)\n",
    "        your_corpus.append(new_yc)\n",
    "    \n",
    "    tf = TfidfVectorizer(analyzer = \"word\",\n",
    "                        ngram_range = (1, 3),\n",
    "                        stop_words = myStopWords) \n",
    "    \n",
    "    matrix = tf.fit_transform(your_corpus)\n",
    "    features = tf.get_feature_names()\n",
    "    idf = tf.idf_\n",
    "    result = dict(zip(features, idf))\n",
    "    \n",
    "    return(result)"
   ]
  },
  {
   "cell_type": "code",
   "execution_count": 24,
   "metadata": {
    "collapsed": true
   },
   "outputs": [],
   "source": [
    "def getCommonFeatures(user1, user2, redditInstance):\n",
    "    f1 = getFeatures(user1, redditInstance)\n",
    "    f2 = getFeatures(user2, redditInstance)\n",
    "    \n",
    "    res1 = sorted(((value, key) for (key, value) in f1.items()), reverse = True)[0:5000]\n",
    "    res2 = sorted(((value, key) for (key, value) in f2.items()), reverse = True)[0:5000]\n",
    "    \n",
    "    set1 = set(t[1] for t in res1)\n",
    "    set2 = set(t[1] for t in res2)\n",
    "    \n",
    "    commonFeats = set1 & set2\n",
    "    return(commonFeats)"
   ]
  },
  {
   "cell_type": "code",
   "execution_count": 25,
   "metadata": {
    "scrolled": false
   },
   "outputs": [
    {
     "name": "stdout",
     "output_type": "stream",
     "text": [
      "------ Retrieved 1872 comments for: Max_W_\n",
      "------ Retrieved 1958 comments for: BrettGilpin\n"
     ]
    },
    {
     "data": {
      "text/plain": [
       "{'wa easili',\n",
       " 'wa end',\n",
       " 'wa entir',\n",
       " 'wa fake',\n",
       " 'wa free',\n",
       " 'wa grab',\n",
       " 'wa kind',\n",
       " 'wa later',\n",
       " 'wa movi',\n",
       " 'wa nearli',\n",
       " 'wa nice',\n",
       " 'wa possibl',\n",
       " 'wa pretti good',\n",
       " 'wa reaction',\n",
       " 'wa rock',\n",
       " 'wa roll',\n",
       " 'wa sad',\n",
       " 'wa taken',\n",
       " 'wa told',\n",
       " 'wa worri',\n",
       " 'wage peopl',\n",
       " 'wait black',\n",
       " 'wait dont',\n",
       " 'want attent',\n",
       " 'want dont',\n",
       " 'want hi',\n",
       " 'want id',\n",
       " 'want make',\n",
       " 'want new',\n",
       " 'want someth',\n",
       " 'want want',\n",
       " 'wasnt wa',\n",
       " 'watch watch',\n",
       " 'wave',\n",
       " 'way better',\n",
       " 'way describ',\n",
       " 'way veri',\n",
       " 'weather',\n",
       " 'wed fuck',\n",
       " 'wendi',\n",
       " 'whi doe need',\n",
       " 'whi everi',\n",
       " 'whi got',\n",
       " 'whi need',\n",
       " 'whi shouldnt',\n",
       " 'wikipedia articl',\n",
       " 'willi',\n",
       " 'win divis',\n",
       " 'wine',\n",
       " 'wit',\n",
       " 'wonder thi',\n",
       " 'wonder whi',\n",
       " 'wont let',\n",
       " 'work att',\n",
       " 'work fine',\n",
       " 'work phone',\n",
       " 'work sometim',\n",
       " 'worn',\n",
       " 'wouldnt work',\n",
       " 'written wa',\n",
       " 'wrong wa',\n",
       " 'xda',\n",
       " 'ye thi',\n",
       " 'year colleg',\n",
       " 'year miss',\n",
       " 'year someon',\n",
       " 'year thi',\n",
       " 'yearli',\n",
       " 'yoga',\n",
       " 'youd like',\n",
       " 'youtub didnt',\n",
       " 'youv gotten',\n",
       " 'zoom'}"
      ]
     },
     "execution_count": 25,
     "metadata": {},
     "output_type": "execute_result"
    }
   ],
   "source": [
    "getCommonFeatures(\"Max_W_\", \"BrettGilpin\", r)"
   ]
  },
  {
   "cell_type": "markdown",
   "metadata": {},
   "source": [
    "## Find subreddits that a user posts in"
   ]
  },
  {
   "cell_type": "code",
   "execution_count": 30,
   "metadata": {
    "collapsed": true
   },
   "outputs": [],
   "source": [
    "def getSubredditsPosted(username, redditInstance):\n",
    "    comments = getRedditorInfo(username, redditInstance)\n",
    "    subs = np.array(comments[\"subreddit\"])\n",
    "    subs = (np.unique(subs))\n",
    "    return(subs)"
   ]
  },
  {
   "cell_type": "code",
   "execution_count": 31,
   "metadata": {},
   "outputs": [
    {
     "name": "stdout",
     "output_type": "stream",
     "text": [
      "Retrieved 2413 comments for user: Max_W_\n"
     ]
    },
    {
     "data": {
      "text/plain": [
       "array(['r/ActLikeYouBelong', 'r/AdviceAnimals', 'r/AmIFreeToGo',\n",
       "       'r/Android', 'r/AndroidQuestions', 'r/AnythingGoesPics', 'r/AskMen',\n",
       "       'r/AskReddit', 'r/BacktotheFuture', 'r/Bad_Cop_No_Donut',\n",
       "       'r/BannedFromThe_Donald', 'r/BeAmazed', 'r/Blackout2015',\n",
       "       'r/BravesGIFs', 'r/BuyItForLife', 'r/C25K', 'r/CFB',\n",
       "       'r/CatsStandingUp', 'r/Celebs', 'r/Chromecast', 'r/Cinemagraphs',\n",
       "       'r/Cloververse', 'r/ColorizedHistory', 'r/Cyberpunk',\n",
       "       'r/DC_Cinematic', 'r/DiWHY', 'r/EnoughTrumpSpam',\n",
       "       'r/ExpectationVsReality', 'r/Eyeshakers', 'r/Fitness', 'r/Frugal',\n",
       "       'r/Frugal_Jerk', 'r/Fullmoviesonvimeo', 'r/GalGadot',\n",
       "       'r/GetMotivated', 'r/GradSchool', 'r/HadToHurt',\n",
       "       'r/HighQualityGifs', 'r/Honor', 'r/Honor8', 'r/Huawei',\n",
       "       'r/HumansBeingBros', 'r/IAmA', 'r/IDontWorkHereLady',\n",
       "       'r/IdiotsFightingThings', 'r/IdiotsInCars',\n",
       "       'r/ImGoingToHellForThis', 'r/Jokes', 'r/JusticePorn', 'r/KCRoyals',\n",
       "       'r/KansasCityChiefs', 'r/LateStageCapitalism', 'r/LifeProTips',\n",
       "       'r/LivestreamFail', 'r/MadeMeSmile', 'r/MakeupAddiction',\n",
       "       'r/MapPorn', 'r/MarchAgainstTrump', 'r/Marvel', 'r/MensRights',\n",
       "       'r/MissouriPolitics', 'r/MorbidReality', 'r/MovieDetails',\n",
       "       'r/MoviemaniaHQ', 'r/NPR', 'r/NSFWBulletTime', 'r/Nexus', 'r/NoFap',\n",
       "       'r/OSHA', 'r/OTMemes', 'r/OldSchoolCool', 'r/OriginTP',\n",
       "       'r/PacificRim', 'r/Patriots', 'r/PerfectTiming', 'r/Perfectfit',\n",
       "       'r/PickAnAndroidForMe', 'r/Pixar', 'r/PoliceChases',\n",
       "       'r/PoliticalDiscussion', 'r/PoliticalHumor',\n",
       "       'r/Prematurecelebration', 'r/PrequelMemes', 'r/PublicFreakout',\n",
       "       'r/PurpleCoco', 'r/RadiusTP', 'r/Roadcam', 'r/Roku',\n",
       "       'r/SandersForPresident', 'r/Spiderman', 'r/StLouisBeer',\n",
       "       'r/StarWars', 'r/StardewValley', 'r/SubredditDrama',\n",
       "       'r/SurpriseAppearances', 'r/SweatyPalms', 'r/TagPro', 'r/TagProIRL',\n",
       "       'r/TalesFromTheFrontDesk', 'r/The_Donald', 'r/The_Mueller',\n",
       "       'r/Tinder', 'r/TooAfraidToAsk', 'r/Toyota', 'r/TrollXChromosomes',\n",
       "       'r/Trumpgret', 'r/UMD', 'r/UNBGBBIIVCHIDCTIICBG', 'r/Unexpected',\n",
       "       'r/UpliftingNews', 'r/WTF', 'r/WeListenToYou', 'r/Wellthatsucks',\n",
       "       'r/Whatcouldgowrong', 'r/WhitePeopleTwitter', 'r/WtSSTaDaMiT',\n",
       "       'r/YouShouldKnow', 'r/agentcarter', 'r/alternativeart',\n",
       "       'r/androidapps', 'r/announcements', 'r/answers', 'r/atheism',\n",
       "       'r/aww', 'r/baseball', 'r/beer', 'r/beerporn', 'r/beforesandafters',\n",
       "       'r/behindthegifs', 'r/bicycletouring', 'r/bicycling',\n",
       "       'r/blackfriday', 'r/blunderyears', 'r/breakingbad',\n",
       "       'r/calvinandhobbes', 'r/chrome', 'r/collegesluts', 'r/columbiamo',\n",
       "       'r/confession', 'r/coolguides', 'r/creepy', 'r/cringe',\n",
       "       'r/cringepics', 'r/daddit', 'r/dataisbeautiful', 'r/de', 'r/disney',\n",
       "       'r/dvdcollection', 'r/esist', 'r/explainlikeimfive', 'r/facepalm',\n",
       "       'r/fantasyfootball', 'r/fireTV', 'r/fitbit', 'r/freebies',\n",
       "       'r/freefolk', 'r/freeuse', 'r/funny', 'r/galactickarmacourt',\n",
       "       'r/gameofthrones', 'r/gifs', 'r/gifsthatkeepongiving',\n",
       "       'r/gonewildstories', 'r/googleplaydeals', 'r/greentext', 'r/happy',\n",
       "       'r/harrypotter', 'r/headphones', 'r/hearthstone',\n",
       "       'r/highereducation', 'r/hillaryclinton', 'r/holdmyfries',\n",
       "       'r/holdthemoan', 'r/honor7x', 'r/iamverybadass', 'r/iamverysmart',\n",
       "       'r/insanepeoplefacebook', 'r/instant_regret', 'r/instantbarbarians',\n",
       "       'r/kachow', 'r/kaleycuoco', 'r/lists', 'r/loseit', 'r/madlads',\n",
       "       'r/madmen', 'r/marvelstudios', 'r/me_irl', 'r/mechanical_gifs',\n",
       "       'r/mildlyinfuriating', 'r/mildlyinteresting',\n",
       "       'r/misleadingthumbnails', 'r/missouri', 'r/mizzou', 'r/movies',\n",
       "       'r/natalieportman', 'r/nba', 'r/nevertellmetheodds', 'r/news',\n",
       "       'r/nfl', 'r/nonononoyes', 'r/nostalgia', 'r/nottheonion',\n",
       "       'r/occupywallstreet', 'r/oddlysatisfying', 'r/ofcoursethatsathing',\n",
       "       'r/olympics', 'r/personalfinance', 'r/pettyrevenge',\n",
       "       'r/photoshopbattles', 'r/pic', 'r/pics', 'r/politics', 'r/prius',\n",
       "       'r/progresspics', 'r/promos', 'r/pussypassdenied',\n",
       "       'r/quityourbullshit', 'r/reactiongifs', 'r/screenshots', 'r/space',\n",
       "       'r/starterpacks', 'r/technology', 'r/television', 'r/the_meltdown',\n",
       "       'r/therewasanattempt', 'r/thetick', 'r/thewalkingdead', 'r/tifu',\n",
       "       'r/todayilearned', 'r/unitedstatesofamerica', 'r/uspolitics',\n",
       "       'r/video', 'r/videos', 'r/vudu', 'r/wallpapers',\n",
       "       'r/whatisthisthing', 'r/woahdude', 'r/worldnews'], dtype=object)"
      ]
     },
     "execution_count": 31,
     "metadata": {},
     "output_type": "execute_result"
    }
   ],
   "source": [
    "getSubredditsPosted(\"Max_W_\", r)"
   ]
  },
  {
   "cell_type": "code",
   "execution_count": 55,
   "metadata": {},
   "outputs": [
    {
     "name": "stdout",
     "output_type": "stream",
     "text": [
      "Retrieved 2838 comments for user: BrettGilpin\n"
     ]
    },
    {
     "data": {
      "text/plain": [
       "array(['r/AbandonedPorn', 'r/AdviceAnimals', 'r/Android', 'r/AskMen',\n",
       "       'r/AskReddit', 'r/AskWomen', 'r/BeforeNAfterAdoption',\n",
       "       'r/BoJackHorseman', 'r/CBBBall', 'r/CFB', 'r/CFBOffTopic',\n",
       "       'r/CFBUploads', 'r/CityPorn', 'r/CollegeBasketball', 'r/FellowKids',\n",
       "       'r/FiftyFifty', 'r/FreeCompliments', 'r/GirlsMirin', 'r/IAmA',\n",
       "       'r/ImGoingToHellForThis', 'r/JenniferLawrence', 'r/JusticePorn',\n",
       "       'r/MLS', 'r/MapPorn', 'r/MicrosoftEdge', 'r/Minecraft',\n",
       "       'r/MorbidReality', 'r/Motioncitysoundtrack', 'r/Music', 'r/NWSL',\n",
       "       'r/OutOfTheLoop', 'r/PoliticalDiscussion', 'r/SaintLouisFC',\n",
       "       'r/SandersForPresident', 'r/ScarlettJohansson', 'r/SimCity',\n",
       "       'r/SportingKC', 'r/StLouis', 'r/SubredditSimMeta', 'r/Surface',\n",
       "       'r/TheFulmerCup', 'r/TheStopGirl', 'r/Tinder', 'r/TumblrInAction',\n",
       "       'r/UniversityofKansas', 'r/WTF', 'r/WatchItForThePlot',\n",
       "       'r/Windows10', 'r/adventuretime', 'r/apple', 'r/atheism', 'r/aww',\n",
       "       'r/baseball', 'r/blackberry', 'r/blog', 'r/cfbball', 'r/darktower',\n",
       "       'r/doctorwho', 'r/donniedarko', 'r/fffffffuuuuuuuuuuuu',\n",
       "       'r/firstworldproblems', 'r/fitgirls', 'r/funny', 'r/gaming',\n",
       "       'r/gifs', 'r/google', 'r/hardware', 'r/homestuck', 'r/htcone',\n",
       "       'r/jennettemccurdy', 'r/lifeisstrange', 'r/maninthehighcastle',\n",
       "       'r/marblehornets', 'r/microsoft', 'r/mizzou', 'r/mlb', 'r/movies',\n",
       "       'r/news', 'r/nfl', 'r/nottheonion', 'r/nsfw', 'r/patientgamers',\n",
       "       'r/photoshopbattles', 'r/pics', 'r/pictureswithpatrick',\n",
       "       'r/playrust', 'r/politics', 'r/programming', 'r/quotes',\n",
       "       'r/retiredgif', 'r/roosterteeth', 'r/science', 'r/serialpodcast',\n",
       "       'r/slowcooking', 'r/soccer', 'r/technology', 'r/thebutton',\n",
       "       'r/theocho', 'r/todayilearned', 'r/twitchplayspokemon', 'r/videos',\n",
       "       'r/windows', 'r/windows8', 'r/windowsphone', 'r/woodworking',\n",
       "       'r/worldnews', 'r/xbox360', 'r/yale'], dtype=object)"
      ]
     },
     "execution_count": 55,
     "metadata": {},
     "output_type": "execute_result"
    }
   ],
   "source": [
    "getSubredditsPosted(\"BrettGilpin\", r)"
   ]
  },
  {
   "cell_type": "markdown",
   "metadata": {},
   "source": [
    "## Analyze sentiment of user comments"
   ]
  },
  {
   "cell_type": "code",
   "execution_count": 32,
   "metadata": {
    "collapsed": true
   },
   "outputs": [],
   "source": [
    "def getSentiment(username, r):\n",
    "    comments = getRedditorInfo(username, r)\n",
    "                    \n",
    "    if (len(comments) < 1):\n",
    "        print(\"No comments for that user\")\n",
    "        return None\n",
    "                        \n",
    "    comments = comments.sort_values(\"created_utc\", ascending = True)    \n",
    "    sid = SentimentIntensityAnalyzer()\n",
    "    \n",
    "    comments[\"negative\"] = comments[\"comment\"].apply(lambda x: sid.polarity_scores(x)[\"neg\"]) \n",
    "    comments[\"neutral\"] = comments[\"comment\"].apply(lambda x: sid.polarity_scores(x)[\"neu\"]) \n",
    "    comments[\"positive\"] = comments[\"comment\"].apply(lambda x: sid.polarity_scores(x)[\"pos\"]) \n",
    "    comments[\"compound\"] = comments[\"comment\"].apply(lambda x: sid.polarity_scores(x)[\"compound\"]) \n",
    "    \n",
    "    return(comments)    "
   ]
  },
  {
   "cell_type": "markdown",
   "metadata": {},
   "source": [
    "### Examples"
   ]
  },
  {
   "cell_type": "code",
   "execution_count": 33,
   "metadata": {
    "scrolled": true
   },
   "outputs": [
    {
     "name": "stdout",
     "output_type": "stream",
     "text": [
      "Retrieved 2413 comments for user: Max_W_\n"
     ]
    },
    {
     "data": {
      "text/html": [
       "<div>\n",
       "<style>\n",
       "    .dataframe thead tr:only-child th {\n",
       "        text-align: right;\n",
       "    }\n",
       "\n",
       "    .dataframe thead th {\n",
       "        text-align: left;\n",
       "    }\n",
       "\n",
       "    .dataframe tbody tr th {\n",
       "        vertical-align: top;\n",
       "    }\n",
       "</style>\n",
       "<table border=\"1\" class=\"dataframe\">\n",
       "  <thead>\n",
       "    <tr style=\"text-align: right;\">\n",
       "      <th></th>\n",
       "      <th>subreddit</th>\n",
       "      <th>comment</th>\n",
       "      <th>created_utc</th>\n",
       "      <th>score</th>\n",
       "      <th>ups</th>\n",
       "      <th>downs</th>\n",
       "      <th>controversiality</th>\n",
       "      <th>flair</th>\n",
       "      <th>gilded</th>\n",
       "      <th>over_18</th>\n",
       "      <th>link</th>\n",
       "      <th>negative</th>\n",
       "      <th>neutral</th>\n",
       "      <th>positive</th>\n",
       "      <th>compound</th>\n",
       "    </tr>\n",
       "  </thead>\n",
       "  <tbody>\n",
       "    <tr>\n",
       "      <th>2419</th>\n",
       "      <td>r/pics</td>\n",
       "      <td>Thats just his pay and doesnt include other bo...</td>\n",
       "      <td>2011-10-06 18:46:47</td>\n",
       "      <td>1</td>\n",
       "      <td>1</td>\n",
       "      <td>0</td>\n",
       "      <td>0</td>\n",
       "      <td>None</td>\n",
       "      <td>0</td>\n",
       "      <td>False</td>\n",
       "      <td>https://www.reddit.com/r/pics/comments/l39co/i...</td>\n",
       "      <td>0.199</td>\n",
       "      <td>0.801</td>\n",
       "      <td>0.000</td>\n",
       "      <td>-0.6894</td>\n",
       "    </tr>\n",
       "    <tr>\n",
       "      <th>67</th>\n",
       "      <td>r/AskReddit</td>\n",
       "      <td>I upvoted for karma but I think you already go...</td>\n",
       "      <td>2011-10-14 14:22:20</td>\n",
       "      <td>94</td>\n",
       "      <td>94</td>\n",
       "      <td>0</td>\n",
       "      <td>0</td>\n",
       "      <td>None</td>\n",
       "      <td>0</td>\n",
       "      <td>False</td>\n",
       "      <td>https://www.reddit.com/r/AskReddit/comments/lb...</td>\n",
       "      <td>0.000</td>\n",
       "      <td>1.000</td>\n",
       "      <td>0.000</td>\n",
       "      <td>0.0000</td>\n",
       "    </tr>\n",
       "    <tr>\n",
       "      <th>2418</th>\n",
       "      <td>r/pics</td>\n",
       "      <td>Thats odd suddenly at work I got a crick in my...</td>\n",
       "      <td>2011-10-19 18:13:18</td>\n",
       "      <td>1</td>\n",
       "      <td>1</td>\n",
       "      <td>0</td>\n",
       "      <td>0</td>\n",
       "      <td>None</td>\n",
       "      <td>0</td>\n",
       "      <td>False</td>\n",
       "      <td>https://www.reddit.com/r/pics/comments/lhpzc/w...</td>\n",
       "      <td>0.204</td>\n",
       "      <td>0.796</td>\n",
       "      <td>0.000</td>\n",
       "      <td>-0.3182</td>\n",
       "    </tr>\n",
       "    <tr>\n",
       "      <th>2417</th>\n",
       "      <td>r/AskReddit</td>\n",
       "      <td>Do yourself a favor and check out BAND OF BROT...</td>\n",
       "      <td>2011-10-24 19:37:39</td>\n",
       "      <td>1</td>\n",
       "      <td>1</td>\n",
       "      <td>0</td>\n",
       "      <td>0</td>\n",
       "      <td>None</td>\n",
       "      <td>0</td>\n",
       "      <td>False</td>\n",
       "      <td>https://www.reddit.com/r/AskReddit/comments/ln...</td>\n",
       "      <td>0.000</td>\n",
       "      <td>0.856</td>\n",
       "      <td>0.144</td>\n",
       "      <td>0.4019</td>\n",
       "    </tr>\n",
       "    <tr>\n",
       "      <th>2594</th>\n",
       "      <td>r/mizzou</td>\n",
       "      <td>Seems relevanthttp memegeneratornetcacheinstan...</td>\n",
       "      <td>2011-10-24 21:37:51</td>\n",
       "      <td>3</td>\n",
       "      <td>3</td>\n",
       "      <td>0</td>\n",
       "      <td>0</td>\n",
       "      <td>None</td>\n",
       "      <td>0</td>\n",
       "      <td>False</td>\n",
       "      <td>https://www.reddit.com/r/mizzou/comments/lnigs...</td>\n",
       "      <td>0.000</td>\n",
       "      <td>1.000</td>\n",
       "      <td>0.000</td>\n",
       "      <td>0.0000</td>\n",
       "    </tr>\n",
       "  </tbody>\n",
       "</table>\n",
       "</div>"
      ],
      "text/plain": [
       "        subreddit                                            comment  \\\n",
       "2419       r/pics  Thats just his pay and doesnt include other bo...   \n",
       "67    r/AskReddit  I upvoted for karma but I think you already go...   \n",
       "2418       r/pics  Thats odd suddenly at work I got a crick in my...   \n",
       "2417  r/AskReddit  Do yourself a favor and check out BAND OF BROT...   \n",
       "2594     r/mizzou  Seems relevanthttp memegeneratornetcacheinstan...   \n",
       "\n",
       "             created_utc  score  ups  downs  controversiality flair  gilded  \\\n",
       "2419 2011-10-06 18:46:47      1    1      0                 0  None       0   \n",
       "67   2011-10-14 14:22:20     94   94      0                 0  None       0   \n",
       "2418 2011-10-19 18:13:18      1    1      0                 0  None       0   \n",
       "2417 2011-10-24 19:37:39      1    1      0                 0  None       0   \n",
       "2594 2011-10-24 21:37:51      3    3      0                 0  None       0   \n",
       "\n",
       "      over_18                                               link  negative  \\\n",
       "2419    False  https://www.reddit.com/r/pics/comments/l39co/i...     0.199   \n",
       "67      False  https://www.reddit.com/r/AskReddit/comments/lb...     0.000   \n",
       "2418    False  https://www.reddit.com/r/pics/comments/lhpzc/w...     0.204   \n",
       "2417    False  https://www.reddit.com/r/AskReddit/comments/ln...     0.000   \n",
       "2594    False  https://www.reddit.com/r/mizzou/comments/lnigs...     0.000   \n",
       "\n",
       "      neutral  positive  compound  \n",
       "2419    0.801     0.000   -0.6894  \n",
       "67      1.000     0.000    0.0000  \n",
       "2418    0.796     0.000   -0.3182  \n",
       "2417    0.856     0.144    0.4019  \n",
       "2594    1.000     0.000    0.0000  "
      ]
     },
     "execution_count": 33,
     "metadata": {},
     "output_type": "execute_result"
    }
   ],
   "source": [
    "sents = getSentiment(\"Max_W_\", r)\n",
    "sents.head()"
   ]
  },
  {
   "cell_type": "markdown",
   "metadata": {},
   "source": [
    "## Plot sentiment of comments over time"
   ]
  },
  {
   "cell_type": "code",
   "execution_count": 36,
   "metadata": {
    "collapsed": true
   },
   "outputs": [],
   "source": [
    "def plotCumSentiment(username, subreddit_name, redditInstance):\n",
    "    sents = getSentiment(username, redditInstance)\n",
    "    subreddit_name = \"r/\" + subreddit_name\n",
    "    sents = sents[sents[\"subreddit\"].str.lower() == subreddit_name.lower()]\n",
    "    sents = sents.sort_values(\"created_utc\", ascending = True)  \n",
    "    sents = sents.reset_index()\n",
    "    sents[\"id\"] = sents.index\n",
    "    sents[\"cumsentiment\"] = sents[\"compound\"].cumsum() \n",
    "    \n",
    "    if (len(sents) < 3):\n",
    "        print(\"User has not posted on this subreddit\")\n",
    "        return        \n",
    "        \n",
    "    fig, ax = plt.subplots()\n",
    "    \n",
    "    _ = ax.plot(sents[\"created_utc\"], sents[\"cumsentiment\"], marker = \"\", linewidth = 1.9, alpha = 0.9)\n",
    "    \n",
    "    title = \"Cumulative sentiment score on \" + subreddit_name + \" for user: \" + username\n",
    "    _ = plt.suptitle(title)\n",
    "    _ = plt.xticks(rotation=90)\n",
    "    ax.xaxis.set_major_locator(mdates.YearLocator())    \n",
    "    ax.xaxis.set_major_formatter(mdates.DateFormatter('%Y'))\n",
    "    ax.xaxis.set_minor_locator(mdates.MonthLocator())\n",
    "    _ = plt.show()\n",
    "    \n",
    "    return"
   ]
  },
  {
   "cell_type": "code",
   "execution_count": 37,
   "metadata": {
    "collapsed": true
   },
   "outputs": [],
   "source": [
    "def plotTopCumSentiments(username, redditInstance):\n",
    "    sents = getSentiment(username, redditInstance)    \n",
    "   \n",
    "    subreddits = np.array(sents.groupby([\"subreddit\"]).\\\n",
    "                                                  count().\\\n",
    "                                                  reset_index().\\\n",
    "                                                  sort_values(\"comment\", ascending = False).\\\n",
    "                                                  head(4)[\"subreddit\"])\n",
    "    \n",
    "    numberOfSubs = len(subreddits)\n",
    "    \n",
    "    # create a color palette\n",
    "    palette = plt.get_cmap('Set1')\n",
    "    num = 0\n",
    "    \n",
    "    for s in subreddits:       \n",
    "        \n",
    "        subreddit_name = s\n",
    "        df = sents[sents[\"subreddit\"].str.lower() == subreddit_name.lower()]       \n",
    "        \n",
    "        if (len(df) >= 2):            \n",
    "            num = num + 1 \n",
    "\n",
    "            # Find the right spot on the plot\n",
    "            _ = plt.subplot(2, 2, num)                 \n",
    "\n",
    "            df = df.sort_values(\"created_utc\", ascending = True)  \n",
    "            df = df.reset_index()\n",
    "            df[\"id\"] = df.index\n",
    "            df[\"cumsentiment\"] = df[\"compound\"].cumsum() \n",
    "\n",
    "            _ = plt.plot(df[\"created_utc\"], df[\"cumsentiment\"], marker = \"\", linewidth = 1.9, alpha = 0.9, color = palette(num))\n",
    "\n",
    "            # Not ticks everywhere\n",
    "            if num in range(7) :\n",
    "                _ = plt.tick_params(labelbottom='off')\n",
    "            if num not in [1,4,7] :\n",
    "                _ = plt.tick_params(labelleft='off')\n",
    "\n",
    "            # Add title\n",
    "            _ = plt.title(subreddit_name, loc='left', fontsize=12, fontweight=0, color=palette(num))\n",
    "            _ = plt.xticks(rotation=90)\n",
    "             \n",
    "\n",
    "    title = \"Cumulative sentiment score \" + \"for user: \" + username\n",
    "    _ = plt.suptitle(title, fontsize=13, fontweight=0, color='black', style='italic', y=1.02)    \n",
    "    _ = plt.show()\n",
    "    \n",
    "    return"
   ]
  },
  {
   "cell_type": "markdown",
   "metadata": {},
   "source": [
    "### Examples"
   ]
  },
  {
   "cell_type": "code",
   "execution_count": 38,
   "metadata": {},
   "outputs": [
    {
     "name": "stdout",
     "output_type": "stream",
     "text": [
      "Retrieved 2413 comments for user: Max_W_\n"
     ]
    },
    {
     "data": {
      "image/png": "[encoded data removed]",
      "text/plain": [
       "<matplotlib.figure.Figure at 0x21f808af7f0>"
      ]
     },
     "metadata": {},
     "output_type": "display_data"
    }
   ],
   "source": [
    "plotCumSentiment(\"Max_W_\", \"mizzou\", r)"
   ]
  },
  {
   "cell_type": "code",
   "execution_count": 39,
   "metadata": {},
   "outputs": [
    {
     "name": "stdout",
     "output_type": "stream",
     "text": [
      "Retrieved 2838 comments for user: BrettGilpin\n"
     ]
    },
    {
     "data": {
      "image/png": "[encoded data removed]",
      "text/plain": [
       "<matplotlib.figure.Figure at 0x21fd103d5f8>"
      ]
     },
     "metadata": {},
     "output_type": "display_data"
    }
   ],
   "source": [
    "plotCumSentiment(\"BrettGilpin\", \"mizzou\", r)"
   ]
  },
  {
   "cell_type": "code",
   "execution_count": 40,
   "metadata": {},
   "outputs": [
    {
     "name": "stdout",
     "output_type": "stream",
     "text": [
      "Retrieved 2413 comments for user: Max_W_\n"
     ]
    },
    {
     "data": {
      "image/png": "[encoded data removed]",
      "text/plain": [
       "<matplotlib.figure.Figure at 0x21f8078a128>"
      ]
     },
     "metadata": {},
     "output_type": "display_data"
    }
   ],
   "source": [
    "plotCumSentiment(\"Max_W_\", \"android\", r)"
   ]
  },
  {
   "cell_type": "code",
   "execution_count": 41,
   "metadata": {},
   "outputs": [
    {
     "name": "stdout",
     "output_type": "stream",
     "text": [
      "Retrieved 2838 comments for user: BrettGilpin\n"
     ]
    },
    {
     "data": {
      "image/png": "[encoded data removed]",
      "text/plain": [
       "<matplotlib.figure.Figure at 0x21f8082c208>"
      ]
     },
     "metadata": {},
     "output_type": "display_data"
    }
   ],
   "source": [
    "plotCumSentiment(\"BrettGilpin\", \"android\", r)"
   ]
  },
  {
   "cell_type": "code",
   "execution_count": 42,
   "metadata": {},
   "outputs": [
    {
     "name": "stdout",
     "output_type": "stream",
     "text": [
      "Retrieved 2413 comments for user: Max_W_\n"
     ]
    },
    {
     "data": {
      "image/png": "[encoded data removed]",
      "text/plain": [
       "<matplotlib.figure.Figure at 0x21f80db9f28>"
      ]
     },
     "metadata": {},
     "output_type": "display_data"
    }
   ],
   "source": [
    "plotTopCumSentiments(\"Max_W_\", r)"
   ]
  },
  {
   "cell_type": "code",
   "execution_count": 43,
   "metadata": {},
   "outputs": [
    {
     "name": "stdout",
     "output_type": "stream",
     "text": [
      "Retrieved 2838 comments for user: BrettGilpin\n"
     ]
    },
    {
     "data": {
      "image/png": "[encoded data removed]",
      "text/plain": [
       "<matplotlib.figure.Figure at 0x21f807fc518>"
      ]
     },
     "metadata": {},
     "output_type": "display_data"
    }
   ],
   "source": [
    "plotTopCumSentiments(\"BrettGilpin\", r)"
   ]
  },
  {
   "cell_type": "code",
   "execution_count": 44,
   "metadata": {},
   "outputs": [
    {
     "name": "stdout",
     "output_type": "stream",
     "text": [
      "Retrieved 1510 comments for user: EveryTrueSon\n"
     ]
    },
    {
     "data": {
      "image/png": "[encoded data removed]",
      "text/plain": [
       "<matplotlib.figure.Figure at 0x21fd12445f8>"
      ]
     },
     "metadata": {},
     "output_type": "display_data"
    }
   ],
   "source": [
    "plotTopCumSentiments(\"EveryTrueSon\", r)"
   ]
  },
  {
   "cell_type": "code",
   "execution_count": 45,
   "metadata": {},
   "outputs": [
    {
     "name": "stdout",
     "output_type": "stream",
     "text": [
      "Retrieved 1624 comments for user: Apatches\n"
     ]
    },
    {
     "data": {
      "image/png": "[encoded data removed]",
      "text/plain": [
       "<matplotlib.figure.Figure at 0x21fd0ee60f0>"
      ]
     },
     "metadata": {},
     "output_type": "display_data"
    }
   ],
   "source": [
    "plotTopCumSentiments(\"Apatches\", r)"
   ]
  },
  {
   "cell_type": "code",
   "execution_count": 46,
   "metadata": {},
   "outputs": [
    {
     "name": "stdout",
     "output_type": "stream",
     "text": [
      "Retrieved 1987 comments for user: BransonBombshell\n"
     ]
    },
    {
     "data": {
      "image/png": "[encoded data removed]",
      "text/plain": [
       "<matplotlib.figure.Figure at 0x21ff83339e8>"
      ]
     },
     "metadata": {},
     "output_type": "display_data"
    }
   ],
   "source": [
    "plotTopCumSentiments(\"BransonBombshell\", r)"
   ]
  },
  {
   "cell_type": "code",
   "execution_count": 47,
   "metadata": {},
   "outputs": [
    {
     "name": "stdout",
     "output_type": "stream",
     "text": [
      "Retrieved 2054 comments for user: SovreignTripod\n"
     ]
    },
    {
     "data": {
      "image/png": "[encoded data removed]",
      "text/plain": [
       "<matplotlib.figure.Figure at 0x21fd148a5f8>"
      ]
     },
     "metadata": {},
     "output_type": "display_data"
    }
   ],
   "source": [
    "plotTopCumSentiments(\"SovreignTripod\", r)"
   ]
  },
  {
   "cell_type": "markdown",
   "metadata": {},
   "source": [
    "## Build collapsible index visualization"
   ]
  },
  {
   "cell_type": "code",
   "execution_count": 48,
   "metadata": {
    "collapsed": true
   },
   "outputs": [],
   "source": [
    "def formatToDict(name, size):    \n",
    "    return {'name': name, 'size': round(size*100000)}"
   ]
  },
  {
   "cell_type": "code",
   "execution_count": 49,
   "metadata": {
    "collapsed": true
   },
   "outputs": [],
   "source": [
    "def buildCollapsible(your_username, subreddit_name, redditInstance):\n",
    "    matches = list(findMatches(your_username, subreddit_name, redditInstance))\n",
    "    \n",
    "    if (len(matches) < 1): \n",
    "        return None\n",
    "    \n",
    "    entireObjDict = {}\n",
    "    entireObjDict[\"name\"] = \"Top Features\"\n",
    "    objList = []\n",
    "    \n",
    "    for username in matches:\n",
    "        colNames = [\"name\", \"size\"]\n",
    "        features = getTopFeatures(username, redditInstance)        \n",
    "        features.columns = colNames\n",
    "        features = features.head(15)\n",
    "        \n",
    "        children = list(features.apply(lambda row: formatToDict(row[\"name\"], row[\"size\"]), axis = 1))\n",
    "        children\n",
    "        \n",
    "        userObj = {}\n",
    "        userObj[\"name\"] = username\n",
    "        userObj[\"children\"] = children\n",
    "        objList.append(userObj)\n",
    "        \n",
    "    entireObjDict[\"children\"] = objList        \n",
    "    return(entireObjDict)        "
   ]
  },
  {
   "cell_type": "code",
   "execution_count": 50,
   "metadata": {
    "collapsed": true
   },
   "outputs": [],
   "source": [
    "#jsonObj = buildCollapsible(\"Max_W_\", \"mizzou\", r)"
   ]
  },
  {
   "cell_type": "markdown",
   "metadata": {
    "collapsed": true
   },
   "source": [
    "## Hierarchical document clustering"
   ]
  },
  {
   "cell_type": "code",
   "execution_count": 51,
   "metadata": {
    "collapsed": true
   },
   "outputs": [],
   "source": [
    "def buildDendro(your_username, subreddit_name, redditInstance, top_n = 50):\n",
    "    corpus = createCorpus(your_username, subreddit_name, r)\n",
    "    corpus = corpus[0:top_n]\n",
    "    print(\"Corpus Records:\", len(corpus))\n",
    "    \n",
    "    matrix = createTfidfMatrix(corpus)\n",
    "    print(\"Matrix Shape:\", matrix.shape)\n",
    "    \n",
    "    dist = 1 - cosine_similarity(matrix)\n",
    "    print(\"Distance Shape:\", dist.shape)\n",
    "    \n",
    "    corpusDf = getDf(subreddit_name)\n",
    "    corpusDf = corpusDf.head(top_n - 1)\n",
    "    \n",
    "    usernames = list(corpusDf[\"Username\"])\n",
    "    usernames.insert(0, your_username)\n",
    "    print(\"Number of usernames:\", len(usernames))\n",
    "    \n",
    "    for index, score in find_similar(matrix, 0):        \n",
    "        index = index - 1 # because we prepended our comments onto the corpus, the index number was shifted by 1.\n",
    "        user = corpusDf.iloc[index, 0]\n",
    "        print(\"...\")\n",
    "        print(\"...\")\n",
    "        print(\"Username:\", user, \"| Score:\", score)\n",
    "        print(\"=========================================================\")\n",
    "          \n",
    "    linkage_matrix = ward(dist) #define the linkage_matrix using ward clustering pre-computed distances\n",
    "\n",
    "    fig, ax = plt.subplots(figsize=(15, 20)) # set size\n",
    "    ax = dendrogram(linkage_matrix, orientation=\"right\", labels = usernames);\n",
    "\n",
    "    plt.tick_params(\\\n",
    "        axis= 'x',          # changes apply to the x-axis\n",
    "        which='both',      # both major and minor ticks are affected\n",
    "        bottom='off',      # ticks along the bottom edge are off\n",
    "        top='off',         # ticks along the top edge are off\n",
    "        labelbottom='off')\n",
    "\n",
    "    plt.tight_layout() #show plot with tight layout\n",
    "\n",
    "    #uncomment below to save figure\n",
    "    plt.savefig('ward_clusters.png', dpi=200) #save figure as ward_clusters\n",
    "          \n",
    "    return(plt)"
   ]
  },
  {
   "cell_type": "code",
   "execution_count": 52,
   "metadata": {
    "scrolled": false
   },
   "outputs": [
    {
     "name": "stdout",
     "output_type": "stream",
     "text": [
      "--- Retrieved 288 corpuses for r/ mizzou\n",
      "------ Stemming the words\n",
      "------ Retrieved 1872 comments for: Max_W_\n",
      "------ Stemming the words\n",
      "Corpus Records: 20\n",
      "--- Creating Tfidf vectorizor...\n",
      "--- Fitting the matrix...\n",
      "Matrix Shape: (20, 5801)\n",
      "Distance Shape: (20, 20)\n",
      "--- Retrieved 288 corpuses for r/ mizzou\n",
      "Number of usernames: 20\n",
      "...\n",
      "...\n",
      "Username: YouKnowThatOtherGuy | Score: 0.548840139718\n",
      "=========================================================\n",
      "...\n",
      "...\n",
      "Username: WorseThanHipster | Score: 0.513309679284\n",
      "=========================================================\n",
      "...\n",
      "...\n",
      "Username: pisspoordecisions | Score: 0.481271077098\n",
      "=========================================================\n",
      "...\n",
      "...\n",
      "Username: seslor | Score: 0.479250439421\n",
      "=========================================================\n",
      "...\n",
      "...\n",
      "Username: J_Tuck | Score: 0.443518709856\n",
      "=========================================================\n",
      "...\n",
      "...\n",
      "Username: sahtopi | Score: 0.384785420125\n",
      "=========================================================\n"
     ]
    },
    {
     "data": {
      "text/plain": [
       "<module 'matplotlib.pyplot' from 'C:\\\\Users\\\\Jacky Zhao\\\\Anaconda3\\\\lib\\\\site-packages\\\\matplotlib\\\\pyplot.py'>"
      ]
     },
     "execution_count": 52,
     "metadata": {},
     "output_type": "execute_result"
    },
    {
     "data": {
      "image/png": "[encoded data removed]",
      "text/plain": [
       "<matplotlib.figure.Figure at 0x21fd12179b0>"
      ]
     },
     "metadata": {},
     "output_type": "display_data"
    }
   ],
   "source": [
    "buildDendro(\"Max_W_\", \"mizzou\", r, 20)"
   ]
  },
  {
   "cell_type": "code",
   "execution_count": null,
   "metadata": {
    "collapsed": true
   },
   "outputs": [],
   "source": []
  },
  {
   "cell_type": "code",
   "execution_count": null,
   "metadata": {
    "collapsed": true
   },
   "outputs": [],
   "source": []
  },
  {
   "cell_type": "code",
   "execution_count": null,
   "metadata": {
    "collapsed": true
   },
   "outputs": [],
   "source": []
  },
  {
   "cell_type": "code",
   "execution_count": null,
   "metadata": {
    "collapsed": true
   },
   "outputs": [],
   "source": []
  }
 ],
 "metadata": {
  "kernelspec": {
   "display_name": "Python 3",
   "language": "python",
   "name": "python3"
  },
  "language_info": {
   "codemirror_mode": {
    "name": "ipython",
    "version": 3
   },
   "file_extension": ".py",
   "mimetype": "text/x-python",
   "name": "python",
   "nbconvert_exporter": "python",
   "pygments_lexer": "ipython3",
   "version": "3.6.1"
  }
 },
 "nbformat": 4,
 "nbformat_minor": 2
}
