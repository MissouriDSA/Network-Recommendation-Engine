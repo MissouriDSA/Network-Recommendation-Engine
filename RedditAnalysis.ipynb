{
 "cells": [
  {
   "cell_type": "code",
   "execution_count": 1,
   "metadata": {},
   "outputs": [
    {
     "name": "stderr",
     "output_type": "stream",
     "text": [
      "C:\\Users\\Jacky Zhao\\Anaconda3\\lib\\site-packages\\nltk\\twitter\\__init__.py:20: UserWarning: The twython library has not been installed. Some functionality from the twitter package will not be available.\n",
      "  warnings.warn(\"The twython library has not been installed. \"\n"
     ]
    }
   ],
   "source": [
    "import pandas as pd\n",
    "import numpy as np\n",
    "import pprint as pp\n",
    "import re, string\n",
    "import time\n",
    "import seaborn as sns\n",
    "from sklearn.feature_extraction.text import TfidfVectorizer\n",
    "from sklearn.metrics.pairwise import linear_kernel\n",
    "import praw\n",
    "from datetime import datetime\n",
    "from nltk.corpus import stopwords\n",
    "from sklearn.feature_extraction import text \n",
    "from nltk.classify import NaiveBayesClassifier\n",
    "from nltk.corpus import subjectivity\n",
    "from nltk.sentiment.vader import SentimentIntensityAnalyzer\n",
    "import matplotlib.pyplot as plt\n",
    "import math\n",
    "\n",
    "# set seaborn settings\n",
    "sns.set()\n",
    "plt.rcParams[\"patch.force_edgecolor\"] = True # set lines\n",
    "plt.style.use('seaborn-darkgrid')\n",
    "\n",
    "\n",
    "import warnings\n",
    "warnings.filterwarnings('ignore')\n",
    "\n",
    "\n",
    "import credentials as creds\n",
    "import helpers as h"
   ]
  },
  {
   "cell_type": "code",
   "execution_count": 2,
   "metadata": {
    "collapsed": true
   },
   "outputs": [],
   "source": [
    "# https://praw.readthedocs.io/en/latest/getting_started/\n",
    "# https://www.reddit.com/dev/api/"
   ]
  },
  {
   "cell_type": "markdown",
   "metadata": {},
   "source": [
    "## Instantiate Reddit"
   ]
  },
  {
   "cell_type": "code",
   "execution_count": 3,
   "metadata": {},
   "outputs": [
    {
     "name": "stdout",
     "output_type": "stream",
     "text": [
      "True\n"
     ]
    }
   ],
   "source": [
    "CLIENT_ID = creds.client_id()\n",
    "CLIENT_SECRET_KEY = creds.client_secret_key()\n",
    "\n",
    "\n",
    "r = praw.Reddit(client_id = CLIENT_ID,\n",
    "                client_secret = CLIENT_SECRET_KEY,\n",
    "                user_agent = 'RedditorMatch')\n",
    "\n",
    "print(r.read_only)"
   ]
  },
  {
   "cell_type": "markdown",
   "metadata": {},
   "source": [
    "## Specify the scraped datasets"
   ]
  },
  {
   "cell_type": "code",
   "execution_count": 4,
   "metadata": {
    "collapsed": true
   },
   "outputs": [],
   "source": [
    "scraped_subreddits = [\"mizzou\", \"umich\"]"
   ]
  },
  {
   "cell_type": "markdown",
   "metadata": {},
   "source": [
    "## Recommendation engine"
   ]
  },
  {
   "cell_type": "code",
   "execution_count": 5,
   "metadata": {
    "collapsed": true
   },
   "outputs": [],
   "source": [
    "def find_similar(matrix, index, top_n = 5):\n",
    "    cosine_similarities = linear_kernel(matrix[index: index + 1], matrix).flatten()\n",
    "    related_docs_indices = [i for i in cosine_similarities.argsort()[::-1] if i != index]\n",
    "    return [(index, cosine_similarities[index]) for index in related_docs_indices][0:top_n]"
   ]
  },
  {
   "cell_type": "code",
   "execution_count": 6,
   "metadata": {
    "collapsed": true
   },
   "outputs": [],
   "source": [
    "def getDf(subreddit_name):\n",
    "    filePath = \"data/\" + subreddit_name + \".csv\"\n",
    "    df = pd.read_csv(filePath, encoding = \"ISO-8859-1\")\n",
    "    print(\"--- Retrieved\", len(df), \"corpuses/corpi(?) for\", subreddit_name)\n",
    "    return(df)"
   ]
  },
  {
   "cell_type": "code",
   "execution_count": 7,
   "metadata": {
    "collapsed": true
   },
   "outputs": [],
   "source": [
    "def findMatches(your_username, subreddit_name, redditInstance):\n",
    "    corpus = []    \n",
    "    corpusDf = getDf(subreddit_name)\n",
    "    corpusDf[\"Comments\"].apply(lambda row: corpus.append(str(row)))\n",
    "    \n",
    "    your_comments = h.getUserComments(your_username, redditInstance)\n",
    "    your_comments = \".\".join(your_comments)\n",
    "    \n",
    "    corpus.insert(0, your_comments)\n",
    "    \n",
    "    print(\"--- Creating Tfidf vector...\")\n",
    "    \n",
    "    myStopWords = stopwords.words('english')\n",
    "    myStopWords = text.ENGLISH_STOP_WORDS.union(myStopWords)\n",
    "    \n",
    "    tf = TfidfVectorizer(analyzer = \"word\", \n",
    "                            ngram_range = (1, 3),\n",
    "                            min_df = 0, \n",
    "                            stop_words = myStopWords)\n",
    "    \n",
    "    print(\"--- Fitting the matrix...\")\n",
    "    matrix = tf.fit_transform(corpus)\n",
    "    results = []\n",
    "    \n",
    "    for index, score in find_similar(matrix, 0):        \n",
    "        index = index - 1 # because we prepended our comments onto the corpus, the index number was shifted by 1.\n",
    "        user = corpusDf.iloc[index, 0]\n",
    "        results.append(user)\n",
    "        print(\"...\")\n",
    "        print(\"...\")\n",
    "        print(\"Score:\", score, \"| Username:\", user)\n",
    "        print(\"=========================================================\")\n",
    "        \n",
    "    return(results)"
   ]
  },
  {
   "cell_type": "markdown",
   "metadata": {},
   "source": [
    "### Example:"
   ]
  },
  {
   "cell_type": "code",
   "execution_count": 8,
   "metadata": {},
   "outputs": [
    {
     "name": "stdout",
     "output_type": "stream",
     "text": [
      "--- Retrieved 288 corpuses/corpi(?) for mizzou\n",
      "------ Retrieved 1877 comments for: Max_W_\n",
      "--- Creating Tfidf vector...\n",
      "--- Fitting the matrix...\n",
      "...\n",
      "...\n",
      "Score: 0.996889562736 | Username: Max_W_\n",
      "=========================================================\n",
      "...\n",
      "...\n",
      "Score: 0.273236991224 | Username: SexyMcBeast\n",
      "=========================================================\n",
      "...\n",
      "...\n",
      "Score: 0.262435821781 | Username: KCTigerGrad\n",
      "=========================================================\n",
      "...\n",
      "...\n",
      "Score: 0.260764821456 | Username: PrancingPeach\n",
      "=========================================================\n",
      "...\n",
      "...\n",
      "Score: 0.260503797238 | Username: BrettGilpin\n",
      "=========================================================\n"
     ]
    }
   ],
   "source": [
    "matches = findMatches(\"Max_W_\", scraped_subreddits[0], r)"
   ]
  },
  {
   "cell_type": "markdown",
   "metadata": {},
   "source": [
    "## Gather user information"
   ]
  },
  {
   "cell_type": "code",
   "execution_count": 9,
   "metadata": {
    "collapsed": true
   },
   "outputs": [],
   "source": [
    "def getRedditorInfo(redditor_name, r):\n",
    "    user = r.redditor(redditor_name)\n",
    "    top = user.comments.top(limit = 1000)\n",
    "    hot = user.comments.hot(limit = 1000)\n",
    "    contro = user.comments.controversial(limit = 1000)\n",
    "    \n",
    "    subreddit = []\n",
    "    comment = []\n",
    "    created_utc = []\n",
    "    score = []\n",
    "    ups = []\n",
    "    downs = []\n",
    "    controversiality = []\n",
    "    flair = []\n",
    "    gilded = []\n",
    "    over_18 = []\n",
    "    link = []\n",
    "    \n",
    "    for c in top:\n",
    "        subreddit.append(c.subreddit_name_prefixed)\n",
    "        comment.append(h.cleanText(c.body))\n",
    "        \n",
    "        parsed_date = datetime.utcfromtimestamp(c.created_utc)\n",
    "        year = parsed_date.year\n",
    "        month = parsed_date.month\n",
    "        day = parsed_date.day\n",
    "        \n",
    "        created_utc.append(parsed_date)\n",
    "        score.append(c.score)\n",
    "        ups.append(c.ups)\n",
    "        downs.append(c.downs)\n",
    "        controversiality.append(c.controversiality)\n",
    "        flair.append(c.author_flair_text)\n",
    "        gilded.append(c.gilded)\n",
    "        over_18.append(c.over_18)\n",
    "        link.append(c.link_permalink)\n",
    "        \n",
    "    for c in hot:\n",
    "        subreddit.append(c.subreddit_name_prefixed)\n",
    "        comment.append(h.cleanText(c.body))\n",
    "        \n",
    "        parsed_date = datetime.utcfromtimestamp(c.created_utc)\n",
    "        year = parsed_date.year\n",
    "        month = parsed_date.month\n",
    "        day = parsed_date.day\n",
    "        \n",
    "        created_utc.append(parsed_date)\n",
    "        score.append(c.score)\n",
    "        ups.append(c.ups)\n",
    "        downs.append(c.downs)\n",
    "        controversiality.append(c.controversiality)\n",
    "        flair.append(c.author_flair_text)\n",
    "        gilded.append(c.gilded)\n",
    "        over_18.append(c.over_18)\n",
    "        link.append(c.link_permalink)\n",
    "        \n",
    "    for c in contro:\n",
    "        subreddit.append(c.subreddit_name_prefixed)\n",
    "        comment.append(h.cleanText(c.body))\n",
    "        \n",
    "        parsed_date = datetime.utcfromtimestamp(c.created_utc)\n",
    "        year = parsed_date.year\n",
    "        month = parsed_date.month\n",
    "        day = parsed_date.day\n",
    "        \n",
    "        created_utc.append(parsed_date)\n",
    "        score.append(c.score)\n",
    "        ups.append(c.ups)\n",
    "        downs.append(c.downs)\n",
    "        controversiality.append(c.controversiality)\n",
    "        flair.append(c.author_flair_text)\n",
    "        gilded.append(c.gilded)\n",
    "        over_18.append(c.over_18)\n",
    "        link.append(c.link_permalink)\n",
    "        \n",
    "    df = pd.DataFrame(subreddit, columns = [\"subreddit\"])\n",
    "    df[\"comment\"] = comment\n",
    "    df[\"created_utc\"] = created_utc\n",
    "    df[\"score\"] = score\n",
    "    df[\"ups\"] = ups\n",
    "    df[\"downs\"] = downs\n",
    "    df[\"controversiality\"] = controversiality\n",
    "    df[\"flair\"] = flair\n",
    "    df[\"gilded\"] = gilded\n",
    "    df[\"over_18\"] = over_18\n",
    "    df[\"link\"] = link\n",
    "    \n",
    "    df = df.drop_duplicates(subset = [\"comment\"], keep = \"first\")    \n",
    "    print(\"Retrieved\", len(df), \"comments for user:\", redditor_name)\n",
    "    return(df)"
   ]
  },
  {
   "cell_type": "markdown",
   "metadata": {},
   "source": [
    "### Examples"
   ]
  },
  {
   "cell_type": "code",
   "execution_count": 10,
   "metadata": {},
   "outputs": [
    {
     "name": "stdout",
     "output_type": "stream",
     "text": [
      "Retrieved 2425 comments for user: Max_W_\n",
      "Retrieved 2734 comments for user: PrancingPeach\n"
     ]
    }
   ],
   "source": [
    "your_comments = getRedditorInfo(\"Max_W_\", r)\n",
    "other_comments = getRedditorInfo(\"PrancingPeach\", r)"
   ]
  },
  {
   "cell_type": "code",
   "execution_count": 11,
   "metadata": {},
   "outputs": [
    {
     "data": {
      "text/html": [
       "<div>\n",
       "<style>\n",
       "    .dataframe thead tr:only-child th {\n",
       "        text-align: right;\n",
       "    }\n",
       "\n",
       "    .dataframe thead th {\n",
       "        text-align: left;\n",
       "    }\n",
       "\n",
       "    .dataframe tbody tr th {\n",
       "        vertical-align: top;\n",
       "    }\n",
       "</style>\n",
       "<table border=\"1\" class=\"dataframe\">\n",
       "  <thead>\n",
       "    <tr style=\"text-align: right;\">\n",
       "      <th></th>\n",
       "      <th>subreddit</th>\n",
       "      <th>comment</th>\n",
       "      <th>created_utc</th>\n",
       "      <th>score</th>\n",
       "      <th>ups</th>\n",
       "      <th>downs</th>\n",
       "      <th>controversiality</th>\n",
       "      <th>flair</th>\n",
       "      <th>gilded</th>\n",
       "      <th>over_18</th>\n",
       "      <th>link</th>\n",
       "    </tr>\n",
       "  </thead>\n",
       "  <tbody>\n",
       "    <tr>\n",
       "      <th>0</th>\n",
       "      <td>r/EnoughTrumpSpam</td>\n",
       "      <td>Can we start a petition to keep them private</td>\n",
       "      <td>2017-05-20 02:22:38</td>\n",
       "      <td>8572</td>\n",
       "      <td>8572</td>\n",
       "      <td>0</td>\n",
       "      <td>0</td>\n",
       "      <td>None</td>\n",
       "      <td>1</td>\n",
       "      <td>False</td>\n",
       "      <td>https://www.reddit.com/r/EnoughTrumpSpam/comme...</td>\n",
       "    </tr>\n",
       "    <tr>\n",
       "      <th>1</th>\n",
       "      <td>r/AskReddit</td>\n",
       "      <td>Two down one to go</td>\n",
       "      <td>2018-03-09 05:00:25</td>\n",
       "      <td>5550</td>\n",
       "      <td>5550</td>\n",
       "      <td>0</td>\n",
       "      <td>0</td>\n",
       "      <td>None</td>\n",
       "      <td>0</td>\n",
       "      <td>False</td>\n",
       "      <td>https://www.reddit.com/r/AskReddit/comments/83...</td>\n",
       "    </tr>\n",
       "    <tr>\n",
       "      <th>2</th>\n",
       "      <td>r/cringe</td>\n",
       "      <td>Lets applaud her dancers They continued on lik...</td>\n",
       "      <td>2017-01-01 05:24:43</td>\n",
       "      <td>3840</td>\n",
       "      <td>3840</td>\n",
       "      <td>0</td>\n",
       "      <td>0</td>\n",
       "      <td>None</td>\n",
       "      <td>0</td>\n",
       "      <td>False</td>\n",
       "      <td>https://www.reddit.com/r/cringe/comments/5ldm3...</td>\n",
       "    </tr>\n",
       "    <tr>\n",
       "      <th>3</th>\n",
       "      <td>r/AskReddit</td>\n",
       "      <td>What do you do when you come across an elephan...</td>\n",
       "      <td>2018-03-09 02:49:12</td>\n",
       "      <td>1967</td>\n",
       "      <td>1967</td>\n",
       "      <td>0</td>\n",
       "      <td>0</td>\n",
       "      <td>None</td>\n",
       "      <td>0</td>\n",
       "      <td>True</td>\n",
       "      <td>https://www.reddit.com/r/AskReddit/comments/83...</td>\n",
       "    </tr>\n",
       "    <tr>\n",
       "      <th>4</th>\n",
       "      <td>r/LivestreamFail</td>\n",
       "      <td>She threatened nuclear war with North Korea</td>\n",
       "      <td>2017-11-03 03:50:02</td>\n",
       "      <td>1753</td>\n",
       "      <td>1753</td>\n",
       "      <td>0</td>\n",
       "      <td>0</td>\n",
       "      <td>None</td>\n",
       "      <td>0</td>\n",
       "      <td>False</td>\n",
       "      <td>https://www.reddit.com/r/LivestreamFail/commen...</td>\n",
       "    </tr>\n",
       "  </tbody>\n",
       "</table>\n",
       "</div>"
      ],
      "text/plain": [
       "           subreddit                                            comment  \\\n",
       "0  r/EnoughTrumpSpam      Can we start a petition to keep them private    \n",
       "1        r/AskReddit                                 Two down one to go   \n",
       "2           r/cringe  Lets applaud her dancers They continued on lik...   \n",
       "3        r/AskReddit  What do you do when you come across an elephan...   \n",
       "4   r/LivestreamFail        She threatened nuclear war with North Korea   \n",
       "\n",
       "          created_utc  score   ups  downs  controversiality flair  gilded  \\\n",
       "0 2017-05-20 02:22:38   8572  8572      0                 0  None       1   \n",
       "1 2018-03-09 05:00:25   5550  5550      0                 0  None       0   \n",
       "2 2017-01-01 05:24:43   3840  3840      0                 0  None       0   \n",
       "3 2018-03-09 02:49:12   1967  1967      0                 0  None       0   \n",
       "4 2017-11-03 03:50:02   1753  1753      0                 0  None       0   \n",
       "\n",
       "   over_18                                               link  \n",
       "0    False  https://www.reddit.com/r/EnoughTrumpSpam/comme...  \n",
       "1    False  https://www.reddit.com/r/AskReddit/comments/83...  \n",
       "2    False  https://www.reddit.com/r/cringe/comments/5ldm3...  \n",
       "3     True  https://www.reddit.com/r/AskReddit/comments/83...  \n",
       "4    False  https://www.reddit.com/r/LivestreamFail/commen...  "
      ]
     },
     "execution_count": 11,
     "metadata": {},
     "output_type": "execute_result"
    }
   ],
   "source": [
    "your_comments.head()"
   ]
  },
  {
   "cell_type": "markdown",
   "metadata": {},
   "source": [
    "## Find common subreddits between 2 users"
   ]
  },
  {
   "cell_type": "code",
   "execution_count": 12,
   "metadata": {
    "collapsed": true
   },
   "outputs": [],
   "source": [
    "def commonSubreddits(user1, user2, redditInstance):\n",
    "    \n",
    "    df1 = getRedditorInfo(user1, redditInstance)\n",
    "    df2 = getRedditorInfo(user2, redditInstance)\n",
    "    \n",
    "    df1 = df1.groupby([\"subreddit\"])[['comment']]\\\n",
    "                .count().reset_index()\\\n",
    "                .sort_values([\"comment\"], ascending = False)\n",
    "            \n",
    "    df2 = df2.groupby([\"subreddit\"])[['comment']]\\\n",
    "            .count().reset_index()\\\n",
    "            .sort_values([\"comment\"], ascending = False)\n",
    "            \n",
    "    df1 = df1.merge(df2, on = \"subreddit\", how = \"inner\")[\"subreddit\"]\n",
    "    result = np.array(df1)\n",
    "    \n",
    "    return(result)"
   ]
  },
  {
   "cell_type": "code",
   "execution_count": 13,
   "metadata": {
    "collapsed": true
   },
   "outputs": [],
   "source": [
    "def commonSubredditCounts(user1, user2, redditInstance):\n",
    "    \n",
    "    common = commonSubreddits(user1, user2, redditInstance)  \n",
    "    \n",
    "    df1 = getRedditorInfo(user1, redditInstance)\n",
    "    df2 = getRedditorInfo(user2, redditInstance)\n",
    "    \n",
    "    df1 = df1[df1[\"subreddit\"].isin(common)]\n",
    "    df2 = df2[df2[\"subreddit\"].isin(common)]\n",
    "        \n",
    "    df1Counts = df1.groupby([\"subreddit\"])[['comment']]\\\n",
    "                .count().reset_index()\\\n",
    "                .sort_values([\"comment\"], ascending = False)\\\n",
    "                .reset_index(drop = True)\n",
    "                \n",
    "    df2Counts = df2.groupby([\"subreddit\"])[['comment']]\\\n",
    "            .count().reset_index()\\\n",
    "            .sort_values([\"comment\"], ascending = False)\\\n",
    "            .reset_index(drop = True)              \n",
    "                \n",
    "    return(df1Counts, df2Counts)                              "
   ]
  },
  {
   "cell_type": "markdown",
   "metadata": {},
   "source": [
    "### Examples"
   ]
  },
  {
   "cell_type": "code",
   "execution_count": 14,
   "metadata": {},
   "outputs": [
    {
     "name": "stdout",
     "output_type": "stream",
     "text": [
      "Retrieved 983 comments for user: KCTigerGrad\n",
      "Retrieved 2734 comments for user: PrancingPeach\n",
      "Retrieved 983 comments for user: KCTigerGrad\n",
      "Retrieved 2734 comments for user: PrancingPeach\n"
     ]
    }
   ],
   "source": [
    "one, two = commonSubredditCounts(\"KCTigerGrad\", \"PrancingPeach\", r)"
   ]
  },
  {
   "cell_type": "code",
   "execution_count": 15,
   "metadata": {},
   "outputs": [
    {
     "data": {
      "text/html": [
       "<div>\n",
       "<style>\n",
       "    .dataframe thead tr:only-child th {\n",
       "        text-align: right;\n",
       "    }\n",
       "\n",
       "    .dataframe thead th {\n",
       "        text-align: left;\n",
       "    }\n",
       "\n",
       "    .dataframe tbody tr th {\n",
       "        vertical-align: top;\n",
       "    }\n",
       "</style>\n",
       "<table border=\"1\" class=\"dataframe\">\n",
       "  <thead>\n",
       "    <tr style=\"text-align: right;\">\n",
       "      <th></th>\n",
       "      <th>subreddit</th>\n",
       "      <th>comment</th>\n",
       "    </tr>\n",
       "  </thead>\n",
       "  <tbody>\n",
       "    <tr>\n",
       "      <th>0</th>\n",
       "      <td>r/mizzou</td>\n",
       "      <td>205</td>\n",
       "    </tr>\n",
       "    <tr>\n",
       "      <th>1</th>\n",
       "      <td>r/relationships</td>\n",
       "      <td>59</td>\n",
       "    </tr>\n",
       "    <tr>\n",
       "      <th>2</th>\n",
       "      <td>r/AskReddit</td>\n",
       "      <td>55</td>\n",
       "    </tr>\n",
       "    <tr>\n",
       "      <th>3</th>\n",
       "      <td>r/personalfinance</td>\n",
       "      <td>22</td>\n",
       "    </tr>\n",
       "    <tr>\n",
       "      <th>4</th>\n",
       "      <td>r/IAmA</td>\n",
       "      <td>21</td>\n",
       "    </tr>\n",
       "    <tr>\n",
       "      <th>5</th>\n",
       "      <td>r/jobs</td>\n",
       "      <td>16</td>\n",
       "    </tr>\n",
       "    <tr>\n",
       "      <th>6</th>\n",
       "      <td>r/politics</td>\n",
       "      <td>14</td>\n",
       "    </tr>\n",
       "    <tr>\n",
       "      <th>7</th>\n",
       "      <td>r/movies</td>\n",
       "      <td>5</td>\n",
       "    </tr>\n",
       "    <tr>\n",
       "      <th>8</th>\n",
       "      <td>r/explainlikeimfive</td>\n",
       "      <td>1</td>\n",
       "    </tr>\n",
       "    <tr>\n",
       "      <th>9</th>\n",
       "      <td>r/television</td>\n",
       "      <td>1</td>\n",
       "    </tr>\n",
       "  </tbody>\n",
       "</table>\n",
       "</div>"
      ],
      "text/plain": [
       "             subreddit  comment\n",
       "0             r/mizzou      205\n",
       "1      r/relationships       59\n",
       "2          r/AskReddit       55\n",
       "3    r/personalfinance       22\n",
       "4               r/IAmA       21\n",
       "5               r/jobs       16\n",
       "6           r/politics       14\n",
       "7             r/movies        5\n",
       "8  r/explainlikeimfive        1\n",
       "9         r/television        1"
      ]
     },
     "execution_count": 15,
     "metadata": {},
     "output_type": "execute_result"
    }
   ],
   "source": [
    "one.head(10)"
   ]
  },
  {
   "cell_type": "code",
   "execution_count": 16,
   "metadata": {},
   "outputs": [
    {
     "data": {
      "text/html": [
       "<div>\n",
       "<style>\n",
       "    .dataframe thead tr:only-child th {\n",
       "        text-align: right;\n",
       "    }\n",
       "\n",
       "    .dataframe thead th {\n",
       "        text-align: left;\n",
       "    }\n",
       "\n",
       "    .dataframe tbody tr th {\n",
       "        vertical-align: top;\n",
       "    }\n",
       "</style>\n",
       "<table border=\"1\" class=\"dataframe\">\n",
       "  <thead>\n",
       "    <tr style=\"text-align: right;\">\n",
       "      <th></th>\n",
       "      <th>subreddit</th>\n",
       "      <th>comment</th>\n",
       "    </tr>\n",
       "  </thead>\n",
       "  <tbody>\n",
       "    <tr>\n",
       "      <th>0</th>\n",
       "      <td>r/relationships</td>\n",
       "      <td>98</td>\n",
       "    </tr>\n",
       "    <tr>\n",
       "      <th>1</th>\n",
       "      <td>r/personalfinance</td>\n",
       "      <td>88</td>\n",
       "    </tr>\n",
       "    <tr>\n",
       "      <th>2</th>\n",
       "      <td>r/AskReddit</td>\n",
       "      <td>53</td>\n",
       "    </tr>\n",
       "    <tr>\n",
       "      <th>3</th>\n",
       "      <td>r/jobs</td>\n",
       "      <td>53</td>\n",
       "    </tr>\n",
       "    <tr>\n",
       "      <th>4</th>\n",
       "      <td>r/movies</td>\n",
       "      <td>46</td>\n",
       "    </tr>\n",
       "    <tr>\n",
       "      <th>5</th>\n",
       "      <td>r/politics</td>\n",
       "      <td>16</td>\n",
       "    </tr>\n",
       "    <tr>\n",
       "      <th>6</th>\n",
       "      <td>r/IAmA</td>\n",
       "      <td>10</td>\n",
       "    </tr>\n",
       "    <tr>\n",
       "      <th>7</th>\n",
       "      <td>r/television</td>\n",
       "      <td>7</td>\n",
       "    </tr>\n",
       "    <tr>\n",
       "      <th>8</th>\n",
       "      <td>r/mizzou</td>\n",
       "      <td>3</td>\n",
       "    </tr>\n",
       "    <tr>\n",
       "      <th>9</th>\n",
       "      <td>r/explainlikeimfive</td>\n",
       "      <td>1</td>\n",
       "    </tr>\n",
       "  </tbody>\n",
       "</table>\n",
       "</div>"
      ],
      "text/plain": [
       "             subreddit  comment\n",
       "0      r/relationships       98\n",
       "1    r/personalfinance       88\n",
       "2          r/AskReddit       53\n",
       "3               r/jobs       53\n",
       "4             r/movies       46\n",
       "5           r/politics       16\n",
       "6               r/IAmA       10\n",
       "7         r/television        7\n",
       "8             r/mizzou        3\n",
       "9  r/explainlikeimfive        1"
      ]
     },
     "execution_count": 16,
     "metadata": {},
     "output_type": "execute_result"
    }
   ],
   "source": [
    "two.head(10)"
   ]
  },
  {
   "cell_type": "markdown",
   "metadata": {},
   "source": [
    "## Get user flairs"
   ]
  },
  {
   "cell_type": "code",
   "execution_count": 17,
   "metadata": {
    "collapsed": true
   },
   "outputs": [],
   "source": [
    "def getFlairs(username, redditInstance):\n",
    "    df = getRedditorInfo(username, redditInstance)\n",
    "    flairs = set(np.unique(np.array((df[(df[\"flair\"].isnull() == False) & (df[\"flair\"] != \"\")][\"flair\"]))))\n",
    "    if (len(flairs) < 1):\n",
    "        print(\"No flairs for this user\")\n",
    "        return None\n",
    "    else:\n",
    "        return(flairs)"
   ]
  },
  {
   "cell_type": "code",
   "execution_count": 18,
   "metadata": {
    "scrolled": true
   },
   "outputs": [
    {
     "name": "stdout",
     "output_type": "stream",
     "text": [
      "Retrieved 2425 comments for user: Max_W_\n"
     ]
    },
    {
     "data": {
      "text/plain": [
       "{'Chiefs',\n",
       " 'Honor 7X / Asus Nexus 7 / Moto e4+ ',\n",
       " 'Honor 7X, Blue',\n",
       " 'Kansas City Royals',\n",
       " 'MaxW // Force Sensitive',\n",
       " 'Missouri',\n",
       " 'Nexus7 FHD',\n",
       " 'Royals are clutch!'}"
      ]
     },
     "execution_count": 18,
     "metadata": {},
     "output_type": "execute_result"
    }
   ],
   "source": [
    "getFlairs(\"Max_W_\", r)"
   ]
  },
  {
   "cell_type": "code",
   "execution_count": 19,
   "metadata": {},
   "outputs": [
    {
     "name": "stdout",
     "output_type": "stream",
     "text": [
      "Retrieved 2213 comments for user: QiuYiDio\n"
     ]
    },
    {
     "data": {
      "text/plain": [
       "{'Frequent Flyer', 'MBA Grad'}"
      ]
     },
     "execution_count": 19,
     "metadata": {},
     "output_type": "execute_result"
    }
   ],
   "source": [
    "getFlairs(\"QiuYiDio\", r)"
   ]
  },
  {
   "cell_type": "markdown",
   "metadata": {},
   "source": [
    "## Classification of flairs"
   ]
  },
  {
   "cell_type": "code",
   "execution_count": null,
   "metadata": {
    "collapsed": true
   },
   "outputs": [],
   "source": []
  },
  {
   "cell_type": "code",
   "execution_count": null,
   "metadata": {
    "collapsed": true
   },
   "outputs": [],
   "source": []
  },
  {
   "cell_type": "code",
   "execution_count": null,
   "metadata": {
    "collapsed": true
   },
   "outputs": [],
   "source": []
  },
  {
   "cell_type": "code",
   "execution_count": null,
   "metadata": {
    "collapsed": true
   },
   "outputs": [],
   "source": []
  },
  {
   "cell_type": "code",
   "execution_count": null,
   "metadata": {
    "collapsed": true
   },
   "outputs": [],
   "source": []
  },
  {
   "cell_type": "code",
   "execution_count": null,
   "metadata": {
    "collapsed": true
   },
   "outputs": [],
   "source": []
  },
  {
   "cell_type": "code",
   "execution_count": null,
   "metadata": {
    "collapsed": true
   },
   "outputs": [],
   "source": []
  },
  {
   "cell_type": "code",
   "execution_count": null,
   "metadata": {
    "collapsed": true
   },
   "outputs": [],
   "source": []
  },
  {
   "cell_type": "markdown",
   "metadata": {},
   "source": [
    "## Find top features"
   ]
  },
  {
   "cell_type": "code",
   "execution_count": 20,
   "metadata": {
    "collapsed": true
   },
   "outputs": [],
   "source": [
    "def top_tfidf_feats(row, features, top_n = 25):\n",
    "    ''' Get top n tfidf values in row and return them with their corresponding feature names.'''\n",
    "    topn_ids = np.argsort(row)[::-1][:top_n]\n",
    "    top_feats = [(features[i], row[i]) for i in topn_ids]\n",
    "    df = pd.DataFrame(top_feats)\n",
    "    df.columns = ['feature', 'tfidf']\n",
    "    return df"
   ]
  },
  {
   "cell_type": "code",
   "execution_count": 21,
   "metadata": {
    "collapsed": true
   },
   "outputs": [],
   "source": [
    "def top_feats_in_doc(Xtr, features, row_id, top_n = 25):\n",
    "    ''' Top tfidf features in specific document (matrix row) '''\n",
    "    row = np.squeeze(Xtr[row_id].toarray())\n",
    "    return top_tfidf_feats(row, features, top_n)"
   ]
  },
  {
   "cell_type": "code",
   "execution_count": 22,
   "metadata": {
    "collapsed": true
   },
   "outputs": [],
   "source": [
    "def top_mean_feats(Xtr, features, grp_ids=None, min_tfidf=0.1, top_n=25):\n",
    "    ''' Return the top n features that on average are most important amongst documents in rows\n",
    "        indentified by indices in grp_ids. '''\n",
    "    if grp_ids:\n",
    "        D = Xtr[grp_ids].toarray()\n",
    "    else:\n",
    "        D = Xtr.toarray()\n",
    "\n",
    "    D[D < min_tfidf] = 0\n",
    "    tfidf_means = np.mean(D, axis=0)\n",
    "    return top_tfidf_feats(tfidf_means, features, top_n)"
   ]
  },
  {
   "cell_type": "code",
   "execution_count": 23,
   "metadata": {
    "collapsed": true
   },
   "outputs": [],
   "source": [
    "def getTopFeatures(your_username, redditInstance):\n",
    "    \n",
    "    your_corpus = h.getUserComments(your_username, redditInstance)    \n",
    "    \n",
    "    myStopWords = stopwords.words('english')\n",
    "    myStopWords = text.ENGLISH_STOP_WORDS.union(myStopWords)\n",
    "    \n",
    "    tf1 = TfidfVectorizer(analyzer = \"word\", \n",
    "                        ngram_range = (1, 3),\n",
    "                        min_df = 0, \n",
    "                        stop_words = myStopWords)  \n",
    "    \n",
    "    matrix1 = tf1.fit_transform(your_corpus)\n",
    "    features1 = tf1.get_feature_names()         \n",
    "    yourTopOverallFeatures = top_mean_feats(matrix1, features1)\n",
    "        \n",
    "    return(yourTopOverallFeatures)"
   ]
  },
  {
   "cell_type": "markdown",
   "metadata": {},
   "source": [
    "### Example"
   ]
  },
  {
   "cell_type": "code",
   "execution_count": 24,
   "metadata": {},
   "outputs": [
    {
     "name": "stdout",
     "output_type": "stream",
     "text": [
      "------ Retrieved 1710 comments for: QiuYiDio\n"
     ]
    },
    {
     "data": {
      "text/html": [
       "<div>\n",
       "<style>\n",
       "    .dataframe thead tr:only-child th {\n",
       "        text-align: right;\n",
       "    }\n",
       "\n",
       "    .dataframe thead th {\n",
       "        text-align: left;\n",
       "    }\n",
       "\n",
       "    .dataframe tbody tr th {\n",
       "        vertical-align: top;\n",
       "    }\n",
       "</style>\n",
       "<table border=\"1\" class=\"dataframe\">\n",
       "  <thead>\n",
       "    <tr style=\"text-align: right;\">\n",
       "      <th></th>\n",
       "      <th>feature</th>\n",
       "      <th>tfidf</th>\n",
       "    </tr>\n",
       "  </thead>\n",
       "  <tbody>\n",
       "    <tr>\n",
       "      <th>0</th>\n",
       "      <td>read</td>\n",
       "      <td>0.006446</td>\n",
       "    </tr>\n",
       "    <tr>\n",
       "      <th>1</th>\n",
       "      <td>wiki</td>\n",
       "      <td>0.005452</td>\n",
       "    </tr>\n",
       "    <tr>\n",
       "      <th>2</th>\n",
       "      <td>https</td>\n",
       "      <td>0.004638</td>\n",
       "    </tr>\n",
       "    <tr>\n",
       "      <th>3</th>\n",
       "      <td>yes</td>\n",
       "      <td>0.004633</td>\n",
       "    </tr>\n",
       "    <tr>\n",
       "      <th>4</th>\n",
       "      <td>dont</td>\n",
       "      <td>0.003560</td>\n",
       "    </tr>\n",
       "    <tr>\n",
       "      <th>5</th>\n",
       "      <td>sticky</td>\n",
       "      <td>0.003333</td>\n",
       "    </tr>\n",
       "    <tr>\n",
       "      <th>6</th>\n",
       "      <td>op</td>\n",
       "      <td>0.003328</td>\n",
       "    </tr>\n",
       "    <tr>\n",
       "      <th>7</th>\n",
       "      <td>recruiting</td>\n",
       "      <td>0.003214</td>\n",
       "    </tr>\n",
       "    <tr>\n",
       "      <th>8</th>\n",
       "      <td>probably</td>\n",
       "      <td>0.003136</td>\n",
       "    </tr>\n",
       "    <tr>\n",
       "      <th>9</th>\n",
       "      <td>thread</td>\n",
       "      <td>0.002970</td>\n",
       "    </tr>\n",
       "    <tr>\n",
       "      <th>10</th>\n",
       "      <td>rules</td>\n",
       "      <td>0.002932</td>\n",
       "    </tr>\n",
       "    <tr>\n",
       "      <th>11</th>\n",
       "      <td>good</td>\n",
       "      <td>0.002930</td>\n",
       "    </tr>\n",
       "    <tr>\n",
       "      <th>12</th>\n",
       "      <td>manager</td>\n",
       "      <td>0.002809</td>\n",
       "    </tr>\n",
       "    <tr>\n",
       "      <th>13</th>\n",
       "      <td>time</td>\n",
       "      <td>0.002797</td>\n",
       "    </tr>\n",
       "    <tr>\n",
       "      <th>14</th>\n",
       "      <td>know</td>\n",
       "      <td>0.002775</td>\n",
       "    </tr>\n",
       "    <tr>\n",
       "      <th>15</th>\n",
       "      <td>really</td>\n",
       "      <td>0.002759</td>\n",
       "    </tr>\n",
       "    <tr>\n",
       "      <th>16</th>\n",
       "      <td>sure</td>\n",
       "      <td>0.002666</td>\n",
       "    </tr>\n",
       "    <tr>\n",
       "      <th>17</th>\n",
       "      <td>year</td>\n",
       "      <td>0.002666</td>\n",
       "    </tr>\n",
       "    <tr>\n",
       "      <th>18</th>\n",
       "      <td>youre</td>\n",
       "      <td>0.002647</td>\n",
       "    </tr>\n",
       "    <tr>\n",
       "      <th>19</th>\n",
       "      <td>sounds</td>\n",
       "      <td>0.002594</td>\n",
       "    </tr>\n",
       "    <tr>\n",
       "      <th>20</th>\n",
       "      <td>strategy</td>\n",
       "      <td>0.002535</td>\n",
       "    </tr>\n",
       "    <tr>\n",
       "      <th>21</th>\n",
       "      <td>case</td>\n",
       "      <td>0.002485</td>\n",
       "    </tr>\n",
       "    <tr>\n",
       "      <th>22</th>\n",
       "      <td>consulting</td>\n",
       "      <td>0.002467</td>\n",
       "    </tr>\n",
       "    <tr>\n",
       "      <th>23</th>\n",
       "      <td>read wiki</td>\n",
       "      <td>0.002464</td>\n",
       "    </tr>\n",
       "    <tr>\n",
       "      <th>24</th>\n",
       "      <td>people</td>\n",
       "      <td>0.002452</td>\n",
       "    </tr>\n",
       "  </tbody>\n",
       "</table>\n",
       "</div>"
      ],
      "text/plain": [
       "       feature     tfidf\n",
       "0         read  0.006446\n",
       "1         wiki  0.005452\n",
       "2        https  0.004638\n",
       "3          yes  0.004633\n",
       "4         dont  0.003560\n",
       "5       sticky  0.003333\n",
       "6           op  0.003328\n",
       "7   recruiting  0.003214\n",
       "8     probably  0.003136\n",
       "9       thread  0.002970\n",
       "10       rules  0.002932\n",
       "11        good  0.002930\n",
       "12     manager  0.002809\n",
       "13        time  0.002797\n",
       "14        know  0.002775\n",
       "15      really  0.002759\n",
       "16        sure  0.002666\n",
       "17        year  0.002666\n",
       "18       youre  0.002647\n",
       "19      sounds  0.002594\n",
       "20    strategy  0.002535\n",
       "21        case  0.002485\n",
       "22  consulting  0.002467\n",
       "23   read wiki  0.002464\n",
       "24      people  0.002452"
      ]
     },
     "execution_count": 24,
     "metadata": {},
     "output_type": "execute_result"
    }
   ],
   "source": [
    "top = getTopFeatures(\"QiuYiDio\", r)\n",
    "top"
   ]
  },
  {
   "cell_type": "markdown",
   "metadata": {},
   "source": [
    "## Find subreddits that a user posts in"
   ]
  },
  {
   "cell_type": "code",
   "execution_count": 25,
   "metadata": {
    "collapsed": true
   },
   "outputs": [],
   "source": [
    "def getSubredditsPosted(username, redditInstance):\n",
    "    comments = getRedditorInfo(username, redditInstance)\n",
    "    subs = np.array(comments[\"subreddit\"])\n",
    "    subs = (np.unique(subs))\n",
    "    return(subs)"
   ]
  },
  {
   "cell_type": "code",
   "execution_count": 26,
   "metadata": {},
   "outputs": [
    {
     "name": "stdout",
     "output_type": "stream",
     "text": [
      "Retrieved 2425 comments for user: Max_W_\n"
     ]
    },
    {
     "data": {
      "text/plain": [
       "array(['r/ActLikeYouBelong', 'r/AdviceAnimals', 'r/AmIFreeToGo',\n",
       "       'r/Android', 'r/AndroidQuestions', 'r/AnythingGoesPics', 'r/AskMen',\n",
       "       'r/AskReddit', 'r/BacktotheFuture', 'r/Bad_Cop_No_Donut',\n",
       "       'r/BannedFromThe_Donald', 'r/BeAmazed', 'r/Blackout2015',\n",
       "       'r/BravesGIFs', 'r/BuyItForLife', 'r/C25K', 'r/CFB',\n",
       "       'r/CatsStandingUp', 'r/Celebs', 'r/Chromecast', 'r/Cinemagraphs',\n",
       "       'r/Cloververse', 'r/ColorizedHistory', 'r/Cyberpunk',\n",
       "       'r/DC_Cinematic', 'r/DiWHY', 'r/EnoughTrumpSpam',\n",
       "       'r/ExpectationVsReality', 'r/Eyeshakers', 'r/Fitness', 'r/Frugal',\n",
       "       'r/Frugal_Jerk', 'r/Fullmoviesonvimeo', 'r/GalGadot',\n",
       "       'r/GetMotivated', 'r/GradSchool', 'r/HadToHurt',\n",
       "       'r/HighQualityGifs', 'r/Honor', 'r/Honor8', 'r/Huawei',\n",
       "       'r/HumansBeingBros', 'r/IAmA', 'r/IDontWorkHereLady',\n",
       "       'r/IdiotsFightingThings', 'r/IdiotsInCars',\n",
       "       'r/ImGoingToHellForThis', 'r/Jokes', 'r/JusticePorn', 'r/KCRoyals',\n",
       "       'r/KansasCityChiefs', 'r/LateStageCapitalism', 'r/LifeProTips',\n",
       "       'r/LivestreamFail', 'r/MadeMeSmile', 'r/MakeupAddiction',\n",
       "       'r/MapPorn', 'r/MarchAgainstTrump', 'r/Marvel', 'r/MensRights',\n",
       "       'r/MissouriPolitics', 'r/MorbidReality', 'r/MovieDetails',\n",
       "       'r/MoviemaniaHQ', 'r/NPR', 'r/NSFWBulletTime', 'r/Nexus', 'r/NoFap',\n",
       "       'r/OSHA', 'r/OTMemes', 'r/OldSchoolCool', 'r/OriginTP',\n",
       "       'r/PacificRim', 'r/Patriots', 'r/PerfectTiming', 'r/Perfectfit',\n",
       "       'r/PickAnAndroidForMe', 'r/Pixar', 'r/PoliceChases',\n",
       "       'r/PoliticalDiscussion', 'r/PoliticalHumor',\n",
       "       'r/Prematurecelebration', 'r/PrequelMemes', 'r/PublicFreakout',\n",
       "       'r/PurpleCoco', 'r/RadiusTP', 'r/Roadcam', 'r/RoastMe', 'r/Roku',\n",
       "       'r/SandersForPresident', 'r/Spiderman', 'r/StLouisBeer',\n",
       "       'r/StarWars', 'r/StardewValley', 'r/SubredditDrama',\n",
       "       'r/SurpriseAppearances', 'r/SweatyPalms', 'r/TagPro', 'r/TagProIRL',\n",
       "       'r/TalesFromTheFrontDesk', 'r/The_Donald', 'r/The_Mueller',\n",
       "       'r/Tinder', 'r/TooAfraidToAsk', 'r/Toyota', 'r/TrollXChromosomes',\n",
       "       'r/Trumpgret', 'r/UMD', 'r/UNBGBBIIVCHIDCTIICBG', 'r/Unexpected',\n",
       "       'r/UpliftingNews', 'r/WTF', 'r/WeListenToYou', 'r/Wellthatsucks',\n",
       "       'r/Whatcouldgowrong', 'r/WhitePeopleTwitter', 'r/WtSSTaDaMiT',\n",
       "       'r/YouShouldKnow', 'r/agentcarter', 'r/alternativeart',\n",
       "       'r/androidapps', 'r/announcements', 'r/answers', 'r/atheism',\n",
       "       'r/aww', 'r/baseball', 'r/beer', 'r/beerporn', 'r/beforesandafters',\n",
       "       'r/behindthegifs', 'r/bicycletouring', 'r/bicycling',\n",
       "       'r/blackfriday', 'r/blunderyears', 'r/breakingbad',\n",
       "       'r/calvinandhobbes', 'r/chrome', 'r/collegesluts', 'r/columbiamo',\n",
       "       'r/confession', 'r/coolguides', 'r/creepy', 'r/cringe',\n",
       "       'r/cringepics', 'r/daddit', 'r/dataisbeautiful', 'r/de', 'r/disney',\n",
       "       'r/dvdcollection', 'r/esist', 'r/explainlikeimfive', 'r/facepalm',\n",
       "       'r/fantasyfootball', 'r/fireTV', 'r/fitbit', 'r/freebies',\n",
       "       'r/freefolk', 'r/freeuse', 'r/fullmoviesonyoutube', 'r/funny',\n",
       "       'r/galactickarmacourt', 'r/gameofthrones', 'r/gifs',\n",
       "       'r/gifsthatkeepongiving', 'r/gonewildstories', 'r/googleplaydeals',\n",
       "       'r/greentext', 'r/happy', 'r/harrypotter', 'r/headphones',\n",
       "       'r/hearthstone', 'r/highereducation', 'r/hillaryclinton',\n",
       "       'r/holdmyfries', 'r/holdthemoan', 'r/honor7x', 'r/iamverybadass',\n",
       "       'r/iamverysmart', 'r/insanepeoplefacebook', 'r/instant_regret',\n",
       "       'r/instantbarbarians', 'r/kachow', 'r/kaleycuoco', 'r/lists',\n",
       "       'r/loseit', 'r/madlads', 'r/madmen', 'r/marvelstudios', 'r/me_irl',\n",
       "       'r/mechanical_gifs', 'r/mildlyinfuriating', 'r/mildlyinteresting',\n",
       "       'r/misleadingthumbnails', 'r/missouri', 'r/mizzou', 'r/movies',\n",
       "       'r/natalieportman', 'r/nba', 'r/nevertellmetheodds', 'r/news',\n",
       "       'r/nfl', 'r/nonononoyes', 'r/nostalgia', 'r/nottheonion',\n",
       "       'r/occupywallstreet', 'r/oddlysatisfying', 'r/ofcoursethatsathing',\n",
       "       'r/olympics', 'r/personalfinance', 'r/pettyrevenge',\n",
       "       'r/photoshopbattles', 'r/pic', 'r/pics', 'r/politics', 'r/prius',\n",
       "       'r/progresspics', 'r/promos', 'r/pussypassdenied',\n",
       "       'r/quityourbullshit', 'r/reactiongifs', 'r/screenshots', 'r/space',\n",
       "       'r/starterpacks', 'r/technology', 'r/television', 'r/the_meltdown',\n",
       "       'r/therewasanattempt', 'r/thetick', 'r/thewalkingdead', 'r/tifu',\n",
       "       'r/todayilearned', 'r/unitedstatesofamerica', 'r/uspolitics',\n",
       "       'r/video', 'r/videos', 'r/vudu', 'r/wallpapers', 'r/woahdude',\n",
       "       'r/worldnews'], dtype=object)"
      ]
     },
     "execution_count": 26,
     "metadata": {},
     "output_type": "execute_result"
    }
   ],
   "source": [
    "getSubredditsPosted(\"Max_W_\", r)"
   ]
  },
  {
   "cell_type": "markdown",
   "metadata": {},
   "source": [
    "## Analyze sentiment of user comments"
   ]
  },
  {
   "cell_type": "code",
   "execution_count": 27,
   "metadata": {
    "collapsed": true
   },
   "outputs": [],
   "source": [
    "def getSentiment(username, r):\n",
    "    comments = getRedditorInfo(username, r)\n",
    "                    \n",
    "    if (len(comments) < 1):\n",
    "        print(\"No comments for that user\")\n",
    "        return None\n",
    "                        \n",
    "    comments = comments.sort_values(\"created_utc\", ascending = True)    \n",
    "    sid = SentimentIntensityAnalyzer()\n",
    "    \n",
    "    comments[\"negative\"] = comments[\"comment\"].apply(lambda x: sid.polarity_scores(x)[\"neg\"]) \n",
    "    comments[\"neutral\"] = comments[\"comment\"].apply(lambda x: sid.polarity_scores(x)[\"neu\"]) \n",
    "    comments[\"positive\"] = comments[\"comment\"].apply(lambda x: sid.polarity_scores(x)[\"pos\"]) \n",
    "    comments[\"compound\"] = comments[\"comment\"].apply(lambda x: sid.polarity_scores(x)[\"compound\"]) \n",
    "    \n",
    "    return(comments)    "
   ]
  },
  {
   "cell_type": "markdown",
   "metadata": {},
   "source": [
    "### Examples"
   ]
  },
  {
   "cell_type": "code",
   "execution_count": 28,
   "metadata": {},
   "outputs": [
    {
     "name": "stdout",
     "output_type": "stream",
     "text": [
      "Retrieved 2425 comments for user: Max_W_\n"
     ]
    },
    {
     "data": {
      "text/html": [
       "<div>\n",
       "<style>\n",
       "    .dataframe thead tr:only-child th {\n",
       "        text-align: right;\n",
       "    }\n",
       "\n",
       "    .dataframe thead th {\n",
       "        text-align: left;\n",
       "    }\n",
       "\n",
       "    .dataframe tbody tr th {\n",
       "        vertical-align: top;\n",
       "    }\n",
       "</style>\n",
       "<table border=\"1\" class=\"dataframe\">\n",
       "  <thead>\n",
       "    <tr style=\"text-align: right;\">\n",
       "      <th></th>\n",
       "      <th>subreddit</th>\n",
       "      <th>comment</th>\n",
       "      <th>created_utc</th>\n",
       "      <th>score</th>\n",
       "      <th>ups</th>\n",
       "      <th>downs</th>\n",
       "      <th>controversiality</th>\n",
       "      <th>flair</th>\n",
       "      <th>gilded</th>\n",
       "      <th>over_18</th>\n",
       "      <th>link</th>\n",
       "      <th>negative</th>\n",
       "      <th>neutral</th>\n",
       "      <th>positive</th>\n",
       "      <th>compound</th>\n",
       "    </tr>\n",
       "  </thead>\n",
       "  <tbody>\n",
       "    <tr>\n",
       "      <th>2418</th>\n",
       "      <td>r/pics</td>\n",
       "      <td>Thats just his pay and doesnt include other bo...</td>\n",
       "      <td>2011-10-06 18:46:47</td>\n",
       "      <td>1</td>\n",
       "      <td>1</td>\n",
       "      <td>0</td>\n",
       "      <td>0</td>\n",
       "      <td>None</td>\n",
       "      <td>0</td>\n",
       "      <td>False</td>\n",
       "      <td>https://www.reddit.com/r/pics/comments/l39co/i...</td>\n",
       "      <td>0.199</td>\n",
       "      <td>0.801</td>\n",
       "      <td>0.000</td>\n",
       "      <td>-0.6894</td>\n",
       "    </tr>\n",
       "    <tr>\n",
       "      <th>66</th>\n",
       "      <td>r/AskReddit</td>\n",
       "      <td>I upvoted for karma but I think you already go...</td>\n",
       "      <td>2011-10-14 14:22:20</td>\n",
       "      <td>93</td>\n",
       "      <td>93</td>\n",
       "      <td>0</td>\n",
       "      <td>0</td>\n",
       "      <td>None</td>\n",
       "      <td>0</td>\n",
       "      <td>False</td>\n",
       "      <td>https://www.reddit.com/r/AskReddit/comments/lb...</td>\n",
       "      <td>0.000</td>\n",
       "      <td>1.000</td>\n",
       "      <td>0.000</td>\n",
       "      <td>0.0000</td>\n",
       "    </tr>\n",
       "    <tr>\n",
       "      <th>2417</th>\n",
       "      <td>r/pics</td>\n",
       "      <td>Thats odd suddenly at work I got a crick in my...</td>\n",
       "      <td>2011-10-19 18:13:18</td>\n",
       "      <td>1</td>\n",
       "      <td>1</td>\n",
       "      <td>0</td>\n",
       "      <td>0</td>\n",
       "      <td>None</td>\n",
       "      <td>0</td>\n",
       "      <td>False</td>\n",
       "      <td>https://www.reddit.com/r/pics/comments/lhpzc/w...</td>\n",
       "      <td>0.204</td>\n",
       "      <td>0.796</td>\n",
       "      <td>0.000</td>\n",
       "      <td>-0.3182</td>\n",
       "    </tr>\n",
       "    <tr>\n",
       "      <th>2416</th>\n",
       "      <td>r/AskReddit</td>\n",
       "      <td>Do yourself a favor and check out BAND OF BROT...</td>\n",
       "      <td>2011-10-24 19:37:39</td>\n",
       "      <td>1</td>\n",
       "      <td>1</td>\n",
       "      <td>0</td>\n",
       "      <td>0</td>\n",
       "      <td>None</td>\n",
       "      <td>0</td>\n",
       "      <td>False</td>\n",
       "      <td>https://www.reddit.com/r/AskReddit/comments/ln...</td>\n",
       "      <td>0.000</td>\n",
       "      <td>0.856</td>\n",
       "      <td>0.144</td>\n",
       "      <td>0.4019</td>\n",
       "    </tr>\n",
       "    <tr>\n",
       "      <th>2592</th>\n",
       "      <td>r/mizzou</td>\n",
       "      <td>Seems relevanthttp memegeneratornetcacheinstan...</td>\n",
       "      <td>2011-10-24 21:37:51</td>\n",
       "      <td>3</td>\n",
       "      <td>3</td>\n",
       "      <td>0</td>\n",
       "      <td>0</td>\n",
       "      <td>None</td>\n",
       "      <td>0</td>\n",
       "      <td>False</td>\n",
       "      <td>https://www.reddit.com/r/mizzou/comments/lnigs...</td>\n",
       "      <td>0.000</td>\n",
       "      <td>1.000</td>\n",
       "      <td>0.000</td>\n",
       "      <td>0.0000</td>\n",
       "    </tr>\n",
       "  </tbody>\n",
       "</table>\n",
       "</div>"
      ],
      "text/plain": [
       "        subreddit                                            comment  \\\n",
       "2418       r/pics  Thats just his pay and doesnt include other bo...   \n",
       "66    r/AskReddit  I upvoted for karma but I think you already go...   \n",
       "2417       r/pics  Thats odd suddenly at work I got a crick in my...   \n",
       "2416  r/AskReddit  Do yourself a favor and check out BAND OF BROT...   \n",
       "2592     r/mizzou  Seems relevanthttp memegeneratornetcacheinstan...   \n",
       "\n",
       "             created_utc  score  ups  downs  controversiality flair  gilded  \\\n",
       "2418 2011-10-06 18:46:47      1    1      0                 0  None       0   \n",
       "66   2011-10-14 14:22:20     93   93      0                 0  None       0   \n",
       "2417 2011-10-19 18:13:18      1    1      0                 0  None       0   \n",
       "2416 2011-10-24 19:37:39      1    1      0                 0  None       0   \n",
       "2592 2011-10-24 21:37:51      3    3      0                 0  None       0   \n",
       "\n",
       "      over_18                                               link  negative  \\\n",
       "2418    False  https://www.reddit.com/r/pics/comments/l39co/i...     0.199   \n",
       "66      False  https://www.reddit.com/r/AskReddit/comments/lb...     0.000   \n",
       "2417    False  https://www.reddit.com/r/pics/comments/lhpzc/w...     0.204   \n",
       "2416    False  https://www.reddit.com/r/AskReddit/comments/ln...     0.000   \n",
       "2592    False  https://www.reddit.com/r/mizzou/comments/lnigs...     0.000   \n",
       "\n",
       "      neutral  positive  compound  \n",
       "2418    0.801     0.000   -0.6894  \n",
       "66      1.000     0.000    0.0000  \n",
       "2417    0.796     0.000   -0.3182  \n",
       "2416    0.856     0.144    0.4019  \n",
       "2592    1.000     0.000    0.0000  "
      ]
     },
     "execution_count": 28,
     "metadata": {},
     "output_type": "execute_result"
    }
   ],
   "source": [
    "sents = getSentiment(\"Max_W_\", r)\n",
    "sents.head()"
   ]
  },
  {
   "cell_type": "markdown",
   "metadata": {},
   "source": [
    "## Plot sentiment of comments over time"
   ]
  },
  {
   "cell_type": "code",
   "execution_count": 29,
   "metadata": {
    "collapsed": true
   },
   "outputs": [],
   "source": [
    "def plotSentiment(username, subreddit_name, redditInstance):\n",
    "    sents = getSentiment(username, redditInstance)\n",
    "    subreddit_name = \"r/\" + subreddit_name\n",
    "    sents = sents[sents[\"subreddit\"].str.lower() == subreddit_name.lower()]\n",
    "    sents = sents.sort_values(\"created_utc\", ascending = True)  \n",
    "    sents = sents.reset_index()\n",
    "    sents[\"id\"] = sents.index\n",
    "    \n",
    "    if (len(sents) < 3):\n",
    "        print(\"User has not posted on this subreddit\")\n",
    "        return        \n",
    "        \n",
    "    _ = plt.plot(sents[\"id\"], sents[\"compound\"], marker = \"\", linewidth = 1.9, alpha = 0.9)\n",
    "    title = \"Sentiment analysis on \" + subreddit_name + \" for user: \" + username\n",
    "    _ = plt.suptitle(title)\n",
    "    _ = plt.show()\n",
    "    \n",
    "    return"
   ]
  },
  {
   "cell_type": "code",
   "execution_count": 30,
   "metadata": {},
   "outputs": [],
   "source": [
    "def plotTopSentiments(username, redditInstance):\n",
    "    sents = getSentiment(username, redditInstance)    \n",
    "   \n",
    "    subreddits = np.array(sents.groupby([\"subreddit\"]).\\\n",
    "                                                  count().\\\n",
    "                                                  reset_index().\\\n",
    "                                                  sort_values(\"comment\", ascending = False).\\\n",
    "                                                  head(4)[\"subreddit\"])\n",
    "    \n",
    "    numberOfSubs = len(subreddits)\n",
    "    \n",
    "    # create a color palette\n",
    "    palette = plt.get_cmap('Set1')\n",
    "    num = 0\n",
    "    \n",
    "    for s in subreddits:       \n",
    "        \n",
    "        subreddit_name = s\n",
    "        df = sents[sents[\"subreddit\"].str.lower() == subreddit_name.lower()]       \n",
    "        \n",
    "        if (len(df) >= 2):            \n",
    "            num = num + 1 \n",
    "\n",
    "            # Find the right spot on the plot\n",
    "            _ = plt.subplot(2, 2, num)                 \n",
    "\n",
    "            df = df.sort_values(\"created_utc\", ascending = True)  \n",
    "            df = df.reset_index()\n",
    "            df[\"id\"] = df.index\n",
    "\n",
    "            _ = plt.plot(df[\"id\"], df[\"compound\"], marker = \"\", linewidth = 1.9, alpha = 0.9, color = palette(num))\n",
    "\n",
    "            # Not ticks everywhere\n",
    "            if num in range(7) :\n",
    "                _ = plt.tick_params(labelbottom='off')\n",
    "            if num not in [1,4,7] :\n",
    "                _ = plt.tick_params(labelleft='off')\n",
    "\n",
    "            # Add title\n",
    "            _ = plt.title(subreddit_name, loc='left', fontsize=12, fontweight=0, color=palette(num))\n",
    "             \n",
    "\n",
    "    title = \"Sentiment analysis \" + \"for user: \" + username\n",
    "    _ = plt.suptitle(title, fontsize=13, fontweight=0, color='black', style='italic', y=1.02)    \n",
    "    _ = plt.show()\n",
    "    \n",
    "    return"
   ]
  },
  {
   "cell_type": "markdown",
   "metadata": {},
   "source": [
    "### Examples"
   ]
  },
  {
   "cell_type": "code",
   "execution_count": 31,
   "metadata": {},
   "outputs": [
    {
     "name": "stdout",
     "output_type": "stream",
     "text": [
      "Retrieved 2425 comments for user: Max_W_\n"
     ]
    },
    {
     "data": {
      "image/png": "[encoded data removed]",
      "text/plain": [
       "<matplotlib.figure.Figure at 0x15b02332908>"
      ]
     },
     "metadata": {},
     "output_type": "display_data"
    }
   ],
   "source": [
    "plotSentiment(\"Max_W_\", \"mizzou\", r)"
   ]
  },
  {
   "cell_type": "code",
   "execution_count": 32,
   "metadata": {},
   "outputs": [
    {
     "name": "stdout",
     "output_type": "stream",
     "text": [
      "Retrieved 2425 comments for user: Max_W_\n"
     ]
    },
    {
     "data": {
      "image/png": "[encoded data removed]",
      "text/plain": [
       "<matplotlib.figure.Figure at 0x15b220a92b0>"
      ]
     },
     "metadata": {},
     "output_type": "display_data"
    }
   ],
   "source": [
    "plotTopSentiments(\"Max_W_\", r)"
   ]
  },
  {
   "cell_type": "code",
   "execution_count": null,
   "metadata": {
    "collapsed": true
   },
   "outputs": [],
   "source": []
  },
  {
   "cell_type": "code",
   "execution_count": null,
   "metadata": {
    "collapsed": true
   },
   "outputs": [],
   "source": []
  },
  {
   "cell_type": "code",
   "execution_count": null,
   "metadata": {
    "collapsed": true
   },
   "outputs": [],
   "source": []
  },
  {
   "cell_type": "code",
   "execution_count": null,
   "metadata": {
    "collapsed": true
   },
   "outputs": [],
   "source": []
  },
  {
   "cell_type": "code",
   "execution_count": null,
   "metadata": {
    "collapsed": true
   },
   "outputs": [],
   "source": []
  },
  {
   "cell_type": "code",
   "execution_count": 33,
   "metadata": {
    "collapsed": true
   },
   "outputs": [],
   "source": [
    "# why makes a comment get a lot of upvotes?"
   ]
  },
  {
   "cell_type": "code",
   "execution_count": null,
   "metadata": {
    "collapsed": true
   },
   "outputs": [],
   "source": []
  },
  {
   "cell_type": "code",
   "execution_count": null,
   "metadata": {
    "collapsed": true
   },
   "outputs": [],
   "source": []
  },
  {
   "cell_type": "code",
   "execution_count": null,
   "metadata": {
    "collapsed": true
   },
   "outputs": [],
   "source": []
  },
  {
   "cell_type": "code",
   "execution_count": null,
   "metadata": {
    "collapsed": true
   },
   "outputs": [],
   "source": []
  },
  {
   "cell_type": "code",
   "execution_count": null,
   "metadata": {
    "collapsed": true
   },
   "outputs": [],
   "source": []
  },
  {
   "cell_type": "code",
   "execution_count": null,
   "metadata": {
    "collapsed": true
   },
   "outputs": [],
   "source": []
  },
  {
   "cell_type": "code",
   "execution_count": null,
   "metadata": {
    "collapsed": true
   },
   "outputs": [],
   "source": []
  },
  {
   "cell_type": "code",
   "execution_count": null,
   "metadata": {
    "collapsed": true
   },
   "outputs": [],
   "source": []
  },
  {
   "cell_type": "code",
   "execution_count": null,
   "metadata": {
    "collapsed": true
   },
   "outputs": [],
   "source": []
  },
  {
   "cell_type": "code",
   "execution_count": null,
   "metadata": {
    "collapsed": true
   },
   "outputs": [],
   "source": []
  },
  {
   "cell_type": "code",
   "execution_count": null,
   "metadata": {
    "collapsed": true
   },
   "outputs": [],
   "source": []
  },
  {
   "cell_type": "code",
   "execution_count": null,
   "metadata": {
    "collapsed": true
   },
   "outputs": [],
   "source": []
  },
  {
   "cell_type": "code",
   "execution_count": null,
   "metadata": {
    "collapsed": true
   },
   "outputs": [],
   "source": []
  },
  {
   "cell_type": "code",
   "execution_count": null,
   "metadata": {
    "collapsed": true
   },
   "outputs": [],
   "source": []
  },
  {
   "cell_type": "code",
   "execution_count": null,
   "metadata": {
    "collapsed": true
   },
   "outputs": [],
   "source": []
  },
  {
   "cell_type": "code",
   "execution_count": null,
   "metadata": {
    "collapsed": true
   },
   "outputs": [],
   "source": []
  }
 ],
 "metadata": {
  "kernelspec": {
   "display_name": "Python 3",
   "language": "python",
   "name": "python3"
  },
  "language_info": {
   "codemirror_mode": {
    "name": "ipython",
    "version": 3
   },
   "file_extension": ".py",
   "mimetype": "text/x-python",
   "name": "python",
   "nbconvert_exporter": "python",
   "pygments_lexer": "ipython3",
   "version": "3.6.1"
  }
 },
 "nbformat": 4,
 "nbformat_minor": 2
}
