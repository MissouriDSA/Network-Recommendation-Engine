{
 "cells": [
  {
   "cell_type": "code",
   "execution_count": 1,
   "metadata": {},
   "outputs": [
    {
     "name": "stderr",
     "output_type": "stream",
     "text": [
      "C:\\Users\\Jacky Zhao\\Anaconda3\\lib\\site-packages\\nltk\\twitter\\__init__.py:20: UserWarning: The twython library has not been installed. Some functionality from the twitter package will not be available.\n",
      "  warnings.warn(\"The twython library has not been installed. \"\n"
     ]
    }
   ],
   "source": [
    "import pandas as pd\n",
    "import numpy as np\n",
    "import pprint as pp\n",
    "import re, string\n",
    "import time\n",
    "import seaborn as sns\n",
    "from sklearn.feature_extraction.text import TfidfVectorizer\n",
    "from sklearn.metrics.pairwise import linear_kernel\n",
    "import praw\n",
    "from datetime import datetime\n",
    "import nltk\n",
    "from nltk.corpus import stopwords\n",
    "from sklearn.feature_extraction import text \n",
    "from nltk.classify import NaiveBayesClassifier\n",
    "from nltk.corpus import subjectivity\n",
    "from nltk.sentiment.vader import SentimentIntensityAnalyzer\n",
    "import matplotlib.pyplot as plt\n",
    "from nltk.stem import PorterStemmer\n",
    "import json \n",
    "import math\n",
    "\n",
    "# set seaborn settings\n",
    "sns.set()\n",
    "plt.rcParams[\"patch.force_edgecolor\"] = True # set lines\n",
    "plt.style.use('seaborn-darkgrid')\n",
    "\n",
    "\n",
    "import warnings\n",
    "warnings.filterwarnings('ignore')\n",
    "\n",
    "# import credentials and helper functions\n",
    "import credentials as creds\n",
    "import helpers as h"
   ]
  },
  {
   "cell_type": "code",
   "execution_count": 2,
   "metadata": {
    "collapsed": true
   },
   "outputs": [],
   "source": [
    "# API AND LIBRARY DOCUMENTATIONS:\n",
    "# https://praw.readthedocs.io/en/latest/getting_started/\n",
    "# https://www.reddit.com/dev/api/"
   ]
  },
  {
   "cell_type": "markdown",
   "metadata": {},
   "source": [
    "## Instantiate Reddit"
   ]
  },
  {
   "cell_type": "code",
   "execution_count": 3,
   "metadata": {},
   "outputs": [],
   "source": [
    "CLIENT_ID = creds.client_id()\n",
    "CLIENT_SECRET_KEY = creds.client_secret_key()\n",
    "\n",
    "\n",
    "r = praw.Reddit(client_id = CLIENT_ID,\n",
    "                client_secret = CLIENT_SECRET_KEY,\n",
    "                user_agent = 'RedditorMatch')"
   ]
  },
  {
   "cell_type": "markdown",
   "metadata": {},
   "source": [
    "## Specify the scraped datasets"
   ]
  },
  {
   "cell_type": "markdown",
   "metadata": {},
   "source": [
    "Unfortunately, it takes quite some time to retrieve user comments from a particular subreddit. Remember, we're going into a specified subreddit, finding a list of users who posted, and then scraping out every single comment that those users made in the past. In order to remove this bottleneck from my demonstration, I have scraped the comments from users who have posted on r/mizzou. "
   ]
  },
  {
   "cell_type": "code",
   "execution_count": 4,
   "metadata": {
    "collapsed": true
   },
   "outputs": [],
   "source": [
    "scraped_subreddits = [\"mizzou\"]"
   ]
  },
  {
   "cell_type": "markdown",
   "metadata": {},
   "source": [
    "## Recommendation engine logic"
   ]
  },
  {
   "cell_type": "markdown",
   "metadata": {},
   "source": [
    "* ***find_similar():*** Takes in the TFIDF matrix (matrix), the index of the document that you want to match against (index), and the number of results to be displayed (top_n / optional). 6 is chosen as the default for top_n because we're really only interested in the top 5 matched redditors. However, your own username might be chosen as well because well....your comments are very similar to your own comments and thus would have the highest score. The similarity is calculated using the cosine similarity.\n",
    "\n",
    "* ***getDf():*** Takes in the string of the subreddit name and retrieves the scraped comments from the appropriate csv file. \n",
    "\n",
    "* ***stem():*** Takes in a corpus and returns a stemmed corpus. It first tokenizes and stems each word before putting it back together as a single document. \n",
    "\n",
    "* ***findMatches():*** Takes in your username (string), subreddit name (string), and reddit API instance. It calls getDf() to retrieve the scraped comments and applies it to a corpus of comments. It then calls one of the helper functions that I wrote (getUserComments()) to gather the comments of the input username and then prepends it onto the corpus array. It then builds the TFIDF vectorizer with the n_gram specificity of 1 to 3 words. In addition, I'm adding more stopwords into the mix. Once we fit and transform the corpus to get the matrix, we call \"find_similar()\" to retrieve the top 5 matched usernames. "
   ]
  },
  {
   "cell_type": "code",
   "execution_count": 5,
   "metadata": {
    "collapsed": true
   },
   "outputs": [],
   "source": [
    "def find_similar(matrix, index, top_n = 6):\n",
    "    cosine_similarities = linear_kernel(matrix[index: index + 1], matrix).flatten()\n",
    "    related_docs_indices = [i for i in cosine_similarities.argsort()[::-1] if i != index]\n",
    "    return [(index, cosine_similarities[index]) for index in related_docs_indices][0:top_n]"
   ]
  },
  {
   "cell_type": "code",
   "execution_count": 6,
   "metadata": {
    "collapsed": true
   },
   "outputs": [],
   "source": [
    "def getDf(subreddit_name):\n",
    "    filePath = \"data/\" + subreddit_name + \".csv\"\n",
    "    df = pd.read_csv(filePath, encoding = \"ISO-8859-1\")\n",
    "    print(\"--- Retrieved\", len(df), \"corpuses/corpi(?) for\", subreddit_name)\n",
    "    return(df)"
   ]
  },
  {
   "cell_type": "code",
   "execution_count": 7,
   "metadata": {
    "collapsed": true
   },
   "outputs": [],
   "source": [
    "def stem(corpus):\n",
    "    newCorpus = []\n",
    "    print(\"------ Stemming the words\")\n",
    "    \n",
    "    stemmer = PorterStemmer()\n",
    "    \n",
    "    for c in corpus:\n",
    "        try:\n",
    "            tokens = nltk.word_tokenize(c)\n",
    "            \n",
    "            new_tokens = []\n",
    "            \n",
    "            for t in tokens:\n",
    "                try:\n",
    "                    new_t = stemmer.stem(t)\n",
    "                    new_tokens.append(new_t)          \n",
    "                except:\n",
    "                    print(\"can't stem the word. moving on...\")\n",
    "\n",
    "            new_c = ' '.join(new_tokens)\n",
    "            newCorpus.append(new_c)\n",
    "                \n",
    "        except:\n",
    "            print(\"skipping the comment. something went wrong...\")\n",
    "        \n",
    "    return(newCorpus)"
   ]
  },
  {
   "cell_type": "code",
   "execution_count": 8,
   "metadata": {
    "collapsed": true
   },
   "outputs": [],
   "source": [
    "def findMatches(your_username, subreddit_name, redditInstance):\n",
    "    corpus = []    \n",
    "    corpusDf = getDf(subreddit_name)\n",
    "    corpusDf[\"Comments\"].apply(lambda row: corpus.append(str(row)))\n",
    "    \n",
    "    corpus = stem(corpus)\n",
    "    \n",
    "    your_comments = h.getUserComments(your_username, redditInstance)\n",
    "    your_comments = stem(your_comments)    \n",
    "    your_comments = \" \".join(your_comments)\n",
    "    \n",
    "    corpus.insert(0, your_comments)\n",
    "    \n",
    "    print(\"--- Creating Tfidf vector...\")\n",
    "    \n",
    "    myStopWords = stopwords.words('english')\n",
    "    myStopWords = text.ENGLISH_STOP_WORDS.union(myStopWords)\n",
    "    \n",
    "    tf = TfidfVectorizer(analyzer = \"word\", \n",
    "                            ngram_range = (1, 3),\n",
    "                            min_df = 0, \n",
    "                            stop_words = myStopWords)\n",
    "    \n",
    "    print(\"--- Fitting the matrix...\")\n",
    "    matrix = tf.fit_transform(corpus)\n",
    "    results = []\n",
    "    \n",
    "    for index, score in find_similar(matrix, 0):        \n",
    "        index = index - 1 # because we prepended our comments onto the corpus, the index number was shifted by 1.\n",
    "        user = corpusDf.iloc[index, 0]\n",
    "        results.append(user)\n",
    "        print(\"...\")\n",
    "        print(\"...\")\n",
    "        print(\"Score:\", score, \"| Username:\", user)\n",
    "        print(\"=========================================================\")\n",
    "        \n",
    "    return(results)"
   ]
  },
  {
   "cell_type": "markdown",
   "metadata": {},
   "source": [
    "### Example:"
   ]
  },
  {
   "cell_type": "code",
   "execution_count": 9,
   "metadata": {},
   "outputs": [
    {
     "name": "stdout",
     "output_type": "stream",
     "text": [
      "--- Retrieved 288 corpuses/corpi(?) for mizzou\n",
      "--------- stemming the corpus\n",
      "------ Retrieved 1875 comments for: Max_W_\n",
      "--------- stemming the corpus\n",
      "--- Creating Tfidf vector...\n",
      "--- Fitting the matrix...\n",
      "...\n",
      "...\n",
      "Score: 0.969225369472 | Username: Max_W_\n",
      "=========================================================\n",
      "...\n",
      "...\n",
      "Score: 0.393624902539 | Username: PrancingPeach\n",
      "=========================================================\n",
      "...\n",
      "...\n",
      "Score: 0.390623113213 | Username: SexyMcBeast\n",
      "=========================================================\n",
      "...\n",
      "...\n",
      "Score: 0.389878832463 | Username: BrettGilpin\n",
      "=========================================================\n",
      "...\n",
      "...\n",
      "Score: 0.378070693475 | Username: KCTigerGrad\n",
      "=========================================================\n",
      "...\n",
      "...\n",
      "Score: 0.371771697758 | Username: YouKnowThatOtherGuy\n",
      "=========================================================\n"
     ]
    }
   ],
   "source": [
    "# NOTE: I'm displaying the top 6 usernames who are similar. \n",
    "# I chose 6 because if the username is contained in my scraped dataset, \n",
    "# then that username will always show up as most similar. \n",
    "# But we really only care about the top 5 usernames. \n",
    "\n",
    "matches = findMatches(\"Max_W_\", scraped_subreddits[0], r)"
   ]
  },
  {
   "cell_type": "markdown",
   "metadata": {},
   "source": [
    "## Gather user information"
   ]
  },
  {
   "cell_type": "code",
   "execution_count": 10,
   "metadata": {
    "collapsed": true
   },
   "outputs": [],
   "source": [
    "def getRedditorInfo(redditor_name, r):\n",
    "    user = r.redditor(redditor_name)\n",
    "    top = user.comments.top(limit = 1000)\n",
    "    hot = user.comments.hot(limit = 1000)\n",
    "    contro = user.comments.controversial(limit = 1000)\n",
    "    \n",
    "    subreddit = []\n",
    "    comment = []\n",
    "    created_utc = []\n",
    "    score = []\n",
    "    ups = []\n",
    "    downs = []\n",
    "    controversiality = []\n",
    "    flair = []\n",
    "    gilded = []\n",
    "    over_18 = []\n",
    "    link = []\n",
    "    \n",
    "    for c in top:\n",
    "        subreddit.append(c.subreddit_name_prefixed)\n",
    "        comment.append(h.cleanText(c.body))\n",
    "        \n",
    "        parsed_date = datetime.utcfromtimestamp(c.created_utc)\n",
    "        year = parsed_date.year\n",
    "        month = parsed_date.month\n",
    "        day = parsed_date.day\n",
    "        \n",
    "        created_utc.append(parsed_date)\n",
    "        score.append(c.score)\n",
    "        ups.append(c.ups)\n",
    "        downs.append(c.downs)\n",
    "        controversiality.append(c.controversiality)\n",
    "        flair.append(c.author_flair_text)\n",
    "        gilded.append(c.gilded)\n",
    "        over_18.append(c.over_18)\n",
    "        link.append(c.link_permalink)\n",
    "        \n",
    "    for c in hot:\n",
    "        subreddit.append(c.subreddit_name_prefixed)\n",
    "        comment.append(h.cleanText(c.body))\n",
    "        \n",
    "        parsed_date = datetime.utcfromtimestamp(c.created_utc)\n",
    "        year = parsed_date.year\n",
    "        month = parsed_date.month\n",
    "        day = parsed_date.day\n",
    "        \n",
    "        created_utc.append(parsed_date)\n",
    "        score.append(c.score)\n",
    "        ups.append(c.ups)\n",
    "        downs.append(c.downs)\n",
    "        controversiality.append(c.controversiality)\n",
    "        flair.append(c.author_flair_text)\n",
    "        gilded.append(c.gilded)\n",
    "        over_18.append(c.over_18)\n",
    "        link.append(c.link_permalink)\n",
    "        \n",
    "    for c in contro:\n",
    "        subreddit.append(c.subreddit_name_prefixed)\n",
    "        comment.append(h.cleanText(c.body))\n",
    "        \n",
    "        parsed_date = datetime.utcfromtimestamp(c.created_utc)\n",
    "        year = parsed_date.year\n",
    "        month = parsed_date.month\n",
    "        day = parsed_date.day\n",
    "        \n",
    "        created_utc.append(parsed_date)\n",
    "        score.append(c.score)\n",
    "        ups.append(c.ups)\n",
    "        downs.append(c.downs)\n",
    "        controversiality.append(c.controversiality)\n",
    "        flair.append(c.author_flair_text)\n",
    "        gilded.append(c.gilded)\n",
    "        over_18.append(c.over_18)\n",
    "        link.append(c.link_permalink)\n",
    "        \n",
    "    df = pd.DataFrame(subreddit, columns = [\"subreddit\"])\n",
    "    df[\"comment\"] = comment\n",
    "    df[\"created_utc\"] = created_utc\n",
    "    df[\"score\"] = score\n",
    "    df[\"ups\"] = ups\n",
    "    df[\"downs\"] = downs\n",
    "    df[\"controversiality\"] = controversiality\n",
    "    df[\"flair\"] = flair\n",
    "    df[\"gilded\"] = gilded\n",
    "    df[\"over_18\"] = over_18\n",
    "    df[\"link\"] = link\n",
    "    \n",
    "    df = df.drop_duplicates(subset = [\"comment\"], keep = \"first\")    \n",
    "    print(\"Retrieved\", len(df), \"comments for user:\", redditor_name)\n",
    "    return(df)"
   ]
  },
  {
   "cell_type": "markdown",
   "metadata": {},
   "source": [
    "### Examples"
   ]
  },
  {
   "cell_type": "code",
   "execution_count": 11,
   "metadata": {},
   "outputs": [
    {
     "name": "stdout",
     "output_type": "stream",
     "text": [
      "Retrieved 2422 comments for user: Max_W_\n",
      "Retrieved 2734 comments for user: PrancingPeach\n"
     ]
    }
   ],
   "source": [
    "comments1 = getRedditorInfo(\"Max_W_\", r)\n",
    "comments2 = getRedditorInfo(\"PrancingPeach\", r)"
   ]
  },
  {
   "cell_type": "code",
   "execution_count": 12,
   "metadata": {},
   "outputs": [
    {
     "data": {
      "text/html": [
       "<div>\n",
       "<style>\n",
       "    .dataframe thead tr:only-child th {\n",
       "        text-align: right;\n",
       "    }\n",
       "\n",
       "    .dataframe thead th {\n",
       "        text-align: left;\n",
       "    }\n",
       "\n",
       "    .dataframe tbody tr th {\n",
       "        vertical-align: top;\n",
       "    }\n",
       "</style>\n",
       "<table border=\"1\" class=\"dataframe\">\n",
       "  <thead>\n",
       "    <tr style=\"text-align: right;\">\n",
       "      <th></th>\n",
       "      <th>subreddit</th>\n",
       "      <th>comment</th>\n",
       "      <th>created_utc</th>\n",
       "      <th>score</th>\n",
       "      <th>ups</th>\n",
       "      <th>downs</th>\n",
       "      <th>controversiality</th>\n",
       "      <th>flair</th>\n",
       "      <th>gilded</th>\n",
       "      <th>over_18</th>\n",
       "      <th>link</th>\n",
       "    </tr>\n",
       "  </thead>\n",
       "  <tbody>\n",
       "    <tr>\n",
       "      <th>0</th>\n",
       "      <td>r/EnoughTrumpSpam</td>\n",
       "      <td>Can we start a petition to keep them private</td>\n",
       "      <td>2017-05-20 02:22:38</td>\n",
       "      <td>8572</td>\n",
       "      <td>8572</td>\n",
       "      <td>0</td>\n",
       "      <td>0</td>\n",
       "      <td>None</td>\n",
       "      <td>1</td>\n",
       "      <td>False</td>\n",
       "      <td>https://www.reddit.com/r/EnoughTrumpSpam/comme...</td>\n",
       "    </tr>\n",
       "    <tr>\n",
       "      <th>1</th>\n",
       "      <td>r/AskReddit</td>\n",
       "      <td>Two down one to go</td>\n",
       "      <td>2018-03-09 05:00:25</td>\n",
       "      <td>5551</td>\n",
       "      <td>5551</td>\n",
       "      <td>0</td>\n",
       "      <td>0</td>\n",
       "      <td>None</td>\n",
       "      <td>0</td>\n",
       "      <td>False</td>\n",
       "      <td>https://www.reddit.com/r/AskReddit/comments/83...</td>\n",
       "    </tr>\n",
       "    <tr>\n",
       "      <th>2</th>\n",
       "      <td>r/cringe</td>\n",
       "      <td>Lets applaud her dancers They continued on lik...</td>\n",
       "      <td>2017-01-01 05:24:43</td>\n",
       "      <td>3845</td>\n",
       "      <td>3845</td>\n",
       "      <td>0</td>\n",
       "      <td>0</td>\n",
       "      <td>None</td>\n",
       "      <td>0</td>\n",
       "      <td>False</td>\n",
       "      <td>https://www.reddit.com/r/cringe/comments/5ldm3...</td>\n",
       "    </tr>\n",
       "    <tr>\n",
       "      <th>3</th>\n",
       "      <td>r/AskReddit</td>\n",
       "      <td>What do you do when you come across an elephan...</td>\n",
       "      <td>2018-03-09 02:49:12</td>\n",
       "      <td>1963</td>\n",
       "      <td>1963</td>\n",
       "      <td>0</td>\n",
       "      <td>0</td>\n",
       "      <td>None</td>\n",
       "      <td>0</td>\n",
       "      <td>True</td>\n",
       "      <td>https://www.reddit.com/r/AskReddit/comments/83...</td>\n",
       "    </tr>\n",
       "    <tr>\n",
       "      <th>4</th>\n",
       "      <td>r/LivestreamFail</td>\n",
       "      <td>She threatened nuclear war with North Korea</td>\n",
       "      <td>2017-11-03 03:50:02</td>\n",
       "      <td>1762</td>\n",
       "      <td>1762</td>\n",
       "      <td>0</td>\n",
       "      <td>0</td>\n",
       "      <td>None</td>\n",
       "      <td>0</td>\n",
       "      <td>False</td>\n",
       "      <td>https://www.reddit.com/r/LivestreamFail/commen...</td>\n",
       "    </tr>\n",
       "  </tbody>\n",
       "</table>\n",
       "</div>"
      ],
      "text/plain": [
       "           subreddit                                            comment  \\\n",
       "0  r/EnoughTrumpSpam      Can we start a petition to keep them private    \n",
       "1        r/AskReddit                                 Two down one to go   \n",
       "2           r/cringe  Lets applaud her dancers They continued on lik...   \n",
       "3        r/AskReddit  What do you do when you come across an elephan...   \n",
       "4   r/LivestreamFail        She threatened nuclear war with North Korea   \n",
       "\n",
       "          created_utc  score   ups  downs  controversiality flair  gilded  \\\n",
       "0 2017-05-20 02:22:38   8572  8572      0                 0  None       1   \n",
       "1 2018-03-09 05:00:25   5551  5551      0                 0  None       0   \n",
       "2 2017-01-01 05:24:43   3845  3845      0                 0  None       0   \n",
       "3 2018-03-09 02:49:12   1963  1963      0                 0  None       0   \n",
       "4 2017-11-03 03:50:02   1762  1762      0                 0  None       0   \n",
       "\n",
       "   over_18                                               link  \n",
       "0    False  https://www.reddit.com/r/EnoughTrumpSpam/comme...  \n",
       "1    False  https://www.reddit.com/r/AskReddit/comments/83...  \n",
       "2    False  https://www.reddit.com/r/cringe/comments/5ldm3...  \n",
       "3     True  https://www.reddit.com/r/AskReddit/comments/83...  \n",
       "4    False  https://www.reddit.com/r/LivestreamFail/commen...  "
      ]
     },
     "execution_count": 12,
     "metadata": {},
     "output_type": "execute_result"
    }
   ],
   "source": [
    "comments1.head()"
   ]
  },
  {
   "cell_type": "markdown",
   "metadata": {},
   "source": [
    "## Find common subreddits between 2 users"
   ]
  },
  {
   "cell_type": "code",
   "execution_count": 13,
   "metadata": {
    "collapsed": true
   },
   "outputs": [],
   "source": [
    "def commonSubreddits(user1, user2, redditInstance):\n",
    "    \n",
    "    df1 = getRedditorInfo(user1, redditInstance)\n",
    "    df2 = getRedditorInfo(user2, redditInstance)\n",
    "    \n",
    "    df1 = df1.groupby([\"subreddit\"])[['comment']]\\\n",
    "                .count().reset_index()\\\n",
    "                .sort_values([\"comment\"], ascending = False)\n",
    "            \n",
    "    df2 = df2.groupby([\"subreddit\"])[['comment']]\\\n",
    "            .count().reset_index()\\\n",
    "            .sort_values([\"comment\"], ascending = False)\n",
    "            \n",
    "    df1 = df1.merge(df2, on = \"subreddit\", how = \"inner\")[\"subreddit\"]\n",
    "    result = np.array(df1)\n",
    "    \n",
    "    return(result)"
   ]
  },
  {
   "cell_type": "code",
   "execution_count": 14,
   "metadata": {
    "collapsed": true
   },
   "outputs": [],
   "source": [
    "def commonSubredditCounts(user1, user2, redditInstance):\n",
    "    \n",
    "    common = commonSubreddits(user1, user2, redditInstance)  \n",
    "    print(len(common), \"common subreddits found...\")\n",
    "    \n",
    "    df1 = getRedditorInfo(user1, redditInstance)\n",
    "    df2 = getRedditorInfo(user2, redditInstance)\n",
    "    \n",
    "    df1 = df1[df1[\"subreddit\"].isin(common)]\n",
    "    df2 = df2[df2[\"subreddit\"].isin(common)]\n",
    "        \n",
    "    df1Counts = df1.groupby([\"subreddit\"])[['comment']]\\\n",
    "                .count().reset_index()\\\n",
    "                .sort_values([\"comment\"], ascending = False)\\\n",
    "                .reset_index(drop = True)\n",
    "                \n",
    "    df2Counts = df2.groupby([\"subreddit\"])[['comment']]\\\n",
    "            .count().reset_index()\\\n",
    "            .sort_values([\"comment\"], ascending = False)\\\n",
    "            .reset_index(drop = True)      \n",
    "            \n",
    "    renameCols = [\"id\", \"value\"]\n",
    "            \n",
    "    df1Counts.columns = renameCols\n",
    "    df2Counts.columns = renameCols\n",
    "    \n",
    "    df1Counts[\"id\"] = df1Counts[\"id\"].str.lower()\n",
    "    df2Counts[\"id\"] = df2Counts[\"id\"].str.lower()\n",
    "    \n",
    "    df1Counts[\"id\"] = df1Counts[\"id\"].str.replace(\"r/\", \"\")\n",
    "    df2Counts[\"id\"] = df2Counts[\"id\"].str.replace(\"r/\", \"\")\n",
    "    \n",
    "    df1Counts = df1Counts.sort_values(by = [\"id\"], ascending = True)\n",
    "    df2Counts = df2Counts.sort_values(by = [\"id\"], ascending = True)    \n",
    "    \n",
    "                \n",
    "    return(df1Counts, df2Counts)"
   ]
  },
  {
   "cell_type": "code",
   "execution_count": 15,
   "metadata": {
    "collapsed": true
   },
   "outputs": [],
   "source": [
    "def subredditCounts(user, redditInstance):\n",
    "    df1 = getRedditorInfo(user, redditInstance)\n",
    "    \n",
    "    df1Counts = df1.groupby([\"subreddit\"])[['comment']]\\\n",
    "                .count().reset_index()\\\n",
    "                .sort_values([\"comment\"], ascending = False)\\\n",
    "                .reset_index(drop = True)\n",
    "                \n",
    "    renameCols = [\"id\", \"value\"]\n",
    "    df1Counts.columns = renameCols\n",
    "    df1Counts[\"id\"] = df1Counts[\"id\"].str.lower()\n",
    "    df1Counts[\"id\"] = df1Counts[\"id\"].str.replace(\"r/\", \"\")\n",
    "    df1Counts = df1Counts.sort_values(by = [\"id\"], ascending = True)   \n",
    "    \n",
    "    return(df1Counts)  "
   ]
  },
  {
   "cell_type": "code",
   "execution_count": 16,
   "metadata": {},
   "outputs": [
    {
     "name": "stdout",
     "output_type": "stream",
     "text": [
      "Retrieved 2422 comments for user: Max_W_\n",
      "Retrieved 2734 comments for user: PrancingPeach\n"
     ]
    }
   ],
   "source": [
    "allSubreddits1 = subredditCounts(\"Max_W_\", r)\n",
    "allSubreddits2 = subredditCounts(\"PrancingPeach\", r)\n",
    "\n",
    "# Output to CSV files for visualization. \n",
    "allSubreddits1.to_csv(\"frontend/all_sub1.csv\", index = False)\n",
    "allSubreddits2.to_csv(\"frontend/all_sub2.csv\", index = False)"
   ]
  },
  {
   "cell_type": "markdown",
   "metadata": {},
   "source": [
    "### Examples"
   ]
  },
  {
   "cell_type": "code",
   "execution_count": 17,
   "metadata": {},
   "outputs": [
    {
     "name": "stdout",
     "output_type": "stream",
     "text": [
      "Retrieved 2422 comments for user: Max_W_\n",
      "Retrieved 2734 comments for user: PrancingPeach\n",
      "39 common subreddits found...\n",
      "Retrieved 2422 comments for user: Max_W_\n",
      "Retrieved 2734 comments for user: PrancingPeach\n"
     ]
    }
   ],
   "source": [
    "one, two = commonSubredditCounts(\"Max_W_\", \"PrancingPeach\", r)\n",
    "\n",
    "# Output to CSV files for visualization. \n",
    "one.to_csv(\"frontend/common_sub1.csv\", index = False)\n",
    "two.to_csv(\"frontend/common_sub2.csv\", index = False)"
   ]
  },
  {
   "cell_type": "code",
   "execution_count": 18,
   "metadata": {},
   "outputs": [
    {
     "data": {
      "text/html": [
       "<div>\n",
       "<style>\n",
       "    .dataframe thead tr:only-child th {\n",
       "        text-align: right;\n",
       "    }\n",
       "\n",
       "    .dataframe thead th {\n",
       "        text-align: left;\n",
       "    }\n",
       "\n",
       "    .dataframe tbody tr th {\n",
       "        vertical-align: top;\n",
       "    }\n",
       "</style>\n",
       "<table border=\"1\" class=\"dataframe\">\n",
       "  <thead>\n",
       "    <tr style=\"text-align: right;\">\n",
       "      <th></th>\n",
       "      <th>id</th>\n",
       "      <th>value</th>\n",
       "    </tr>\n",
       "  </thead>\n",
       "  <tbody>\n",
       "    <tr>\n",
       "      <th>8</th>\n",
       "      <td>adviceanimals</td>\n",
       "      <td>31</td>\n",
       "    </tr>\n",
       "    <tr>\n",
       "      <th>2</th>\n",
       "      <td>android</td>\n",
       "      <td>64</td>\n",
       "    </tr>\n",
       "    <tr>\n",
       "      <th>0</th>\n",
       "      <td>askreddit</td>\n",
       "      <td>384</td>\n",
       "    </tr>\n",
       "    <tr>\n",
       "      <th>26</th>\n",
       "      <td>atheism</td>\n",
       "      <td>2</td>\n",
       "    </tr>\n",
       "    <tr>\n",
       "      <th>16</th>\n",
       "      <td>aww</td>\n",
       "      <td>5</td>\n",
       "    </tr>\n",
       "    <tr>\n",
       "      <th>36</th>\n",
       "      <td>creepy</td>\n",
       "      <td>1</td>\n",
       "    </tr>\n",
       "    <tr>\n",
       "      <th>21</th>\n",
       "      <td>cringe</td>\n",
       "      <td>2</td>\n",
       "    </tr>\n",
       "    <tr>\n",
       "      <th>25</th>\n",
       "      <td>cringepics</td>\n",
       "      <td>2</td>\n",
       "    </tr>\n",
       "    <tr>\n",
       "      <th>18</th>\n",
       "      <td>dataisbeautiful</td>\n",
       "      <td>3</td>\n",
       "    </tr>\n",
       "    <tr>\n",
       "      <th>3</th>\n",
       "      <td>enoughtrumpspam</td>\n",
       "      <td>47</td>\n",
       "    </tr>\n",
       "    <tr>\n",
       "      <th>29</th>\n",
       "      <td>explainlikeimfive</td>\n",
       "      <td>1</td>\n",
       "    </tr>\n",
       "    <tr>\n",
       "      <th>37</th>\n",
       "      <td>fitness</td>\n",
       "      <td>1</td>\n",
       "    </tr>\n",
       "    <tr>\n",
       "      <th>4</th>\n",
       "      <td>funny</td>\n",
       "      <td>43</td>\n",
       "    </tr>\n",
       "    <tr>\n",
       "      <th>28</th>\n",
       "      <td>gameofthrones</td>\n",
       "      <td>1</td>\n",
       "    </tr>\n",
       "    <tr>\n",
       "      <th>10</th>\n",
       "      <td>gifs</td>\n",
       "      <td>22</td>\n",
       "    </tr>\n",
       "    <tr>\n",
       "      <th>15</th>\n",
       "      <td>iama</td>\n",
       "      <td>5</td>\n",
       "    </tr>\n",
       "    <tr>\n",
       "      <th>22</th>\n",
       "      <td>iamverybadass</td>\n",
       "      <td>2</td>\n",
       "    </tr>\n",
       "    <tr>\n",
       "      <th>27</th>\n",
       "      <td>iamverysmart</td>\n",
       "      <td>1</td>\n",
       "    </tr>\n",
       "    <tr>\n",
       "      <th>23</th>\n",
       "      <td>idiotsincars</td>\n",
       "      <td>2</td>\n",
       "    </tr>\n",
       "    <tr>\n",
       "      <th>33</th>\n",
       "      <td>justiceporn</td>\n",
       "      <td>1</td>\n",
       "    </tr>\n",
       "    <tr>\n",
       "      <th>7</th>\n",
       "      <td>mizzou</td>\n",
       "      <td>34</td>\n",
       "    </tr>\n",
       "    <tr>\n",
       "      <th>13</th>\n",
       "      <td>morbidreality</td>\n",
       "      <td>6</td>\n",
       "    </tr>\n",
       "    <tr>\n",
       "      <th>9</th>\n",
       "      <td>movies</td>\n",
       "      <td>28</td>\n",
       "    </tr>\n",
       "    <tr>\n",
       "      <th>11</th>\n",
       "      <td>news</td>\n",
       "      <td>16</td>\n",
       "    </tr>\n",
       "    <tr>\n",
       "      <th>30</th>\n",
       "      <td>nottheonion</td>\n",
       "      <td>1</td>\n",
       "    </tr>\n",
       "    <tr>\n",
       "      <th>14</th>\n",
       "      <td>personalfinance</td>\n",
       "      <td>6</td>\n",
       "    </tr>\n",
       "    <tr>\n",
       "      <th>5</th>\n",
       "      <td>pics</td>\n",
       "      <td>43</td>\n",
       "    </tr>\n",
       "    <tr>\n",
       "      <th>17</th>\n",
       "      <td>politicalhumor</td>\n",
       "      <td>4</td>\n",
       "    </tr>\n",
       "    <tr>\n",
       "      <th>1</th>\n",
       "      <td>politics</td>\n",
       "      <td>161</td>\n",
       "    </tr>\n",
       "    <tr>\n",
       "      <th>32</th>\n",
       "      <td>stardewvalley</td>\n",
       "      <td>1</td>\n",
       "    </tr>\n",
       "    <tr>\n",
       "      <th>34</th>\n",
       "      <td>starterpacks</td>\n",
       "      <td>1</td>\n",
       "    </tr>\n",
       "    <tr>\n",
       "      <th>31</th>\n",
       "      <td>subredditdrama</td>\n",
       "      <td>1</td>\n",
       "    </tr>\n",
       "    <tr>\n",
       "      <th>35</th>\n",
       "      <td>television</td>\n",
       "      <td>1</td>\n",
       "    </tr>\n",
       "    <tr>\n",
       "      <th>38</th>\n",
       "      <td>the_donald</td>\n",
       "      <td>1</td>\n",
       "    </tr>\n",
       "    <tr>\n",
       "      <th>24</th>\n",
       "      <td>tinder</td>\n",
       "      <td>2</td>\n",
       "    </tr>\n",
       "    <tr>\n",
       "      <th>12</th>\n",
       "      <td>todayilearned</td>\n",
       "      <td>9</td>\n",
       "    </tr>\n",
       "    <tr>\n",
       "      <th>6</th>\n",
       "      <td>videos</td>\n",
       "      <td>36</td>\n",
       "    </tr>\n",
       "    <tr>\n",
       "      <th>20</th>\n",
       "      <td>whatcouldgowrong</td>\n",
       "      <td>3</td>\n",
       "    </tr>\n",
       "    <tr>\n",
       "      <th>19</th>\n",
       "      <td>worldnews</td>\n",
       "      <td>3</td>\n",
       "    </tr>\n",
       "  </tbody>\n",
       "</table>\n",
       "</div>"
      ],
      "text/plain": [
       "                   id  value\n",
       "8       adviceanimals     31\n",
       "2             android     64\n",
       "0           askreddit    384\n",
       "26            atheism      2\n",
       "16                aww      5\n",
       "36             creepy      1\n",
       "21             cringe      2\n",
       "25         cringepics      2\n",
       "18    dataisbeautiful      3\n",
       "3     enoughtrumpspam     47\n",
       "29  explainlikeimfive      1\n",
       "37            fitness      1\n",
       "4               funny     43\n",
       "28      gameofthrones      1\n",
       "10               gifs     22\n",
       "15               iama      5\n",
       "22      iamverybadass      2\n",
       "27       iamverysmart      1\n",
       "23       idiotsincars      2\n",
       "33        justiceporn      1\n",
       "7              mizzou     34\n",
       "13      morbidreality      6\n",
       "9              movies     28\n",
       "11               news     16\n",
       "30        nottheonion      1\n",
       "14    personalfinance      6\n",
       "5                pics     43\n",
       "17     politicalhumor      4\n",
       "1            politics    161\n",
       "32      stardewvalley      1\n",
       "34       starterpacks      1\n",
       "31     subredditdrama      1\n",
       "35         television      1\n",
       "38         the_donald      1\n",
       "24             tinder      2\n",
       "12      todayilearned      9\n",
       "6              videos     36\n",
       "20   whatcouldgowrong      3\n",
       "19          worldnews      3"
      ]
     },
     "execution_count": 18,
     "metadata": {},
     "output_type": "execute_result"
    }
   ],
   "source": [
    "one.head(100)"
   ]
  },
  {
   "cell_type": "code",
   "execution_count": 19,
   "metadata": {},
   "outputs": [
    {
     "data": {
      "text/html": [
       "<div>\n",
       "<style>\n",
       "    .dataframe thead tr:only-child th {\n",
       "        text-align: right;\n",
       "    }\n",
       "\n",
       "    .dataframe thead th {\n",
       "        text-align: left;\n",
       "    }\n",
       "\n",
       "    .dataframe tbody tr th {\n",
       "        vertical-align: top;\n",
       "    }\n",
       "</style>\n",
       "<table border=\"1\" class=\"dataframe\">\n",
       "  <thead>\n",
       "    <tr style=\"text-align: right;\">\n",
       "      <th></th>\n",
       "      <th>id</th>\n",
       "      <th>value</th>\n",
       "    </tr>\n",
       "  </thead>\n",
       "  <tbody>\n",
       "    <tr>\n",
       "      <th>16</th>\n",
       "      <td>adviceanimals</td>\n",
       "      <td>10</td>\n",
       "    </tr>\n",
       "    <tr>\n",
       "      <th>23</th>\n",
       "      <td>android</td>\n",
       "      <td>3</td>\n",
       "    </tr>\n",
       "    <tr>\n",
       "      <th>4</th>\n",
       "      <td>askreddit</td>\n",
       "      <td>53</td>\n",
       "    </tr>\n",
       "    <tr>\n",
       "      <th>18</th>\n",
       "      <td>atheism</td>\n",
       "      <td>9</td>\n",
       "    </tr>\n",
       "    <tr>\n",
       "      <th>25</th>\n",
       "      <td>aww</td>\n",
       "      <td>2</td>\n",
       "    </tr>\n",
       "    <tr>\n",
       "      <th>28</th>\n",
       "      <td>creepy</td>\n",
       "      <td>1</td>\n",
       "    </tr>\n",
       "    <tr>\n",
       "      <th>7</th>\n",
       "      <td>cringe</td>\n",
       "      <td>38</td>\n",
       "    </tr>\n",
       "    <tr>\n",
       "      <th>38</th>\n",
       "      <td>cringepics</td>\n",
       "      <td>1</td>\n",
       "    </tr>\n",
       "    <tr>\n",
       "      <th>9</th>\n",
       "      <td>dataisbeautiful</td>\n",
       "      <td>29</td>\n",
       "    </tr>\n",
       "    <tr>\n",
       "      <th>10</th>\n",
       "      <td>enoughtrumpspam</td>\n",
       "      <td>24</td>\n",
       "    </tr>\n",
       "    <tr>\n",
       "      <th>37</th>\n",
       "      <td>explainlikeimfive</td>\n",
       "      <td>1</td>\n",
       "    </tr>\n",
       "    <tr>\n",
       "      <th>30</th>\n",
       "      <td>fitness</td>\n",
       "      <td>1</td>\n",
       "    </tr>\n",
       "    <tr>\n",
       "      <th>11</th>\n",
       "      <td>funny</td>\n",
       "      <td>20</td>\n",
       "    </tr>\n",
       "    <tr>\n",
       "      <th>12</th>\n",
       "      <td>gameofthrones</td>\n",
       "      <td>17</td>\n",
       "    </tr>\n",
       "    <tr>\n",
       "      <th>34</th>\n",
       "      <td>gifs</td>\n",
       "      <td>1</td>\n",
       "    </tr>\n",
       "    <tr>\n",
       "      <th>17</th>\n",
       "      <td>iama</td>\n",
       "      <td>10</td>\n",
       "    </tr>\n",
       "    <tr>\n",
       "      <th>19</th>\n",
       "      <td>iamverybadass</td>\n",
       "      <td>8</td>\n",
       "    </tr>\n",
       "    <tr>\n",
       "      <th>3</th>\n",
       "      <td>iamverysmart</td>\n",
       "      <td>66</td>\n",
       "    </tr>\n",
       "    <tr>\n",
       "      <th>31</th>\n",
       "      <td>idiotsincars</td>\n",
       "      <td>1</td>\n",
       "    </tr>\n",
       "    <tr>\n",
       "      <th>29</th>\n",
       "      <td>justiceporn</td>\n",
       "      <td>1</td>\n",
       "    </tr>\n",
       "    <tr>\n",
       "      <th>24</th>\n",
       "      <td>mizzou</td>\n",
       "      <td>3</td>\n",
       "    </tr>\n",
       "    <tr>\n",
       "      <th>15</th>\n",
       "      <td>morbidreality</td>\n",
       "      <td>12</td>\n",
       "    </tr>\n",
       "    <tr>\n",
       "      <th>6</th>\n",
       "      <td>movies</td>\n",
       "      <td>46</td>\n",
       "    </tr>\n",
       "    <tr>\n",
       "      <th>14</th>\n",
       "      <td>news</td>\n",
       "      <td>14</td>\n",
       "    </tr>\n",
       "    <tr>\n",
       "      <th>27</th>\n",
       "      <td>nottheonion</td>\n",
       "      <td>2</td>\n",
       "    </tr>\n",
       "    <tr>\n",
       "      <th>1</th>\n",
       "      <td>personalfinance</td>\n",
       "      <td>88</td>\n",
       "    </tr>\n",
       "    <tr>\n",
       "      <th>5</th>\n",
       "      <td>pics</td>\n",
       "      <td>53</td>\n",
       "    </tr>\n",
       "    <tr>\n",
       "      <th>33</th>\n",
       "      <td>politicalhumor</td>\n",
       "      <td>1</td>\n",
       "    </tr>\n",
       "    <tr>\n",
       "      <th>13</th>\n",
       "      <td>politics</td>\n",
       "      <td>16</td>\n",
       "    </tr>\n",
       "    <tr>\n",
       "      <th>26</th>\n",
       "      <td>stardewvalley</td>\n",
       "      <td>2</td>\n",
       "    </tr>\n",
       "    <tr>\n",
       "      <th>22</th>\n",
       "      <td>starterpacks</td>\n",
       "      <td>4</td>\n",
       "    </tr>\n",
       "    <tr>\n",
       "      <th>32</th>\n",
       "      <td>subredditdrama</td>\n",
       "      <td>1</td>\n",
       "    </tr>\n",
       "    <tr>\n",
       "      <th>20</th>\n",
       "      <td>television</td>\n",
       "      <td>7</td>\n",
       "    </tr>\n",
       "    <tr>\n",
       "      <th>21</th>\n",
       "      <td>the_donald</td>\n",
       "      <td>5</td>\n",
       "    </tr>\n",
       "    <tr>\n",
       "      <th>35</th>\n",
       "      <td>tinder</td>\n",
       "      <td>1</td>\n",
       "    </tr>\n",
       "    <tr>\n",
       "      <th>0</th>\n",
       "      <td>todayilearned</td>\n",
       "      <td>131</td>\n",
       "    </tr>\n",
       "    <tr>\n",
       "      <th>8</th>\n",
       "      <td>videos</td>\n",
       "      <td>36</td>\n",
       "    </tr>\n",
       "    <tr>\n",
       "      <th>36</th>\n",
       "      <td>whatcouldgowrong</td>\n",
       "      <td>1</td>\n",
       "    </tr>\n",
       "    <tr>\n",
       "      <th>2</th>\n",
       "      <td>worldnews</td>\n",
       "      <td>66</td>\n",
       "    </tr>\n",
       "  </tbody>\n",
       "</table>\n",
       "</div>"
      ],
      "text/plain": [
       "                   id  value\n",
       "16      adviceanimals     10\n",
       "23            android      3\n",
       "4           askreddit     53\n",
       "18            atheism      9\n",
       "25                aww      2\n",
       "28             creepy      1\n",
       "7              cringe     38\n",
       "38         cringepics      1\n",
       "9     dataisbeautiful     29\n",
       "10    enoughtrumpspam     24\n",
       "37  explainlikeimfive      1\n",
       "30            fitness      1\n",
       "11              funny     20\n",
       "12      gameofthrones     17\n",
       "34               gifs      1\n",
       "17               iama     10\n",
       "19      iamverybadass      8\n",
       "3        iamverysmart     66\n",
       "31       idiotsincars      1\n",
       "29        justiceporn      1\n",
       "24             mizzou      3\n",
       "15      morbidreality     12\n",
       "6              movies     46\n",
       "14               news     14\n",
       "27        nottheonion      2\n",
       "1     personalfinance     88\n",
       "5                pics     53\n",
       "33     politicalhumor      1\n",
       "13           politics     16\n",
       "26      stardewvalley      2\n",
       "22       starterpacks      4\n",
       "32     subredditdrama      1\n",
       "20         television      7\n",
       "21         the_donald      5\n",
       "35             tinder      1\n",
       "0       todayilearned    131\n",
       "8              videos     36\n",
       "36   whatcouldgowrong      1\n",
       "2           worldnews     66"
      ]
     },
     "execution_count": 19,
     "metadata": {},
     "output_type": "execute_result"
    }
   ],
   "source": [
    "two.head(100)"
   ]
  },
  {
   "cell_type": "markdown",
   "metadata": {},
   "source": [
    "## Get user flairs"
   ]
  },
  {
   "cell_type": "code",
   "execution_count": 20,
   "metadata": {
    "collapsed": true
   },
   "outputs": [],
   "source": [
    "def getFlairs(username, redditInstance):\n",
    "    df = getRedditorInfo(username, redditInstance)\n",
    "    flairs = set(np.unique(np.array((df[(df[\"flair\"].isnull() == False) & (df[\"flair\"] != \"\")][\"flair\"]))))\n",
    "    if (len(flairs) < 1):\n",
    "        print(\"No flairs for this user\")\n",
    "        return None\n",
    "    else:\n",
    "        return(flairs)"
   ]
  },
  {
   "cell_type": "code",
   "execution_count": 21,
   "metadata": {
    "scrolled": true
   },
   "outputs": [
    {
     "name": "stdout",
     "output_type": "stream",
     "text": [
      "Retrieved 2422 comments for user: Max_W_\n"
     ]
    },
    {
     "data": {
      "text/plain": [
       "{'Chiefs',\n",
       " 'Honor 7X / Asus Nexus 7 / Moto e4+ ',\n",
       " 'Honor 7X, Blue',\n",
       " 'Kansas City Royals',\n",
       " 'MaxW // Force Sensitive',\n",
       " 'Missouri',\n",
       " 'Nexus7 FHD',\n",
       " 'Royals are clutch!'}"
      ]
     },
     "execution_count": 21,
     "metadata": {},
     "output_type": "execute_result"
    }
   ],
   "source": [
    "getFlairs(\"Max_W_\", r)"
   ]
  },
  {
   "cell_type": "code",
   "execution_count": 22,
   "metadata": {},
   "outputs": [
    {
     "name": "stdout",
     "output_type": "stream",
     "text": [
      "Retrieved 2734 comments for user: PrancingPeach\n"
     ]
    },
    {
     "data": {
      "text/plain": [
       "{'1∆'}"
      ]
     },
     "execution_count": 22,
     "metadata": {},
     "output_type": "execute_result"
    }
   ],
   "source": [
    "getFlairs(\"PrancingPeach\", r)"
   ]
  },
  {
   "cell_type": "markdown",
   "metadata": {},
   "source": [
    "## Find top features"
   ]
  },
  {
   "cell_type": "code",
   "execution_count": 23,
   "metadata": {
    "collapsed": true
   },
   "outputs": [],
   "source": [
    "def top_tfidf_feats(row, features, top_n = 50):\n",
    "    ''' Get top n tfidf values in row and return them with their corresponding feature names.'''\n",
    "    topn_ids = np.argsort(row)[::-1][:top_n]\n",
    "    top_feats = [(features[i], row[i]) for i in topn_ids]\n",
    "    df = pd.DataFrame(top_feats)\n",
    "    df.columns = ['feature', 'tfidf']\n",
    "    return df"
   ]
  },
  {
   "cell_type": "code",
   "execution_count": 24,
   "metadata": {
    "collapsed": true
   },
   "outputs": [],
   "source": [
    "def top_feats_in_doc(Xtr, features, row_id, top_n = 50):\n",
    "    ''' Top tfidf features in specific document (matrix row) '''\n",
    "    row = np.squeeze(Xtr[row_id].toarray())\n",
    "    return top_tfidf_feats(row, features, top_n)"
   ]
  },
  {
   "cell_type": "code",
   "execution_count": 25,
   "metadata": {
    "collapsed": true
   },
   "outputs": [],
   "source": [
    "def top_mean_feats(Xtr, features, grp_ids=None, min_tfidf=0.1, top_n=50):\n",
    "    ''' Return the top n features that on average are most important amongst documents in rows\n",
    "        indentified by indices in grp_ids. '''\n",
    "    if grp_ids:\n",
    "        D = Xtr[grp_ids].toarray()\n",
    "    else:\n",
    "        D = Xtr.toarray()\n",
    "\n",
    "    D[D < min_tfidf] = 0\n",
    "    tfidf_means = np.mean(D, axis=0)\n",
    "    return top_tfidf_feats(tfidf_means, features, top_n)"
   ]
  },
  {
   "cell_type": "code",
   "execution_count": 26,
   "metadata": {
    "collapsed": true
   },
   "outputs": [],
   "source": [
    "def getTopFeatures(your_username, redditInstance):\n",
    "    \n",
    "    your_corpus = h.getUserComments(your_username, redditInstance)  \n",
    "    converted_corpus = []\n",
    "    \n",
    "    stemmer = PorterStemmer()\n",
    "    \n",
    "    for c in your_corpus:        \n",
    "        tokens = nltk.word_tokenize(c)\n",
    "        new_c = ' '.join(stemmer.stem(t) for t in tokens) \n",
    "        converted_corpus.append(new_c)\n",
    "    \n",
    "    your_corpus = converted_corpus   \n",
    "    \n",
    "    myStopWords = stopwords.words('english')\n",
    "    myStopWords = text.ENGLISH_STOP_WORDS.union(myStopWords)\n",
    "    \n",
    "    tf1 = TfidfVectorizer(analyzer = \"word\", \n",
    "                        ngram_range = (1, 3),\n",
    "                        min_df = 0, \n",
    "                        stop_words = myStopWords)  \n",
    "    \n",
    "    matrix1 = tf1.fit_transform(your_corpus)\n",
    "    features1 = tf1.get_feature_names()         \n",
    "    yourTopOverallFeatures = top_mean_feats(matrix1, features1)\n",
    "    cols = [\"id\", \"value\"]\n",
    "    yourTopOverallFeatures.columns = cols\n",
    "        \n",
    "    return(yourTopOverallFeatures)"
   ]
  },
  {
   "cell_type": "markdown",
   "metadata": {},
   "source": [
    "### Example"
   ]
  },
  {
   "cell_type": "code",
   "execution_count": 27,
   "metadata": {},
   "outputs": [
    {
     "name": "stdout",
     "output_type": "stream",
     "text": [
      "------ Retrieved 1875 comments for: Max_W_\n"
     ]
    },
    {
     "data": {
      "text/html": [
       "<div>\n",
       "<style>\n",
       "    .dataframe thead tr:only-child th {\n",
       "        text-align: right;\n",
       "    }\n",
       "\n",
       "    .dataframe thead th {\n",
       "        text-align: left;\n",
       "    }\n",
       "\n",
       "    .dataframe tbody tr th {\n",
       "        vertical-align: top;\n",
       "    }\n",
       "</style>\n",
       "<table border=\"1\" class=\"dataframe\">\n",
       "  <thead>\n",
       "    <tr style=\"text-align: right;\">\n",
       "      <th></th>\n",
       "      <th>id</th>\n",
       "      <th>value</th>\n",
       "    </tr>\n",
       "  </thead>\n",
       "  <tbody>\n",
       "    <tr>\n",
       "      <th>0</th>\n",
       "      <td>wa</td>\n",
       "      <td>0.007712</td>\n",
       "    </tr>\n",
       "    <tr>\n",
       "      <th>1</th>\n",
       "      <td>thi</td>\n",
       "      <td>0.007707</td>\n",
       "    </tr>\n",
       "    <tr>\n",
       "      <th>2</th>\n",
       "      <td>like</td>\n",
       "      <td>0.006776</td>\n",
       "    </tr>\n",
       "    <tr>\n",
       "      <th>3</th>\n",
       "      <td>good</td>\n",
       "      <td>0.006581</td>\n",
       "    </tr>\n",
       "    <tr>\n",
       "      <th>4</th>\n",
       "      <td>look</td>\n",
       "      <td>0.005261</td>\n",
       "    </tr>\n",
       "  </tbody>\n",
       "</table>\n",
       "</div>"
      ],
      "text/plain": [
       "     id     value\n",
       "0    wa  0.007712\n",
       "1   thi  0.007707\n",
       "2  like  0.006776\n",
       "3  good  0.006581\n",
       "4  look  0.005261"
      ]
     },
     "execution_count": 27,
     "metadata": {},
     "output_type": "execute_result"
    }
   ],
   "source": [
    "top = getTopFeatures(\"Max_W_\", r)\n",
    "\n",
    "top.to_csv(\"frontend/topFeatures.csv\", index = False)\n",
    "\n",
    "top.head()"
   ]
  },
  {
   "cell_type": "markdown",
   "metadata": {},
   "source": [
    "## Find subreddits that a user posts in"
   ]
  },
  {
   "cell_type": "code",
   "execution_count": 28,
   "metadata": {
    "collapsed": true
   },
   "outputs": [],
   "source": [
    "def getSubredditsPosted(username, redditInstance):\n",
    "    comments = getRedditorInfo(username, redditInstance)\n",
    "    subs = np.array(comments[\"subreddit\"])\n",
    "    subs = (np.unique(subs))\n",
    "    return(subs)"
   ]
  },
  {
   "cell_type": "code",
   "execution_count": 29,
   "metadata": {},
   "outputs": [
    {
     "name": "stdout",
     "output_type": "stream",
     "text": [
      "Retrieved 2422 comments for user: Max_W_\n"
     ]
    },
    {
     "data": {
      "text/plain": [
       "array(['r/ActLikeYouBelong', 'r/AdviceAnimals', 'r/AmIFreeToGo',\n",
       "       'r/Android', 'r/AndroidQuestions', 'r/AnythingGoesPics', 'r/AskMen',\n",
       "       'r/AskReddit', 'r/BacktotheFuture', 'r/Bad_Cop_No_Donut',\n",
       "       'r/BannedFromThe_Donald', 'r/BeAmazed', 'r/Blackout2015',\n",
       "       'r/BravesGIFs', 'r/BuyItForLife', 'r/C25K', 'r/CFB',\n",
       "       'r/CatsStandingUp', 'r/Celebs', 'r/Chromecast', 'r/Cinemagraphs',\n",
       "       'r/Cloververse', 'r/ColorizedHistory', 'r/Cyberpunk',\n",
       "       'r/DC_Cinematic', 'r/DiWHY', 'r/EnoughTrumpSpam',\n",
       "       'r/ExpectationVsReality', 'r/Eyeshakers', 'r/Fitness', 'r/Frugal',\n",
       "       'r/Frugal_Jerk', 'r/Fullmoviesonvimeo', 'r/GalGadot',\n",
       "       'r/GetMotivated', 'r/GradSchool', 'r/HadToHurt',\n",
       "       'r/HighQualityGifs', 'r/Honor', 'r/Honor8', 'r/Huawei',\n",
       "       'r/HumansBeingBros', 'r/IAmA', 'r/IDontWorkHereLady',\n",
       "       'r/IdiotsFightingThings', 'r/IdiotsInCars',\n",
       "       'r/ImGoingToHellForThis', 'r/Jokes', 'r/JusticePorn', 'r/KCRoyals',\n",
       "       'r/KansasCityChiefs', 'r/LateStageCapitalism', 'r/LifeProTips',\n",
       "       'r/LivestreamFail', 'r/MadeMeSmile', 'r/MakeupAddiction',\n",
       "       'r/MapPorn', 'r/MarchAgainstTrump', 'r/Marvel', 'r/MensRights',\n",
       "       'r/MissouriPolitics', 'r/MorbidReality', 'r/MovieDetails',\n",
       "       'r/MoviemaniaHQ', 'r/NPR', 'r/NSFWBulletTime', 'r/Nexus', 'r/NoFap',\n",
       "       'r/OSHA', 'r/OTMemes', 'r/OldSchoolCool', 'r/OriginTP',\n",
       "       'r/PacificRim', 'r/Patriots', 'r/PerfectTiming', 'r/Perfectfit',\n",
       "       'r/PickAnAndroidForMe', 'r/Pixar', 'r/PoliceChases',\n",
       "       'r/PoliticalDiscussion', 'r/PoliticalHumor',\n",
       "       'r/Prematurecelebration', 'r/PrequelMemes', 'r/PublicFreakout',\n",
       "       'r/PurpleCoco', 'r/RadiusTP', 'r/Roadcam', 'r/RoastMe', 'r/Roku',\n",
       "       'r/SandersForPresident', 'r/Spiderman', 'r/StLouisBeer',\n",
       "       'r/StarWars', 'r/StardewValley', 'r/SubredditDrama',\n",
       "       'r/SurpriseAppearances', 'r/SweatyPalms', 'r/TagPro', 'r/TagProIRL',\n",
       "       'r/TalesFromTheFrontDesk', 'r/The_Donald', 'r/The_Mueller',\n",
       "       'r/Tinder', 'r/TooAfraidToAsk', 'r/Toyota', 'r/TrollXChromosomes',\n",
       "       'r/Trumpgret', 'r/UMD', 'r/UNBGBBIIVCHIDCTIICBG', 'r/Unexpected',\n",
       "       'r/UpliftingNews', 'r/WTF', 'r/WeListenToYou', 'r/Wellthatsucks',\n",
       "       'r/Whatcouldgowrong', 'r/WhitePeopleTwitter', 'r/WtSSTaDaMiT',\n",
       "       'r/YouShouldKnow', 'r/agentcarter', 'r/alternativeart',\n",
       "       'r/androidapps', 'r/announcements', 'r/answers', 'r/atheism',\n",
       "       'r/aww', 'r/baseball', 'r/beer', 'r/beerporn', 'r/beforesandafters',\n",
       "       'r/behindthegifs', 'r/bicycletouring', 'r/bicycling',\n",
       "       'r/blackfriday', 'r/blunderyears', 'r/breakingbad',\n",
       "       'r/calvinandhobbes', 'r/chrome', 'r/collegesluts', 'r/columbiamo',\n",
       "       'r/confession', 'r/coolguides', 'r/creepy', 'r/cringe',\n",
       "       'r/cringepics', 'r/daddit', 'r/dataisbeautiful', 'r/de', 'r/disney',\n",
       "       'r/dvdcollection', 'r/esist', 'r/explainlikeimfive', 'r/facepalm',\n",
       "       'r/fantasyfootball', 'r/fireTV', 'r/fitbit', 'r/freebies',\n",
       "       'r/freefolk', 'r/freeuse', 'r/funny', 'r/galactickarmacourt',\n",
       "       'r/gameofthrones', 'r/gifs', 'r/gifsthatkeepongiving',\n",
       "       'r/gonewildstories', 'r/googleplaydeals', 'r/greentext', 'r/happy',\n",
       "       'r/harrypotter', 'r/headphones', 'r/hearthstone',\n",
       "       'r/highereducation', 'r/hillaryclinton', 'r/holdmyfries',\n",
       "       'r/holdthemoan', 'r/honor7x', 'r/iamverybadass', 'r/iamverysmart',\n",
       "       'r/insanepeoplefacebook', 'r/instant_regret', 'r/instantbarbarians',\n",
       "       'r/kachow', 'r/kaleycuoco', 'r/lists', 'r/loseit', 'r/madlads',\n",
       "       'r/madmen', 'r/marvelstudios', 'r/me_irl', 'r/mechanical_gifs',\n",
       "       'r/mildlyinfuriating', 'r/mildlyinteresting',\n",
       "       'r/misleadingthumbnails', 'r/missouri', 'r/mizzou', 'r/movies',\n",
       "       'r/natalieportman', 'r/nba', 'r/nevertellmetheodds', 'r/news',\n",
       "       'r/nfl', 'r/nonononoyes', 'r/nostalgia', 'r/nottheonion',\n",
       "       'r/occupywallstreet', 'r/oddlysatisfying', 'r/ofcoursethatsathing',\n",
       "       'r/olympics', 'r/personalfinance', 'r/pettyrevenge',\n",
       "       'r/photoshopbattles', 'r/pic', 'r/pics', 'r/politics', 'r/prius',\n",
       "       'r/progresspics', 'r/promos', 'r/pussypassdenied',\n",
       "       'r/quityourbullshit', 'r/reactiongifs', 'r/screenshots', 'r/space',\n",
       "       'r/starterpacks', 'r/technology', 'r/television', 'r/the_meltdown',\n",
       "       'r/therewasanattempt', 'r/thetick', 'r/thewalkingdead', 'r/tifu',\n",
       "       'r/todayilearned', 'r/unitedstatesofamerica', 'r/uspolitics',\n",
       "       'r/video', 'r/videos', 'r/vudu', 'r/wallpapers', 'r/woahdude',\n",
       "       'r/worldnews'], dtype=object)"
      ]
     },
     "execution_count": 29,
     "metadata": {},
     "output_type": "execute_result"
    }
   ],
   "source": [
    "getSubredditsPosted(\"Max_W_\", r)"
   ]
  },
  {
   "cell_type": "markdown",
   "metadata": {},
   "source": [
    "## Analyze sentiment of user comments"
   ]
  },
  {
   "cell_type": "code",
   "execution_count": 30,
   "metadata": {
    "collapsed": true
   },
   "outputs": [],
   "source": [
    "def getSentiment(username, r):\n",
    "    comments = getRedditorInfo(username, r)\n",
    "                    \n",
    "    if (len(comments) < 1):\n",
    "        print(\"No comments for that user\")\n",
    "        return None\n",
    "                        \n",
    "    comments = comments.sort_values(\"created_utc\", ascending = True)    \n",
    "    sid = SentimentIntensityAnalyzer()\n",
    "    \n",
    "    comments[\"negative\"] = comments[\"comment\"].apply(lambda x: sid.polarity_scores(x)[\"neg\"]) \n",
    "    comments[\"neutral\"] = comments[\"comment\"].apply(lambda x: sid.polarity_scores(x)[\"neu\"]) \n",
    "    comments[\"positive\"] = comments[\"comment\"].apply(lambda x: sid.polarity_scores(x)[\"pos\"]) \n",
    "    comments[\"compound\"] = comments[\"comment\"].apply(lambda x: sid.polarity_scores(x)[\"compound\"]) \n",
    "    \n",
    "    return(comments)    "
   ]
  },
  {
   "cell_type": "markdown",
   "metadata": {},
   "source": [
    "### Examples"
   ]
  },
  {
   "cell_type": "code",
   "execution_count": 31,
   "metadata": {},
   "outputs": [
    {
     "name": "stdout",
     "output_type": "stream",
     "text": [
      "Retrieved 2422 comments for user: Max_W_\n"
     ]
    },
    {
     "data": {
      "text/html": [
       "<div>\n",
       "<style>\n",
       "    .dataframe thead tr:only-child th {\n",
       "        text-align: right;\n",
       "    }\n",
       "\n",
       "    .dataframe thead th {\n",
       "        text-align: left;\n",
       "    }\n",
       "\n",
       "    .dataframe tbody tr th {\n",
       "        vertical-align: top;\n",
       "    }\n",
       "</style>\n",
       "<table border=\"1\" class=\"dataframe\">\n",
       "  <thead>\n",
       "    <tr style=\"text-align: right;\">\n",
       "      <th></th>\n",
       "      <th>subreddit</th>\n",
       "      <th>comment</th>\n",
       "      <th>created_utc</th>\n",
       "      <th>score</th>\n",
       "      <th>ups</th>\n",
       "      <th>downs</th>\n",
       "      <th>controversiality</th>\n",
       "      <th>flair</th>\n",
       "      <th>gilded</th>\n",
       "      <th>over_18</th>\n",
       "      <th>link</th>\n",
       "      <th>negative</th>\n",
       "      <th>neutral</th>\n",
       "      <th>positive</th>\n",
       "      <th>compound</th>\n",
       "    </tr>\n",
       "  </thead>\n",
       "  <tbody>\n",
       "    <tr>\n",
       "      <th>2418</th>\n",
       "      <td>r/pics</td>\n",
       "      <td>Thats just his pay and doesnt include other bo...</td>\n",
       "      <td>2011-10-06 18:46:47</td>\n",
       "      <td>1</td>\n",
       "      <td>1</td>\n",
       "      <td>0</td>\n",
       "      <td>0</td>\n",
       "      <td>None</td>\n",
       "      <td>0</td>\n",
       "      <td>False</td>\n",
       "      <td>https://www.reddit.com/r/pics/comments/l39co/i...</td>\n",
       "      <td>0.199</td>\n",
       "      <td>0.801</td>\n",
       "      <td>0.000</td>\n",
       "      <td>-0.6894</td>\n",
       "    </tr>\n",
       "    <tr>\n",
       "      <th>66</th>\n",
       "      <td>r/AskReddit</td>\n",
       "      <td>I upvoted for karma but I think you already go...</td>\n",
       "      <td>2011-10-14 14:22:20</td>\n",
       "      <td>95</td>\n",
       "      <td>95</td>\n",
       "      <td>0</td>\n",
       "      <td>0</td>\n",
       "      <td>None</td>\n",
       "      <td>0</td>\n",
       "      <td>False</td>\n",
       "      <td>https://www.reddit.com/r/AskReddit/comments/lb...</td>\n",
       "      <td>0.000</td>\n",
       "      <td>1.000</td>\n",
       "      <td>0.000</td>\n",
       "      <td>0.0000</td>\n",
       "    </tr>\n",
       "    <tr>\n",
       "      <th>2417</th>\n",
       "      <td>r/pics</td>\n",
       "      <td>Thats odd suddenly at work I got a crick in my...</td>\n",
       "      <td>2011-10-19 18:13:18</td>\n",
       "      <td>1</td>\n",
       "      <td>1</td>\n",
       "      <td>0</td>\n",
       "      <td>0</td>\n",
       "      <td>None</td>\n",
       "      <td>0</td>\n",
       "      <td>False</td>\n",
       "      <td>https://www.reddit.com/r/pics/comments/lhpzc/w...</td>\n",
       "      <td>0.204</td>\n",
       "      <td>0.796</td>\n",
       "      <td>0.000</td>\n",
       "      <td>-0.3182</td>\n",
       "    </tr>\n",
       "    <tr>\n",
       "      <th>2416</th>\n",
       "      <td>r/AskReddit</td>\n",
       "      <td>Do yourself a favor and check out BAND OF BROT...</td>\n",
       "      <td>2011-10-24 19:37:39</td>\n",
       "      <td>1</td>\n",
       "      <td>1</td>\n",
       "      <td>0</td>\n",
       "      <td>0</td>\n",
       "      <td>None</td>\n",
       "      <td>0</td>\n",
       "      <td>False</td>\n",
       "      <td>https://www.reddit.com/r/AskReddit/comments/ln...</td>\n",
       "      <td>0.000</td>\n",
       "      <td>0.856</td>\n",
       "      <td>0.144</td>\n",
       "      <td>0.4019</td>\n",
       "    </tr>\n",
       "    <tr>\n",
       "      <th>2593</th>\n",
       "      <td>r/mizzou</td>\n",
       "      <td>Seems relevanthttp memegeneratornetcacheinstan...</td>\n",
       "      <td>2011-10-24 21:37:51</td>\n",
       "      <td>4</td>\n",
       "      <td>4</td>\n",
       "      <td>0</td>\n",
       "      <td>0</td>\n",
       "      <td>None</td>\n",
       "      <td>0</td>\n",
       "      <td>False</td>\n",
       "      <td>https://www.reddit.com/r/mizzou/comments/lnigs...</td>\n",
       "      <td>0.000</td>\n",
       "      <td>1.000</td>\n",
       "      <td>0.000</td>\n",
       "      <td>0.0000</td>\n",
       "    </tr>\n",
       "  </tbody>\n",
       "</table>\n",
       "</div>"
      ],
      "text/plain": [
       "        subreddit                                            comment  \\\n",
       "2418       r/pics  Thats just his pay and doesnt include other bo...   \n",
       "66    r/AskReddit  I upvoted for karma but I think you already go...   \n",
       "2417       r/pics  Thats odd suddenly at work I got a crick in my...   \n",
       "2416  r/AskReddit  Do yourself a favor and check out BAND OF BROT...   \n",
       "2593     r/mizzou  Seems relevanthttp memegeneratornetcacheinstan...   \n",
       "\n",
       "             created_utc  score  ups  downs  controversiality flair  gilded  \\\n",
       "2418 2011-10-06 18:46:47      1    1      0                 0  None       0   \n",
       "66   2011-10-14 14:22:20     95   95      0                 0  None       0   \n",
       "2417 2011-10-19 18:13:18      1    1      0                 0  None       0   \n",
       "2416 2011-10-24 19:37:39      1    1      0                 0  None       0   \n",
       "2593 2011-10-24 21:37:51      4    4      0                 0  None       0   \n",
       "\n",
       "      over_18                                               link  negative  \\\n",
       "2418    False  https://www.reddit.com/r/pics/comments/l39co/i...     0.199   \n",
       "66      False  https://www.reddit.com/r/AskReddit/comments/lb...     0.000   \n",
       "2417    False  https://www.reddit.com/r/pics/comments/lhpzc/w...     0.204   \n",
       "2416    False  https://www.reddit.com/r/AskReddit/comments/ln...     0.000   \n",
       "2593    False  https://www.reddit.com/r/mizzou/comments/lnigs...     0.000   \n",
       "\n",
       "      neutral  positive  compound  \n",
       "2418    0.801     0.000   -0.6894  \n",
       "66      1.000     0.000    0.0000  \n",
       "2417    0.796     0.000   -0.3182  \n",
       "2416    0.856     0.144    0.4019  \n",
       "2593    1.000     0.000    0.0000  "
      ]
     },
     "execution_count": 31,
     "metadata": {},
     "output_type": "execute_result"
    }
   ],
   "source": [
    "sents = getSentiment(\"Max_W_\", r)\n",
    "sents.head()"
   ]
  },
  {
   "cell_type": "markdown",
   "metadata": {},
   "source": [
    "## Plot sentiment of comments over time"
   ]
  },
  {
   "cell_type": "code",
   "execution_count": 32,
   "metadata": {
    "collapsed": true
   },
   "outputs": [],
   "source": [
    "def plotSentiment(username, subreddit_name, redditInstance):\n",
    "    sents = getSentiment(username, redditInstance)\n",
    "    subreddit_name = \"r/\" + subreddit_name\n",
    "    sents = sents[sents[\"subreddit\"].str.lower() == subreddit_name.lower()]\n",
    "    sents = sents.sort_values(\"created_utc\", ascending = True)  \n",
    "    sents = sents.reset_index()\n",
    "    sents[\"id\"] = sents.index\n",
    "    \n",
    "    if (len(sents) < 3):\n",
    "        print(\"User has not posted on this subreddit\")\n",
    "        return        \n",
    "        \n",
    "    _ = plt.plot(sents[\"id\"], sents[\"compound\"], marker = \"\", linewidth = 1.9, alpha = 0.9)\n",
    "    title = \"Sentiment analysis on \" + subreddit_name + \" for user: \" + username\n",
    "    _ = plt.suptitle(title)\n",
    "    _ = plt.show()\n",
    "    \n",
    "    return"
   ]
  },
  {
   "cell_type": "code",
   "execution_count": 33,
   "metadata": {
    "collapsed": true
   },
   "outputs": [],
   "source": [
    "def plotTopSentiments(username, redditInstance):\n",
    "    sents = getSentiment(username, redditInstance)    \n",
    "   \n",
    "    subreddits = np.array(sents.groupby([\"subreddit\"]).\\\n",
    "                                                  count().\\\n",
    "                                                  reset_index().\\\n",
    "                                                  sort_values(\"comment\", ascending = False).\\\n",
    "                                                  head(4)[\"subreddit\"])\n",
    "    \n",
    "    numberOfSubs = len(subreddits)\n",
    "    \n",
    "    # create a color palette\n",
    "    palette = plt.get_cmap('Set1')\n",
    "    num = 0\n",
    "    \n",
    "    for s in subreddits:       \n",
    "        \n",
    "        subreddit_name = s\n",
    "        df = sents[sents[\"subreddit\"].str.lower() == subreddit_name.lower()]       \n",
    "        \n",
    "        if (len(df) >= 2):            \n",
    "            num = num + 1 \n",
    "\n",
    "            # Find the right spot on the plot\n",
    "            _ = plt.subplot(2, 2, num)                 \n",
    "\n",
    "            df = df.sort_values(\"created_utc\", ascending = True)  \n",
    "            df = df.reset_index()\n",
    "            df[\"id\"] = df.index\n",
    "\n",
    "            _ = plt.plot(df[\"id\"], df[\"compound\"], marker = \"\", linewidth = 1.9, alpha = 0.9, color = palette(num))\n",
    "\n",
    "            # Not ticks everywhere\n",
    "            if num in range(7) :\n",
    "                _ = plt.tick_params(labelbottom='off')\n",
    "            if num not in [1,4,7] :\n",
    "                _ = plt.tick_params(labelleft='off')\n",
    "\n",
    "            # Add title\n",
    "            _ = plt.title(subreddit_name, loc='left', fontsize=12, fontweight=0, color=palette(num))\n",
    "             \n",
    "\n",
    "    title = \"Sentiment analysis \" + \"for user: \" + username\n",
    "    _ = plt.suptitle(title, fontsize=13, fontweight=0, color='black', style='italic', y=1.02)    \n",
    "    _ = plt.show()\n",
    "    \n",
    "    return"
   ]
  },
  {
   "cell_type": "markdown",
   "metadata": {},
   "source": [
    "### Examples"
   ]
  },
  {
   "cell_type": "code",
   "execution_count": 34,
   "metadata": {},
   "outputs": [
    {
     "name": "stdout",
     "output_type": "stream",
     "text": [
      "Retrieved 2422 comments for user: Max_W_\n"
     ]
    },
    {
     "data": {
      "image/png": "[encoded data removed]",
      "text/plain": [
       "<matplotlib.figure.Figure at 0x22688eece48>"
      ]
     },
     "metadata": {},
     "output_type": "display_data"
    }
   ],
   "source": [
    "plotSentiment(\"Max_W_\", \"mizzou\", r)"
   ]
  },
  {
   "cell_type": "code",
   "execution_count": 35,
   "metadata": {},
   "outputs": [
    {
     "name": "stdout",
     "output_type": "stream",
     "text": [
      "Retrieved 2422 comments for user: Max_W_\n"
     ]
    },
    {
     "data": {
      "image/png": "[encoded data removed]",
      "text/plain": [
       "<matplotlib.figure.Figure at 0x226e37fbb38>"
      ]
     },
     "metadata": {},
     "output_type": "display_data"
    }
   ],
   "source": [
    "plotTopSentiments(\"Max_W_\", r)"
   ]
  },
  {
   "cell_type": "code",
   "execution_count": null,
   "metadata": {
    "collapsed": true
   },
   "outputs": [],
   "source": [
    "plotTopSentiments(\"ohai123456789\", r)"
   ]
  },
  {
   "cell_type": "code",
   "execution_count": 4,
   "metadata": {},
   "outputs": [],
   "source": [
    "# NOTE: plot a cumulative chart of sentiment"
   ]
  },
  {
   "cell_type": "markdown",
   "metadata": {},
   "source": [
    "## Build collapsible index visualization"
   ]
  },
  {
   "cell_type": "code",
   "execution_count": 38,
   "metadata": {
    "collapsed": true
   },
   "outputs": [],
   "source": [
    "def formatToDict(name, size):    \n",
    "    return {'name': name, 'size': round(size*100000)}"
   ]
  },
  {
   "cell_type": "code",
   "execution_count": 39,
   "metadata": {
    "collapsed": true
   },
   "outputs": [],
   "source": [
    "def buildCollapsible(your_username, subreddit_name, redditInstance):\n",
    "    matches = list(findMatches(your_username, subreddit_name, redditInstance))\n",
    "    \n",
    "    if (len(matches) < 1): \n",
    "        return None\n",
    "    \n",
    "    entireObjDict = {}\n",
    "    entireObjDict[\"name\"] = \"Top Features\"\n",
    "    objList = []\n",
    "    \n",
    "    for username in matches:\n",
    "        colNames = [\"name\", \"size\"]\n",
    "        features = getTopFeatures(username, redditInstance)        \n",
    "        features.columns = colNames\n",
    "        features = features.head(15)\n",
    "        \n",
    "        children = list(features.apply(lambda row: formatToDict(row[\"name\"], row[\"size\"]), axis = 1))\n",
    "        children\n",
    "        \n",
    "        userObj = {}\n",
    "        userObj[\"name\"] = username\n",
    "        userObj[\"children\"] = children\n",
    "        objList.append(userObj)\n",
    "        \n",
    "    entireObjDict[\"children\"] = objList        \n",
    "    return(entireObjDict)        "
   ]
  },
  {
   "cell_type": "code",
   "execution_count": 40,
   "metadata": {},
   "outputs": [
    {
     "name": "stdout",
     "output_type": "stream",
     "text": [
      "--- Retrieved 288 corpuses/corpi(?) for mizzou\n",
      "--------- stemming the corpus\n",
      "------ Retrieved 1875 comments for: Max_W_\n",
      "--------- stemming the corpus\n",
      "--- Creating Tfidf vector...\n",
      "--- Fitting the matrix...\n",
      "...\n",
      "...\n",
      "Score: 0.969225369472 | Username: Max_W_\n",
      "=========================================================\n",
      "...\n",
      "...\n",
      "Score: 0.393624902539 | Username: PrancingPeach\n",
      "=========================================================\n",
      "...\n",
      "...\n",
      "Score: 0.390623113213 | Username: SexyMcBeast\n",
      "=========================================================\n",
      "...\n",
      "...\n",
      "Score: 0.389878832463 | Username: BrettGilpin\n",
      "=========================================================\n",
      "...\n",
      "...\n",
      "Score: 0.378070693475 | Username: KCTigerGrad\n",
      "=========================================================\n",
      "...\n",
      "...\n",
      "Score: 0.371771697758 | Username: YouKnowThatOtherGuy\n",
      "=========================================================\n",
      "------ Retrieved 1875 comments for: Max_W_\n",
      "------ Retrieved 1931 comments for: PrancingPeach\n",
      "------ Retrieved 1835 comments for: SexyMcBeast\n",
      "------ Retrieved 1958 comments for: BrettGilpin\n",
      "------ Retrieved 983 comments for: KCTigerGrad\n",
      "------ Retrieved 1861 comments for: YouKnowThatOtherGuy\n"
     ]
    }
   ],
   "source": [
    "jsonObj = buildCollapsible(\"Max_W_\", \"mizzou\", r)"
   ]
  },
  {
   "cell_type": "markdown",
   "metadata": {
    "collapsed": true
   },
   "source": [
    "## K-means clustering"
   ]
  },
  {
   "cell_type": "code",
   "execution_count": null,
   "metadata": {
    "collapsed": true
   },
   "outputs": [],
   "source": []
  },
  {
   "cell_type": "code",
   "execution_count": null,
   "metadata": {
    "collapsed": true
   },
   "outputs": [],
   "source": []
  },
  {
   "cell_type": "code",
   "execution_count": null,
   "metadata": {
    "collapsed": true
   },
   "outputs": [],
   "source": []
  },
  {
   "cell_type": "code",
   "execution_count": null,
   "metadata": {
    "collapsed": true
   },
   "outputs": [],
   "source": []
  },
  {
   "cell_type": "code",
   "execution_count": null,
   "metadata": {
    "collapsed": true
   },
   "outputs": [],
   "source": []
  },
  {
   "cell_type": "code",
   "execution_count": null,
   "metadata": {
    "collapsed": true
   },
   "outputs": [],
   "source": []
  },
  {
   "cell_type": "code",
   "execution_count": null,
   "metadata": {
    "collapsed": true
   },
   "outputs": [],
   "source": []
  },
  {
   "cell_type": "code",
   "execution_count": null,
   "metadata": {
    "collapsed": true
   },
   "outputs": [],
   "source": []
  },
  {
   "cell_type": "code",
   "execution_count": null,
   "metadata": {
    "collapsed": true
   },
   "outputs": [],
   "source": []
  },
  {
   "cell_type": "code",
   "execution_count": null,
   "metadata": {
    "collapsed": true
   },
   "outputs": [],
   "source": []
  }
 ],
 "metadata": {
  "kernelspec": {
   "display_name": "Python 3",
   "language": "python",
   "name": "python3"
  },
  "language_info": {
   "codemirror_mode": {
    "name": "ipython",
    "version": 3
   },
   "file_extension": ".py",
   "mimetype": "text/x-python",
   "name": "python",
   "nbconvert_exporter": "python",
   "pygments_lexer": "ipython3",
   "version": "3.6.1"
  }
 },
 "nbformat": 4,
 "nbformat_minor": 2
}
