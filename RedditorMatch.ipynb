{
 "cells": [
  {
   "cell_type": "code",
   "execution_count": null,
   "metadata": {
    "collapsed": true
   },
   "outputs": [],
   "source": [
    "import pandas as pd\n",
    "import numpy as np\n",
    "import pprint as pp\n",
    "import re, string\n",
    "import time\n",
    "from sklearn.feature_extraction.text import TfidfVectorizer\n",
    "from sklearn.metrics.pairwise import linear_kernel\n",
    "import praw"
   ]
  },
  {
   "cell_type": "code",
   "execution_count": null,
   "metadata": {
    "collapsed": true
   },
   "outputs": [],
   "source": [
    "# https://praw.readthedocs.io/en/latest/getting_started/\n",
    "# https://www.reddit.com/dev/api/"
   ]
  },
  {
   "cell_type": "code",
   "execution_count": null,
   "metadata": {},
   "outputs": [],
   "source": [
    "CLIENT_ID = 'INSERT_YOURS'\n",
    "CLIENT_SECRET_KEY = 'INSERT_YOURS'\n",
    "\n",
    "\n",
    "r = praw.Reddit(client_id = CLIENT_ID,\n",
    "                client_secret = CLIENT_SECRET_KEY,\n",
    "                user_agent = 'RedditorMatch')\n",
    "\n",
    "print(r.read_only)"
   ]
  },
  {
   "cell_type": "code",
   "execution_count": null,
   "metadata": {
    "collapsed": true,
    "scrolled": false
   },
   "outputs": [],
   "source": [
    "def getThreads(subreddit, limit = 50):\n",
    "    thread_ids = []\n",
    "    \n",
    "    for t in subreddit.hot(limit = limit):\n",
    "        thread_ids.append(t.id)\n",
    "    \n",
    "    return(thread_ids)"
   ]
  },
  {
   "cell_type": "code",
   "execution_count": null,
   "metadata": {
    "collapsed": true
   },
   "outputs": [],
   "source": [
    "def getUsersFromSubreddit(subredditIds):\n",
    "    if(len(subredditIds) < 1):\n",
    "        return None\n",
    "    \n",
    "    usernames = []\n",
    "\n",
    "    for thread_id in subredditIds:\n",
    "        time.sleep(2)\n",
    "        thread = r.submission(id = thread_id)\n",
    "        username = thread.author.name\n",
    "        if (username not in usernames):\n",
    "            usernames.append(username)\n",
    "    return(usernames)      "
   ]
  },
  {
   "cell_type": "code",
   "execution_count": null,
   "metadata": {
    "collapsed": true
   },
   "outputs": [],
   "source": [
    "def cleanText(text):\n",
    "    text = text.replace(',', ' ').replace(':', ' ')\\\n",
    "                .replace('...', ' ')\\\n",
    "                .replace('?', ' ')\\\n",
    "                .replace('!', ' ')\\\n",
    "                .replace(';', ' ')\\\n",
    "                .replace('\\n', ' ').replace('\\r', '') # replace newlines and page breaks     \n",
    "                \n",
    "    text = re.sub(r'([^\\s\\w]|_)+', '', text) # remove non-alphanumeric characters but leave the spaces\n",
    "    text = re.sub(' +',' ', text) # remove double spaces        \n",
    "    return(text)"
   ]
  },
  {
   "cell_type": "code",
   "execution_count": null,
   "metadata": {
    "collapsed": true
   },
   "outputs": [],
   "source": [
    "def getUserComments(username, commentsLimit = 50):   \n",
    "    userComments = []\n",
    "    user = r.redditor(username)\n",
    "\n",
    "    # new comments\n",
    "    for c in user.comments.new(limit = commentsLimit):\n",
    "        time.sleep(2)\n",
    "        comment = cleanText(c.body)        \n",
    "        if (comment not in userComments):\n",
    "            userComments.append(comment)\n",
    "        \n",
    "    \n",
    "    # hot comments\n",
    "    for c in user.comments.hot(limit = commentsLimit):  \n",
    "        time.sleep(2)\n",
    "        comment = cleanText(c.body)        \n",
    "        if (comment not in userComments):\n",
    "            userComments.append(comment)\n",
    "\n",
    "    # hot comments\n",
    "    for c in user.comments.controversial(limit = commentsLimit):\n",
    "        time.sleep(2)\n",
    "        comment = cleanText(c.body)     \n",
    "        if (comment not in userComments):\n",
    "            userComments.append(comment)\n",
    "        \n",
    "    return(userComments)"
   ]
  },
  {
   "cell_type": "code",
   "execution_count": null,
   "metadata": {
    "collapsed": true
   },
   "outputs": [],
   "source": [
    "def scrapeCommentsFromSubreddit(subreddit):\n",
    "    \n",
    "    UserArray = []\n",
    "    CommentArray = []  \n",
    "    \n",
    "    sub = r.subreddit(subreddit)\n",
    "    threads = getThreads(sub)\n",
    "    users = getUsersFromSubreddit(threads)\n",
    "    for user in users:        \n",
    "        userComments = getUserComments(user)\n",
    "        userComments = \".\".join(userComments)\n",
    "        UserArray.append(user)\n",
    "        CommentArray.append(userComments)      \n",
    "        \n",
    "    df = pd.DataFrame(UserArray, columns = [\"Username\"])\n",
    "    df[\"Comments\"] = CommentArray\n",
    "\n",
    "    return(df)"
   ]
  },
  {
   "cell_type": "code",
   "execution_count": null,
   "metadata": {
    "collapsed": true
   },
   "outputs": [],
   "source": [
    "def find_similar(matrix, index, top_n = 5):\n",
    "    cosine_similarities = linear_kernel(matrix[index: index + 1], matrix).flatten()\n",
    "    related_docs_indices = [i for i in cosine_similarities.argsort()[::-1] if i != index]\n",
    "    return [(index, cosine_similarities[index]) for index in related_docs_indices][0:top_n]"
   ]
  },
  {
   "cell_type": "code",
   "execution_count": null,
   "metadata": {
    "collapsed": true
   },
   "outputs": [],
   "source": [
    "def findMatches(your_username, subreddit):\n",
    "    corpus = []\n",
    "    corpusDf = scrapeCommentsFromSubreddit(subreddit)\n",
    "    corpusDf[\"Comments\"].apply(lambda row: corpus.append(str(row)))\n",
    "    \n",
    "    your_comments = getUserComments(your_username)\n",
    "    your_comments = \".\".join(your_comments)\n",
    "    \n",
    "    corpus.insert(0, your_comments)\n",
    "    \n",
    "    tf = TfidfVectorizer(analyzer = \"word\", \n",
    "                            ngram_range = (1, 3),\n",
    "                            min_df = 0, \n",
    "                            stop_words = \"english\")\n",
    "    \n",
    "    matrix = tf.fit_transform(corpus)\n",
    "    results = []\n",
    "    \n",
    "    for index, score in find_similar(matrix, 0):        \n",
    "        index = index - 1 # because we prepended our comments onto the corpus, the index number was shifted by 1.\n",
    "        user = corpusDf.iloc[index, 0]\n",
    "        results.append(user)\n",
    "        print(\"Score:\", score, \"| Username:\", user)\n",
    "        print(\"=========================================================\")\n",
    "        \n",
    "    return(results)"
   ]
  },
  {
   "cell_type": "code",
   "execution_count": null,
   "metadata": {},
   "outputs": [],
   "source": [
    "matches = findMatches(your_username = \"INSERT_YOUR_USERNAMES\", subreddit = \"datascience\")"
   ]
  },
  {
   "cell_type": "code",
   "execution_count": null,
   "metadata": {},
   "outputs": [],
   "source": [
    "len(matches)"
   ]
  },
  {
   "cell_type": "code",
   "execution_count": null,
   "metadata": {
    "collapsed": true
   },
   "outputs": [],
   "source": [
    "matches[0:10]"
   ]
  },
  {
   "cell_type": "code",
   "execution_count": null,
   "metadata": {
    "collapsed": true
   },
   "outputs": [],
   "source": []
  },
  {
   "cell_type": "code",
   "execution_count": null,
   "metadata": {
    "collapsed": true
   },
   "outputs": [],
   "source": []
  },
  {
   "cell_type": "code",
   "execution_count": null,
   "metadata": {
    "collapsed": true
   },
   "outputs": [],
   "source": []
  },
  {
   "cell_type": "code",
   "execution_count": null,
   "metadata": {
    "collapsed": true
   },
   "outputs": [],
   "source": [
    "def whyMatch(your_username, their_usernames):\n",
    "    # find subreddit subscriptions\n",
    "    # find common words\n",
    "    return"
   ]
  }
 ],
 "metadata": {
  "kernelspec": {
   "display_name": "Python 3",
   "language": "python",
   "name": "python3"
  },
  "language_info": {
   "codemirror_mode": {
    "name": "ipython",
    "version": 3
   },
   "file_extension": ".py",
   "mimetype": "text/x-python",
   "name": "python",
   "nbconvert_exporter": "python",
   "pygments_lexer": "ipython3",
   "version": "3.6.1"
  }
 },
 "nbformat": 4,
 "nbformat_minor": 2
}
