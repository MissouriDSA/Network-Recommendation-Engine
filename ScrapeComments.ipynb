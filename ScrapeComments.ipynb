{
 "cells": [
  {
   "cell_type": "code",
   "execution_count": 1,
   "metadata": {
    "collapsed": true
   },
   "outputs": [],
   "source": [
    "import pandas as pd\n",
    "import numpy as np\n",
    "import pprint as pp\n",
    "import re, string\n",
    "import time\n",
    "from sklearn.feature_extraction.text import TfidfVectorizer\n",
    "from sklearn.metrics.pairwise import linear_kernel\n",
    "import praw\n",
    "\n",
    "import credentials as creds"
   ]
  },
  {
   "cell_type": "code",
   "execution_count": 2,
   "metadata": {
    "collapsed": true
   },
   "outputs": [],
   "source": [
    "# https://praw.readthedocs.io/en/latest/getting_started/\n",
    "# https://www.reddit.com/dev/api/"
   ]
  },
  {
   "cell_type": "code",
   "execution_count": 3,
   "metadata": {},
   "outputs": [
    {
     "name": "stdout",
     "output_type": "stream",
     "text": [
      "True\n"
     ]
    }
   ],
   "source": [
    "CLIENT_ID = creds.client_id()\n",
    "CLIENT_SECRET_KEY = creds.client_secret_key()\n",
    "\n",
    "\n",
    "r = praw.Reddit(client_id = CLIENT_ID,\n",
    "                client_secret = CLIENT_SECRET_KEY,\n",
    "                user_agent = 'RedditorMatch')\n",
    "\n",
    "print(r.read_only)"
   ]
  },
  {
   "cell_type": "code",
   "execution_count": 4,
   "metadata": {
    "collapsed": true,
    "scrolled": false
   },
   "outputs": [],
   "source": [
    "def getThreads(subreddit, limit = 1):\n",
    "    thread_ids = []\n",
    "    \n",
    "    hotThreads = subreddit.hot(limit = limit)\n",
    "    time.sleep(2)\n",
    "    topThreads = subreddit.top(limit = limit)\n",
    "    time.sleep(2)\n",
    "    newThreads = subreddit.new(limit = limit)    \n",
    "    \n",
    "    for t in hotThreads:\n",
    "        if (t.id not in thread_ids):\n",
    "            thread_ids.append(t.id)\n",
    "        \n",
    "    for t in topThreads:\n",
    "        if (t.id not in thread_ids):\n",
    "            thread_ids.append(t.id)\n",
    "        \n",
    "    for t in newThreads:\n",
    "        if (t.id not in thread_ids):\n",
    "            thread_ids.append(t.id)\n",
    "    \n",
    "    return(thread_ids)"
   ]
  },
  {
   "cell_type": "code",
   "execution_count": 5,
   "metadata": {
    "collapsed": true
   },
   "outputs": [],
   "source": [
    "def getUsersFromSubreddit(subredditIds):\n",
    "    if(len(subredditIds) < 1):\n",
    "        return None\n",
    "    \n",
    "    usernames = []\n",
    "    \n",
    "    ## this process takes a while...    \n",
    "\n",
    "    for thread_id in subredditIds:        \n",
    "        thread = r.submission(id = thread_id)\n",
    "        time.sleep(2)\n",
    "        \n",
    "        try:\n",
    "            username = thread.author.name # gets the author of the thread \n",
    "            if (username is not None and username not in usernames):\n",
    "                print(\"--- Adding user:\", username)\n",
    "                usernames.append(username)\n",
    "        except:\n",
    "            print(\"------ Unable to get thread author. Moving on...\")      \n",
    "\n",
    "        # get all authors of the comments in the thread\n",
    "        allComments = thread.comments.list()\n",
    "        for c in allComments:           \n",
    "            username = str(c.author)\n",
    "            if (username is not None and username not in usernames):\n",
    "                print(\"--- Adding user:\", username)\n",
    "                usernames.append(username)\n",
    "                \n",
    "        time.sleep(2)\n",
    "                \n",
    "    return(usernames)      "
   ]
  },
  {
   "cell_type": "code",
   "execution_count": 6,
   "metadata": {
    "collapsed": true
   },
   "outputs": [],
   "source": [
    "def cleanText(text):\n",
    "    text = text.replace(',', ' ').replace(':', ' ')\\\n",
    "                .replace('...', ' ')\\\n",
    "                .replace('?', ' ')\\\n",
    "                .replace('!', ' ')\\\n",
    "                .replace(';', ' ')\\\n",
    "                .replace('\\n', ' ').replace('\\r', '') # replace newlines and page breaks     \n",
    "                \n",
    "    text = re.sub(r'([^\\s\\w]|_)+', '', text) # remove non-alphanumeric characters but leave the spaces\n",
    "    text = re.sub(' +',' ', text) # remove double spaces        \n",
    "    return(text)"
   ]
  },
  {
   "cell_type": "code",
   "execution_count": 7,
   "metadata": {
    "collapsed": true
   },
   "outputs": [],
   "source": [
    "def getRedditor(username):\n",
    "    try:     \n",
    "        username = username.strip()\n",
    "        user = r.redditor(username)\n",
    "    except Exception as e: \n",
    "        print(e)\n",
    "        return None\n",
    "    \n",
    "    return(user)"
   ]
  },
  {
   "cell_type": "code",
   "execution_count": 8,
   "metadata": {},
   "outputs": [],
   "source": [
    "def getUserComments(username, commentsLimit = 1000):   \n",
    "    userComments = []\n",
    "    \n",
    "\n",
    "    counter = 0\n",
    "    while (counter <= 3):\n",
    "        user = getRedditor(username)\n",
    "        if (user is not None):\n",
    "            break\n",
    "        else:\n",
    "            counter = counter + 1               \n",
    "            print(\"------------ Retry #\", counter, \"for user:\", username)\n",
    "            time.sleep(15)\n",
    "        \n",
    "    if (user is None):\n",
    "        print(\"------ ERROR: unable to retrieve user info:\", username)\n",
    "        return None  \n",
    "    \n",
    "    time.sleep(2)\n",
    "    \n",
    "    try:\n",
    "        newComments = user.comments.new(limit = commentsLimit)\n",
    "    except Exception as e: \n",
    "        print(e)\n",
    "        print(\"------ ERROR: unable to retrieve new comments. moving on...\")\n",
    "        newComments = None\n",
    "    \n",
    "    time.sleep(2)\n",
    "    \n",
    "    try:\n",
    "        hotComments = user.comments.hot(limit = commentsLimit)\n",
    "    except Exception as e: \n",
    "        print(e)\n",
    "        print(\"------ ERROR: unable to retrieve hot comments. moving on...\")\n",
    "        hotComments = None\n",
    "    \n",
    "    time.sleep(2)\n",
    "    \n",
    "    try:\n",
    "        controversialComments = user.comments.controversial(limit = commentsLimit)\n",
    "    except Exception as e: \n",
    "        print(e)\n",
    "        print(\"------ ERROR: unable to retrieve controversial comments. moving on...\")\n",
    "        controversialComments = None\n",
    "\n",
    "    # new comments    \n",
    "    try:\n",
    "        if (newComments is not None):\n",
    "            for c in newComments:\n",
    "                comment = cleanText(c.body)        \n",
    "                if (comment not in userComments):\n",
    "                    userComments.append(comment)\n",
    "    except:\n",
    "        print(\"Failed...moving on...\")\n",
    "    \n",
    "    # hot comments\n",
    "    try:\n",
    "        if (hotComments is not None):\n",
    "            for c in hotComments:  \n",
    "                comment = cleanText(c.body)        \n",
    "                if (comment not in userComments):\n",
    "                    userComments.append(comment)\n",
    "    except:\n",
    "        print(\"Failed...moving on...\")\n",
    "\n",
    "    # controversial comments\n",
    "    try:\n",
    "        if (controversialComments is not None):\n",
    "            for c in controversialComments:\n",
    "                comment = cleanText(c.body)     \n",
    "                if (comment not in userComments):\n",
    "                    userComments.append(comment)\n",
    "    except:\n",
    "        print(\"Failed...moving on...\")\n",
    "        \n",
    "    print(\"------ Retrieved\", len(userComments), \"comments for:\", username)\n",
    "    return(userComments)"
   ]
  },
  {
   "cell_type": "code",
   "execution_count": 9,
   "metadata": {
    "collapsed": true
   },
   "outputs": [],
   "source": [
    "def subExists(subreddit):\n",
    "    exists = True\n",
    "    try:\n",
    "        r.subreddits.search_by_name(subreddit, exact = True)\n",
    "    except:\n",
    "        exists = False\n",
    "    return(exists)"
   ]
  },
  {
   "cell_type": "code",
   "execution_count": null,
   "metadata": {
    "collapsed": true
   },
   "outputs": [],
   "source": [
    "def scrapeCommentsFromSubreddit(subreddit):\n",
    "    \n",
    "    UserArray = []\n",
    "    CommentArray = []  \n",
    "    \n",
    "    exists = subExists(subreddit)\n",
    "    \n",
    "    if (exists == False):\n",
    "        print(\"ERROR: subreddit '\", subreddit, \"' does not exist...\")\n",
    "        return None\n",
    "    \n",
    "    sub = r.subreddit(subreddit)\n",
    "    \n",
    "    threads = getThreads(sub)\n",
    "    \n",
    "    if (len(threads) < 1):\n",
    "        print(\"ERROR: unable to retrieve threads for subreddit:\", subreddit)\n",
    "    else:\n",
    "        print(\"Retrieved \", len(threads), \"threads...\")\n",
    "    \n",
    "    users = getUsersFromSubreddit(threads)\n",
    "    \n",
    "    if (len(users) < 1):\n",
    "        print(\"ERROR: unable to retrieve users for subreddit:\", subreddit)\n",
    "    else:\n",
    "        print(\"Retrieved \", len(users), \"users...\")\n",
    "    \n",
    "    for user in users:\n",
    "        try:\n",
    "            userComments = getUserComments(user)\n",
    "\n",
    "            if (userComments is not None):\n",
    "                userComments = \".\".join(userComments)\n",
    "                UserArray.append(user)\n",
    "                CommentArray.append(userComments)\n",
    "        except:\n",
    "            print(\"ERROR: something failed badly. moving on...\")\n",
    "        \n",
    "    df = pd.DataFrame(UserArray, columns = [\"Username\"])\n",
    "    df[\"Comments\"] = CommentArray\n",
    "    \n",
    "    print(\"Outputting dataframe with \", len(df), \"records\")\n",
    "    \n",
    "    return(df)"
   ]
  },
  {
   "cell_type": "code",
   "execution_count": null,
   "metadata": {
    "scrolled": false
   },
   "outputs": [
    {
     "name": "stdout",
     "output_type": "stream",
     "text": [
      "Retrieved  3 threads...\n",
      "--- Adding user: WorseThanHipster\n",
      "--- Adding user: oluek\n",
      "--- Adding user: RedInsulatedPatriot\n",
      "--- Adding user: sahtopi\n",
      "--- Adding user: rickjuly252012\n",
      "--- Adding user: BottomsMU\n",
      "--- Adding user: None\n",
      "--- Adding user: BenisonBT101\n",
      "--- Adding user: EasPerFunSkAt\n",
      "--- Adding user: UpboatOrNoBoat\n",
      "--- Adding user: danwin\n",
      "--- Adding user: RobinIsAGoodfellow\n",
      "--- Adding user: RichardTBarber\n",
      "--- Adding user: Apatches\n",
      "--- Adding user: senorworldwide\n",
      "--- Adding user: v1ct0r1us\n",
      "--- Adding user: Fredfries333\n",
      "--- Adding user: herple_derpskin\n",
      "--- Adding user: notfarenough\n",
      "--- Adding user: Ben--Affleck\n",
      "--- Adding user: ReasonOz\n",
      "--- Adding user: Squidler31\n",
      "--- Adding user: TheSliceman\n",
      "--- Adding user: billy492\n",
      "--- Adding user: tigris1427\n",
      "--- Adding user: Jackaboonie\n",
      "--- Adding user: razeal113\n",
      "--- Adding user: bat_mayn\n",
      "--- Adding user: Feartality\n",
      "--- Adding user: CoMoBroLetsGo\n",
      "--- Adding user: mimipath123456\n",
      "--- Adding user: sparkyumr98\n",
      "--- Adding user: xAIRGUITARISTx\n",
      "--- Adding user: texsurfin\n",
      "--- Adding user: Whynothaveanother123\n",
      "--- Adding user: Jayrate\n",
      "--- Adding user: EaseDel\n",
      "--- Adding user: Mori23\n",
      "--- Adding user: r0sco\n",
      "--- Adding user: topdeck55\n",
      "--- Adding user: the_trout_\n",
      "--- Adding user: blackisis6\n",
      "--- Adding user: redditors_are_racist\n",
      "--- Adding user: BrettGilpin\n",
      "--- Adding user: Ih8Hondas\n",
      "--- Adding user: PrancingPeach\n",
      "--- Adding user: Youareabadperson6\n",
      "--- Adding user: TruthFromAnAsshole\n",
      "--- Adding user: pisspoordecisions\n",
      "--- Adding user: nathan_295\n",
      "--- Adding user: BransonBombshell\n",
      "--- Adding user: DonaldJTrump2k16\n",
      "--- Adding user: MechEGuy\n",
      "--- Adding user: Mill_Otalius\n",
      "--- Adding user: SaigaFan\n",
      "--- Adding user: throwaysxz\n",
      "--- Adding user: kweazy\n",
      "--- Adding user: SonicFrost\n",
      "--- Adding user: KCTigerGrad\n",
      "--- Adding user: Birdsonbat\n",
      "--- Adding user: gibbey\n",
      "--- Adding user: genkaiX1\n",
      "--- Adding user: voatthrowaway0\n",
      "--- Adding user: photoswitchesaregay\n",
      "--- Adding user: AutoModerator\n",
      "--- Adding user: mexistential_gyro\n",
      "--- Adding user: SovreignTripod\n",
      "--- Adding user: disappointingpenis\n",
      "--- Adding user: cybercrimes_1999\n",
      "--- Adding user: zachnfty\n",
      "--- Adding user: LucidDreamer18\n",
      "--- Adding user: BmoreZou\n",
      "--- Adding user: SovietMD\n",
      "--- Adding user: mpfairchild\n",
      "--- Adding user: J_Tuck\n",
      "--- Adding user: wesknowsbest\n",
      "Retrieved  76 users...\n",
      "------ Retrieved 1833 comments for: WorseThanHipster\n",
      "------ Retrieved 908 comments for: oluek\n",
      "------ Retrieved 157 comments for: RedInsulatedPatriot\n",
      "------ Retrieved 1030 comments for: sahtopi\n",
      "------ Retrieved 1043 comments for: rickjuly252012\n",
      "------ Retrieved 1059 comments for: BottomsMU\n"
     ]
    }
   ],
   "source": [
    "mizzou = scrapeCommentsFromSubreddit(\"mizzou\")\n",
    "\n",
    "mizzou.to_csv(\"data/mizzou.csv\", index = False)"
   ]
  },
  {
   "cell_type": "code",
   "execution_count": null,
   "metadata": {},
   "outputs": [],
   "source": [
    "umich = scrapeCommentsFromSubreddit(\"uofm\")\n",
    "\n",
    "umich.to_csv(\"data/umich.csv\", index = False)"
   ]
  },
  {
   "cell_type": "code",
   "execution_count": null,
   "metadata": {
    "collapsed": true
   },
   "outputs": [],
   "source": [
    "chicago = scrapeCommentsFromSubreddit(\"chicago\")\n",
    "\n",
    "chicago.to_csv(\"data/chicago.csv\", index = False)"
   ]
  },
  {
   "cell_type": "code",
   "execution_count": null,
   "metadata": {
    "collapsed": true
   },
   "outputs": [],
   "source": [
    "columbia = scrapeCommentsFromSubreddit(\"columbiamo\")\n",
    "\n",
    "columbia.to_csv(\"data/columbia.csv\", index = False)"
   ]
  },
  {
   "cell_type": "code",
   "execution_count": null,
   "metadata": {
    "collapsed": true
   },
   "outputs": [],
   "source": [
    "dems = scrapeCommentsFromSubreddit(\"democrats\")\n",
    "\n",
    "dems.to_csv(\"data/dems.csv\", index = False)"
   ]
  },
  {
   "cell_type": "code",
   "execution_count": null,
   "metadata": {
    "collapsed": true
   },
   "outputs": [],
   "source": [
    "reps = scrapeCommentsFromSubreddit(\"republicans\")\n",
    "\n",
    "reps.to_csv(\"data/reps.csv\", index = False)"
   ]
  },
  {
   "cell_type": "code",
   "execution_count": null,
   "metadata": {
    "collapsed": true
   },
   "outputs": [],
   "source": [
    "bball = scrapeCommentsFromSubreddit(\"CollegeBasketball\")\n",
    "\n",
    "bball.to_csv(\"data/bball.csv\", index = False)"
   ]
  },
  {
   "cell_type": "code",
   "execution_count": null,
   "metadata": {
    "collapsed": true
   },
   "outputs": [],
   "source": [
    "austin = scrapeCommentsFromSubreddit(\"austin\")\n",
    "\n",
    "austin.to_csv(\"data/austin.csv\", index = False)"
   ]
  },
  {
   "cell_type": "code",
   "execution_count": null,
   "metadata": {
    "collapsed": true
   },
   "outputs": [],
   "source": []
  },
  {
   "cell_type": "code",
   "execution_count": null,
   "metadata": {
    "collapsed": true
   },
   "outputs": [],
   "source": []
  }
 ],
 "metadata": {
  "kernelspec": {
   "display_name": "Python 3",
   "language": "python",
   "name": "python3"
  },
  "language_info": {
   "codemirror_mode": {
    "name": "ipython",
    "version": 3
   },
   "file_extension": ".py",
   "mimetype": "text/x-python",
   "name": "python",
   "nbconvert_exporter": "python",
   "pygments_lexer": "ipython3",
   "version": "3.6.1"
  }
 },
 "nbformat": 4,
 "nbformat_minor": 2
}
